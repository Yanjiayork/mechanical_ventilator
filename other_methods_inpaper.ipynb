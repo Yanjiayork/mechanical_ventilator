{
 "cells": [
  {
   "cell_type": "code",
   "execution_count": 1,
   "metadata": {},
   "outputs": [],
   "source": [
    "import numpy as np\n",
    "from pandas import read_csv\n",
    "from sklearn import preprocessing, neighbors,svm\n",
    "from sklearn.ensemble import RandomForestClassifier\n",
    "from sklearn.naive_bayes import GaussianNB, MultinomialNB, BernoulliNB\n",
    "from sklearn.neural_network import MLPClassifier\n",
    "from sklearn.ensemble import RandomForestClassifier\n",
    "from sklearn.datasets import make_classification\n",
    "from sklearn.neighbors import KNeighborsClassifier\n",
    "from sklearn. ensemble import RandomForestClassifier, BaggingClassifier, AdaBoostClassifier, VotingClassifier, GradientBoostingClassifier\n",
    "from sklearn.tree import DecisionTreeClassifier\n",
    "from sklearn.linear_model import LogisticRegression\n",
    "from sklearn import tree\n",
    "import pandas as pd\n",
    "import matplotlib.pyplot as plt"
   ]
  },
  {
   "cell_type": "code",
   "execution_count": 2,
   "metadata": {},
   "outputs": [],
   "source": [
    "BG = BaggingClassifier(DecisionTreeClassifier(), max_samples= 0.5, max_features = 1.0, n_estimators = 20)\n",
    "RF = RandomForestClassifier(class_weight ={0: 3., 1: 1.})\n",
    "NN = MLPClassifier(solver='adam', hidden_layer_sizes=(512,))\n",
    "SV = svm.SVC(kernel='sigmoid', probability=True)\n",
    "ADA = AdaBoostClassifier()\n",
    "KNN = KNeighborsClassifier()\n",
    "DTC = tree.DecisionTreeClassifier()\n",
    "MNB = MultinomialNB()\n",
    "GBC = GradientBoostingClassifier()\n",
    "LR = LogisticRegression(class_weight ={0: 3., 1: 1.})"
   ]
  },
  {
   "cell_type": "code",
   "execution_count": null,
   "metadata": {},
   "outputs": [],
   "source": []
  },
  {
   "cell_type": "code",
   "execution_count": 3,
   "metadata": {},
   "outputs": [],
   "source": [
    "train_set=read_csv('data/train_set.csv')\n",
    "val_set=read_csv('data/val_set.csv')\n",
    "test_set=read_csv('data/test_set.csv')"
   ]
  },
  {
   "cell_type": "code",
   "execution_count": 4,
   "metadata": {},
   "outputs": [],
   "source": [
    "trainy=read_csv('data/trainy.csv')\n",
    "valy=read_csv('data/valy.csv')\n",
    "testy=read_csv('data/testy.csv')"
   ]
  },
  {
   "cell_type": "code",
   "execution_count": 5,
   "metadata": {},
   "outputs": [],
   "source": [
    "df = read_csv('data/orginal_data.csv')"
   ]
  },
  {
   "cell_type": "code",
   "execution_count": 6,
   "metadata": {},
   "outputs": [],
   "source": [
    "# make the range between 0 and 1\n",
    "column = list(train_set.columns.values)\n",
    "for col in column:\n",
    "    minimum = df[col].min()\n",
    "    maximum = df[col].max()\n",
    "    train_set[col] = (train_set[col] - minimum)/(maximum-minimum)\n",
    "    val_set[col] = (val_set[col] - minimum)/(maximum-minimum)\n",
    "    test_set[col] = (test_set[col] - minimum)/(maximum-minimum)"
   ]
  },
  {
   "cell_type": "code",
   "execution_count": 7,
   "metadata": {},
   "outputs": [
    {
     "name": "stderr",
     "output_type": "stream",
     "text": [
      "/Users/yanjia/anaconda3/lib/python3.7/site-packages/sklearn/ensemble/_bagging.py:645: DataConversionWarning: A column-vector y was passed when a 1d array was expected. Please change the shape of y to (n_samples, ), for example using ravel().\n",
      "  y = column_or_1d(y, warn=True)\n",
      "/Users/yanjia/anaconda3/lib/python3.7/site-packages/ipykernel_launcher.py:2: DataConversionWarning: A column-vector y was passed when a 1d array was expected. Please change the shape of y to (n_samples,), for example using ravel().\n",
      "  \n",
      "/Users/yanjia/anaconda3/lib/python3.7/site-packages/sklearn/neural_network/_multilayer_perceptron.py:934: DataConversionWarning: A column-vector y was passed when a 1d array was expected. Please change the shape of y to (n_samples, ), for example using ravel().\n",
      "  y = column_or_1d(y, warn=True)\n",
      "/Users/yanjia/anaconda3/lib/python3.7/site-packages/sklearn/neural_network/_multilayer_perceptron.py:470: ConvergenceWarning: lbfgs failed to converge (status=1):\n",
      "STOP: TOTAL NO. of ITERATIONS REACHED LIMIT.\n",
      "\n",
      "Increase the number of iterations (max_iter) or scale the data as shown in:\n",
      "    https://scikit-learn.org/stable/modules/preprocessing.html\n",
      "  self.n_iter_ = _check_optimize_result(\"lbfgs\", opt_res, self.max_iter)\n",
      "/Users/yanjia/anaconda3/lib/python3.7/site-packages/sklearn/utils/validation.py:760: DataConversionWarning: A column-vector y was passed when a 1d array was expected. Please change the shape of y to (n_samples, ), for example using ravel().\n",
      "  y = column_or_1d(y, warn=True)\n",
      "/Users/yanjia/anaconda3/lib/python3.7/site-packages/sklearn/utils/validation.py:760: DataConversionWarning: A column-vector y was passed when a 1d array was expected. Please change the shape of y to (n_samples, ), for example using ravel().\n",
      "  y = column_or_1d(y, warn=True)\n",
      "/Users/yanjia/anaconda3/lib/python3.7/site-packages/ipykernel_launcher.py:6: DataConversionWarning: A column-vector y was passed when a 1d array was expected. Please change the shape of y to (n_samples, ), for example using ravel().\n",
      "  \n",
      "/Users/yanjia/anaconda3/lib/python3.7/site-packages/sklearn/utils/validation.py:760: DataConversionWarning: A column-vector y was passed when a 1d array was expected. Please change the shape of y to (n_samples, ), for example using ravel().\n",
      "  y = column_or_1d(y, warn=True)\n",
      "/Users/yanjia/anaconda3/lib/python3.7/site-packages/sklearn/ensemble/_gb.py:1454: DataConversionWarning: A column-vector y was passed when a 1d array was expected. Please change the shape of y to (n_samples, ), for example using ravel().\n",
      "  y = column_or_1d(y, warn=True)\n",
      "/Users/yanjia/anaconda3/lib/python3.7/site-packages/sklearn/utils/validation.py:760: DataConversionWarning: A column-vector y was passed when a 1d array was expected. Please change the shape of y to (n_samples, ), for example using ravel().\n",
      "  y = column_or_1d(y, warn=True)\n"
     ]
    },
    {
     "data": {
      "text/plain": [
       "LogisticRegression(C=1.0, class_weight=None, dual=False, fit_intercept=True,\n",
       "                   intercept_scaling=1, l1_ratio=None, max_iter=100,\n",
       "                   multi_class='auto', n_jobs=None, penalty='l2',\n",
       "                   random_state=None, solver='lbfgs', tol=0.0001, verbose=0,\n",
       "                   warm_start=False)"
      ]
     },
     "execution_count": 7,
     "metadata": {},
     "output_type": "execute_result"
    }
   ],
   "source": [
    "BG.fit(train_set, trainy)\n",
    "RF.fit(train_set, trainy)\n",
    "NN.fit(train_set, trainy)\n",
    "SV.fit(train_set, trainy)\n",
    "ADA.fit(train_set, trainy)\n",
    "KNN.fit(train_set, trainy)\n",
    "DTC.fit(train_set, trainy)\n",
    "MNB.fit(train_set, trainy)\n",
    "GBC.fit(train_set, trainy)\n",
    "LR.fit(train_set, trainy)"
   ]
  },
  {
   "cell_type": "code",
   "execution_count": 8,
   "metadata": {},
   "outputs": [],
   "source": [
    "y_pred_bg = BG.predict(test_set)\n",
    "y_pred_rf = RF.predict(test_set)\n",
    "y_pred_nn = NN.predict(test_set)\n",
    "y_pred_sv = SV.predict(test_set)\n",
    "y_pred_ada = ADA.predict(test_set)\n",
    "y_pred_knn = KNN.predict(test_set)\n",
    "y_pred_dtc = DTC.predict(test_set)\n",
    "y_pred_mnb = MNB.predict(test_set)\n",
    "y_pred_gbc = GBC.predict(test_set)\n",
    "y_pred_lr = LR.predict(test_set)"
   ]
  },
  {
   "cell_type": "code",
   "execution_count": 9,
   "metadata": {},
   "outputs": [
    {
     "name": "stderr",
     "output_type": "stream",
     "text": [
      "/Users/yanjia/anaconda3/lib/python3.7/site-packages/tensorflow/python/framework/dtypes.py:516: FutureWarning: Passing (type, 1) or '1type' as a synonym of type is deprecated; in a future version of numpy, it will be understood as (type, (1,)) / '(1,)type'.\n",
      "  _np_qint8 = np.dtype([(\"qint8\", np.int8, 1)])\n",
      "/Users/yanjia/anaconda3/lib/python3.7/site-packages/tensorflow/python/framework/dtypes.py:517: FutureWarning: Passing (type, 1) or '1type' as a synonym of type is deprecated; in a future version of numpy, it will be understood as (type, (1,)) / '(1,)type'.\n",
      "  _np_quint8 = np.dtype([(\"quint8\", np.uint8, 1)])\n",
      "/Users/yanjia/anaconda3/lib/python3.7/site-packages/tensorflow/python/framework/dtypes.py:518: FutureWarning: Passing (type, 1) or '1type' as a synonym of type is deprecated; in a future version of numpy, it will be understood as (type, (1,)) / '(1,)type'.\n",
      "  _np_qint16 = np.dtype([(\"qint16\", np.int16, 1)])\n",
      "/Users/yanjia/anaconda3/lib/python3.7/site-packages/tensorflow/python/framework/dtypes.py:519: FutureWarning: Passing (type, 1) or '1type' as a synonym of type is deprecated; in a future version of numpy, it will be understood as (type, (1,)) / '(1,)type'.\n",
      "  _np_quint16 = np.dtype([(\"quint16\", np.uint16, 1)])\n",
      "/Users/yanjia/anaconda3/lib/python3.7/site-packages/tensorflow/python/framework/dtypes.py:520: FutureWarning: Passing (type, 1) or '1type' as a synonym of type is deprecated; in a future version of numpy, it will be understood as (type, (1,)) / '(1,)type'.\n",
      "  _np_qint32 = np.dtype([(\"qint32\", np.int32, 1)])\n",
      "/Users/yanjia/anaconda3/lib/python3.7/site-packages/tensorflow/python/framework/dtypes.py:525: FutureWarning: Passing (type, 1) or '1type' as a synonym of type is deprecated; in a future version of numpy, it will be understood as (type, (1,)) / '(1,)type'.\n",
      "  np_resource = np.dtype([(\"resource\", np.ubyte, 1)])\n"
     ]
    },
    {
     "name": "stdout",
     "output_type": "stream",
     "text": [
      "WARNING:tensorflow:From /Users/yanjia/anaconda3/lib/python3.7/site-packages/tensorflow/python/ops/init_ops.py:97: calling GlorotUniform.__init__ (from tensorflow.python.ops.init_ops) with dtype is deprecated and will be removed in a future version.\n",
      "Instructions for updating:\n",
      "Call initializer instance with the dtype argument instead of passing it to the constructor\n",
      "WARNING:tensorflow:From /Users/yanjia/anaconda3/lib/python3.7/site-packages/tensorflow/python/ops/init_ops.py:1251: calling VarianceScaling.__init__ (from tensorflow.python.ops.init_ops) with dtype is deprecated and will be removed in a future version.\n",
      "Instructions for updating:\n",
      "Call initializer instance with the dtype argument instead of passing it to the constructor\n",
      "WARNING:tensorflow:From /Users/yanjia/anaconda3/lib/python3.7/site-packages/tensorflow/python/ops/init_ops.py:97: calling Zeros.__init__ (from tensorflow.python.ops.init_ops) with dtype is deprecated and will be removed in a future version.\n",
      "Instructions for updating:\n",
      "Call initializer instance with the dtype argument instead of passing it to the constructor\n"
     ]
    },
    {
     "name": "stderr",
     "output_type": "stream",
     "text": [
      "/Users/yanjia/anaconda3/lib/python3.7/site-packages/tensorboard/compat/tensorflow_stub/dtypes.py:541: FutureWarning: Passing (type, 1) or '1type' as a synonym of type is deprecated; in a future version of numpy, it will be understood as (type, (1,)) / '(1,)type'.\n",
      "  _np_qint8 = np.dtype([(\"qint8\", np.int8, 1)])\n",
      "/Users/yanjia/anaconda3/lib/python3.7/site-packages/tensorboard/compat/tensorflow_stub/dtypes.py:542: FutureWarning: Passing (type, 1) or '1type' as a synonym of type is deprecated; in a future version of numpy, it will be understood as (type, (1,)) / '(1,)type'.\n",
      "  _np_quint8 = np.dtype([(\"quint8\", np.uint8, 1)])\n",
      "/Users/yanjia/anaconda3/lib/python3.7/site-packages/tensorboard/compat/tensorflow_stub/dtypes.py:543: FutureWarning: Passing (type, 1) or '1type' as a synonym of type is deprecated; in a future version of numpy, it will be understood as (type, (1,)) / '(1,)type'.\n",
      "  _np_qint16 = np.dtype([(\"qint16\", np.int16, 1)])\n",
      "/Users/yanjia/anaconda3/lib/python3.7/site-packages/tensorboard/compat/tensorflow_stub/dtypes.py:544: FutureWarning: Passing (type, 1) or '1type' as a synonym of type is deprecated; in a future version of numpy, it will be understood as (type, (1,)) / '(1,)type'.\n",
      "  _np_quint16 = np.dtype([(\"quint16\", np.uint16, 1)])\n",
      "/Users/yanjia/anaconda3/lib/python3.7/site-packages/tensorboard/compat/tensorflow_stub/dtypes.py:545: FutureWarning: Passing (type, 1) or '1type' as a synonym of type is deprecated; in a future version of numpy, it will be understood as (type, (1,)) / '(1,)type'.\n",
      "  _np_qint32 = np.dtype([(\"qint32\", np.int32, 1)])\n",
      "/Users/yanjia/anaconda3/lib/python3.7/site-packages/tensorboard/compat/tensorflow_stub/dtypes.py:550: FutureWarning: Passing (type, 1) or '1type' as a synonym of type is deprecated; in a future version of numpy, it will be understood as (type, (1,)) / '(1,)type'.\n",
      "  np_resource = np.dtype([(\"resource\", np.ubyte, 1)])\n"
     ]
    },
    {
     "name": "stdout",
     "output_type": "stream",
     "text": [
      "WARNING:tensorflow:From /Users/yanjia/anaconda3/lib/python3.7/site-packages/tensorflow/python/ops/nn_impl.py:180: add_dispatch_support.<locals>.wrapper (from tensorflow.python.ops.array_ops) is deprecated and will be removed in a future version.\n",
      "Instructions for updating:\n",
      "Use tf.where in 2.0, which has the same broadcast rule as np.where\n",
      "Model: \"sequential_1\"\n",
      "_________________________________________________________________\n",
      "Layer (type)                 Output Shape              Param #   \n",
      "=================================================================\n",
      "conv1d_4 (Conv1D)            (None, 25, 64)            128       \n",
      "_________________________________________________________________\n",
      "conv1d_5 (Conv1D)            (None, 25, 128)           8320      \n",
      "_________________________________________________________________\n",
      "conv1d_6 (Conv1D)            (None, 25, 256)           33024     \n",
      "_________________________________________________________________\n",
      "conv1d_7 (Conv1D)            (None, 25, 256)           65792     \n",
      "_________________________________________________________________\n",
      "dropout_1 (Dropout)          (None, 25, 256)           0         \n",
      "_________________________________________________________________\n",
      "flatten_1 (Flatten)          (None, 6400)              0         \n",
      "_________________________________________________________________\n",
      "dense_2 (Dense)              (None, 128)               819328    \n",
      "_________________________________________________________________\n",
      "dense_3 (Dense)              (None, 1)                 129       \n",
      "=================================================================\n",
      "Total params: 926,721\n",
      "Trainable params: 926,721\n",
      "Non-trainable params: 0\n",
      "_________________________________________________________________\n"
     ]
    }
   ],
   "source": [
    "from tensorflow.keras.models import model_from_json\n",
    "import tensorflow.keras.backend \n",
    "\n",
    "keras_model_weights = \"final_model/keras2_conv1d.h5\"\n",
    "keras_model_json = \"final_model/keras2_conv1d.json\"\n",
    "\n",
    "keras_model = model_from_json(open(keras_model_json).read())\n",
    "keras_model = tensorflow.keras.models.load_model(keras_model_weights)\n",
    "keras_model.summary()"
   ]
  },
  {
   "cell_type": "code",
   "execution_count": 45,
   "metadata": {},
   "outputs": [],
   "source": [
    "test_set_cnn = test_set.values\n",
    "test_set_cnn = np.reshape(test_set_cnn, (test_set_cnn.shape[0],test_set_cnn.shape[1],1))"
   ]
  },
  {
   "cell_type": "code",
   "execution_count": 133,
   "metadata": {},
   "outputs": [],
   "source": [
    "train_set_cnn = train_set.values\n",
    "train_set_cnn = np.reshape(train_set_cnn, (train_set_cnn.shape[0],train_set_cnn.shape[1],1))"
   ]
  },
  {
   "cell_type": "code",
   "execution_count": 46,
   "metadata": {},
   "outputs": [],
   "source": [
    "val_set_cnn = val_set.values\n",
    "val_set_cnn = np.reshape(val_set_cnn, (val_set_cnn.shape[0],val_set_cnn.shape[1],1))"
   ]
  },
  {
   "cell_type": "code",
   "execution_count": null,
   "metadata": {},
   "outputs": [],
   "source": []
  },
  {
   "cell_type": "code",
   "execution_count": 132,
   "metadata": {},
   "outputs": [
    {
     "data": {
      "image/png": "[encoded data removed]",
      "text/plain": [
       "<Figure size 576x576 with 1 Axes>"
      ]
     },
     "metadata": {
      "needs_background": "light"
     },
     "output_type": "display_data"
    }
   ],
   "source": [
    "from sklearn.metrics import roc_auc_score\n",
    "from sklearn.metrics import roc_curve, auc\n",
    "\n",
    "y_pred_test = keras_model.predict(test_set_cnn)\n",
    "y_pred_test = y_pred_test.ravel()\n",
    "y_true_test = testy.values.ravel()\n",
    "fpr_test, tpr_test, thresholds_test = roc_curve(y_true_test, y_pred_test)\n",
    "auc_test = auc(fpr_test, tpr_test)\n",
    "\n",
    "lr_roc_auc = roc_auc_score(testy, LR.predict(test_set))\n",
    "gbc_roc_auc = roc_auc_score(testy, GBC.predict(test_set))\n",
    "#mnb_roc_auc = roc_auc_score(testy, MNB.predict(test_set))\n",
    "dtc_roc_auc = roc_auc_score(testy, DTC.predict(test_set))\n",
    "#knn_roc_auc = roc_auc_score(testy, KNN.predict(test_set))\n",
    "#ada_roc_auc = roc_auc_score(testy, ADA.predict(test_set))\n",
    "sv_roc_auc = roc_auc_score(testy, SV.predict(test_set))\n",
    "nn_roc_auc = roc_auc_score(testy, NN.predict(test_set))\n",
    "rf_roc_auc = roc_auc_score(testy, RF.predict(test_set))\n",
    "#bg_roc_auc = roc_auc_score(testy, BG.predict(test_set))\n",
    "\n",
    "fpr_lr, tpr_lr, thresholds = roc_curve(testy, LR.predict_proba(test_set)[:,1])\n",
    "fpr_gbc, tpr_gbc, thresholds = roc_curve(testy, GBC.predict_proba(test_set)[:,1])\n",
    "#fpr_mnb, tpr_mnb, thresholds = roc_curve(testy, MNB.predict_proba(test_set)[:,1])\n",
    "fpr_dtc, tpr_dtc, thresholds = roc_curve(testy, DTC.predict_proba(test_set)[:,1])\n",
    "#fpr_knn, tpr_knn, thresholds = roc_curve(testy, KNN.predict_proba(test_set)[:,1])\n",
    "#fpr_ada, tpr_ada, thresholds = roc_curve(testy, ADA.predict_proba(test_set)[:,1])\n",
    "fpr_sv, tpr_sv, thresholds = roc_curve(testy, SV.predict_proba(test_set)[:,1] )\n",
    "fpr_nn, tpr_nn, thresholds = roc_curve(testy, NN.predict_proba(test_set)[:,1])\n",
    "fpr_rf, tpr_rf, thresholds = roc_curve(testy, RF.predict_proba(test_set)[:,1])\n",
    "#fpr_bg, tpr_bg, thresholds = roc_curve(testy, BG.predict_proba(test_set)[:,1])\n",
    "\n",
    "\n",
    "plt.figure(figsize=(8, 8))\n",
    "plt.plot(fpr_test, tpr_test, label= 'CNN (area = {:.2f})'.format(auc_test))\n",
    "plt.plot(fpr_nn, tpr_nn, label='ANN (area = %0.2f)' % nn_roc_auc)\n",
    "plt.plot(fpr_lr, tpr_lr, label='LR (area = %0.2f)' % lr_roc_auc)\n",
    "plt.plot(fpr_sv, tpr_sv, label='SVM (area = %0.2f)' % sv_roc_auc)\n",
    "plt.plot(fpr_dtc, tpr_dtc, label='DT (area = %0.2f)' % dtc_roc_auc)\n",
    "#plt.plot(fpr_gbc, tpr_gbc, label='GBM (area = %0.2f)' % gbc_roc_auc)\n",
    "plt.plot(fpr_rf, tpr_rf, label='RF (area = %0.2f)' % rf_roc_auc)\n",
    "\n",
    "#plt.plot(fpr_mnb, tpr_mnb, label='MNB (area = %0.2f)' % mnb_roc_auc)\n",
    "#plt.plot(fpr_knn, tpr_knn, label='KNN (area = %0.2f)' % knn_roc_auc)\n",
    "#plt.plot(fpr_ada, tpr_ada, label='ADA (area = %0.2f)' % ada_roc_auc)\n",
    "#plt.plot(fpr_bg, tpr_bg, label='BG (area = %0.2f)' % bg_roc_auc)\n",
    "\n",
    "\n",
    "plt.plot([0, 1], [0, 1],'r--')\n",
    "plt.xlim([0.0, 1.0])\n",
    "plt.ylim([0.0, 1.05])\n",
    "plt.xlabel('False Positive Rate')\n",
    "plt.ylabel('True Positive Rate')\n",
    "plt.title('ROC curve')\n",
    "plt.grid()\n",
    "plt.legend(loc='best')\n",
    "plt.savefig('Log_ROC')\n",
    "plt.show()"
   ]
  },
  {
   "cell_type": "code",
   "execution_count": null,
   "metadata": {},
   "outputs": [],
   "source": []
  },
  {
   "cell_type": "code",
   "execution_count": 112,
   "metadata": {},
   "outputs": [],
   "source": [
    "from sklearn.metrics import classification_report\n",
    "y_pred_val = keras_model.predict(val_set_cnn)\n",
    "y_pred_test = keras_model.predict(test_set_cnn)\n",
    "\n",
    "target_names = ['class 0', 'class 1']\n",
    "y_pred_test[y_pred_test>0.5] = 1\n",
    "y_pred_test[y_pred_test<=0.5] = 0\n",
    "y_pred_val[y_pred_val>0.5] = 1\n",
    "y_pred_val[y_pred_val<=0.5] = 0"
   ]
  },
  {
   "cell_type": "code",
   "execution_count": 137,
   "metadata": {},
   "outputs": [
    {
     "name": "stdout",
     "output_type": "stream",
     "text": [
      "19584/19584 [==============================] - 1s 34us/sample - loss: 0.3456 - acc: 0.8648\n"
     ]
    }
   ],
   "source": [
    "_, accuracy_test = keras_model.evaluate(test_set_cnn, testy, batch_size=128, verbose=1)"
   ]
  },
  {
   "cell_type": "code",
   "execution_count": 138,
   "metadata": {},
   "outputs": [
    {
     "name": "stdout",
     "output_type": "stream",
     "text": [
      "175976/175976 [==============================] - 5s 31us/sample - loss: 0.3227 - acc: 0.8799\n"
     ]
    }
   ],
   "source": [
    "_, accuracy_test = keras_model.evaluate(train_set_cnn, trainy, batch_size=128, verbose=1)"
   ]
  },
  {
   "cell_type": "code",
   "execution_count": 139,
   "metadata": {},
   "outputs": [
    {
     "name": "stdout",
     "output_type": "stream",
     "text": [
      "24531/24531 [==============================] - 1s 32us/sample - loss: 0.3498 - acc: 0.8605\n"
     ]
    }
   ],
   "source": [
    "_, accuracy_test = keras_model.evaluate(val_set_cnn, valy, batch_size=128, verbose=1)"
   ]
  },
  {
   "cell_type": "code",
   "execution_count": 81,
   "metadata": {},
   "outputs": [
    {
     "name": "stdout",
     "output_type": "stream",
     "text": [
      "              precision    recall  f1-score   support\n",
      "\n",
      "     class 0       0.69      0.86      0.77      5051\n",
      "     class 1       0.95      0.87      0.90     14533\n",
      "\n",
      "    accuracy                           0.86     19584\n",
      "   macro avg       0.82      0.86      0.84     19584\n",
      "weighted avg       0.88      0.86      0.87     19584\n",
      "\n"
     ]
    }
   ],
   "source": [
    "print(classification_report(testy.values, y_pred_test, target_names=target_names))"
   ]
  },
  {
   "cell_type": "code",
   "execution_count": 113,
   "metadata": {},
   "outputs": [
    {
     "data": {
      "text/plain": [
       "(0.8190869789650277, 0.863785895256262, 0.835823524697883, None)"
      ]
     },
     "execution_count": 113,
     "metadata": {},
     "output_type": "execute_result"
    }
   ],
   "source": [
    "precision_recall_fscore_support(testy.values, y_pred_test, average='macro')"
   ]
  },
  {
   "cell_type": "code",
   "execution_count": 114,
   "metadata": {},
   "outputs": [
    {
     "name": "stdout",
     "output_type": "stream",
     "text": [
      "              precision    recall  f1-score   support\n",
      "\n",
      "     class 0       0.81      0.56      0.67      5051\n",
      "     class 1       0.86      0.96      0.91     14533\n",
      "\n",
      "    accuracy                           0.85     19584\n",
      "   macro avg       0.84      0.76      0.79     19584\n",
      "weighted avg       0.85      0.85      0.84     19584\n",
      "\n"
     ]
    }
   ],
   "source": [
    "print(classification_report(testy.values, y_pred_nn, target_names=target_names))"
   ]
  },
  {
   "cell_type": "code",
   "execution_count": 111,
   "metadata": {},
   "outputs": [
    {
     "data": {
      "text/plain": [
       "(0.838762956571018, 0.7592687253606416, 0.7863487077416786, None)"
      ]
     },
     "execution_count": 111,
     "metadata": {},
     "output_type": "execute_result"
    }
   ],
   "source": [
    "precision_recall_fscore_support(testy.values, y_pred_nn, average='macro')"
   ]
  },
  {
   "cell_type": "code",
   "execution_count": 117,
   "metadata": {},
   "outputs": [
    {
     "name": "stdout",
     "output_type": "stream",
     "text": [
      "              precision    recall  f1-score   support\n",
      "\n",
      "     class 0       0.42      0.42      0.42      5051\n",
      "     class 1       0.80      0.80      0.80     14533\n",
      "\n",
      "    accuracy                           0.70     19584\n",
      "   macro avg       0.61      0.61      0.61     19584\n",
      "weighted avg       0.70      0.70      0.70     19584\n",
      "\n"
     ]
    }
   ],
   "source": [
    "print(classification_report(testy.values, y_pred_sv, target_names=target_names))"
   ]
  },
  {
   "cell_type": "code",
   "execution_count": 119,
   "metadata": {},
   "outputs": [
    {
     "name": "stdout",
     "output_type": "stream",
     "text": [
      "              precision    recall  f1-score   support\n",
      "\n",
      "     class 0       0.93      0.55      0.69      5051\n",
      "     class 1       0.86      0.99      0.92     14533\n",
      "\n",
      "    accuracy                           0.87     19584\n",
      "   macro avg       0.90      0.77      0.80     19584\n",
      "weighted avg       0.88      0.87      0.86     19584\n",
      "\n"
     ]
    }
   ],
   "source": [
    "print(classification_report(testy.values, y_pred_rf, target_names=target_names))"
   ]
  },
  {
   "cell_type": "code",
   "execution_count": 107,
   "metadata": {},
   "outputs": [
    {
     "data": {
      "text/plain": [
       "(0.8956323586837182, 0.7654287514173023, 0.8034290604525474, None)"
      ]
     },
     "execution_count": 107,
     "metadata": {},
     "output_type": "execute_result"
    }
   ],
   "source": [
    "precision_recall_fscore_support(testy.values, y_pred_rf, average='macro')"
   ]
  },
  {
   "cell_type": "code",
   "execution_count": 118,
   "metadata": {},
   "outputs": [
    {
     "name": "stdout",
     "output_type": "stream",
     "text": [
      "              precision    recall  f1-score   support\n",
      "\n",
      "     class 0       0.66      0.57      0.61      5051\n",
      "     class 1       0.86      0.90      0.88     14533\n",
      "\n",
      "    accuracy                           0.81     19584\n",
      "   macro avg       0.76      0.74      0.74     19584\n",
      "weighted avg       0.81      0.81      0.81     19584\n",
      "\n"
     ]
    }
   ],
   "source": [
    "print(classification_report(testy.values, y_pred_dtc, target_names=target_names))"
   ]
  },
  {
   "cell_type": "code",
   "execution_count": 140,
   "metadata": {},
   "outputs": [],
   "source": [
    "print(classification_report(test_set.values, y_pred_lr, target_names=target_names))"
   ]
  },
  {
   "cell_type": "code",
   "execution_count": null,
   "metadata": {},
   "outputs": [],
   "source": []
  },
  {
   "cell_type": "code",
   "execution_count": 128,
   "metadata": {},
   "outputs": [
    {
     "data": {
      "text/plain": [
       "(0.778639660235065, 0.8382995135437025, 0.7943828012004814, None)"
      ]
     },
     "execution_count": 128,
     "metadata": {},
     "output_type": "execute_result"
    }
   ],
   "source": [
    "from sklearn.metrics import precision_recall_fscore_support\n",
    "precision_recall_fscore_support(testy.values, y_pred_lr, average='macro')"
   ]
  },
  {
   "cell_type": "code",
   "execution_count": 130,
   "metadata": {},
   "outputs": [
    {
     "name": "stdout",
     "output_type": "stream",
     "text": [
      "Accuracy of logistic regression classifier on test set: 0.82\n"
     ]
    }
   ],
   "source": [
    "print('Accuracy of logistic regression classifier on test set: {:.2f}'.format(LR.score(test_set, testy)))"
   ]
  }
 ],
 "metadata": {
  "kernelspec": {
   "display_name": "Python 3",
   "language": "python",
   "name": "python3"
  },
  "language_info": {
   "codemirror_mode": {
    "name": "ipython",
    "version": 3
   },
   "file_extension": ".py",
   "mimetype": "text/x-python",
   "name": "python",
   "nbconvert_exporter": "python",
   "pygments_lexer": "ipython3",
   "version": "3.7.6"
  }
 },
 "nbformat": 4,
 "nbformat_minor": 4
}
