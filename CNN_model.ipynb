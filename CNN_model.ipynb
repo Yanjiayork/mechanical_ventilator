{
 "cells": [
  {
   "cell_type": "code",
   "execution_count": 2,
   "metadata": {},
   "outputs": [
    {
     "name": "stderr",
     "output_type": "stream",
     "text": [
      "/Users/yanjia/anaconda3/lib/python3.7/site-packages/tensorflow/python/framework/dtypes.py:516: FutureWarning: Passing (type, 1) or '1type' as a synonym of type is deprecated; in a future version of numpy, it will be understood as (type, (1,)) / '(1,)type'.\n",
      "  _np_qint8 = np.dtype([(\"qint8\", np.int8, 1)])\n",
      "/Users/yanjia/anaconda3/lib/python3.7/site-packages/tensorflow/python/framework/dtypes.py:517: FutureWarning: Passing (type, 1) or '1type' as a synonym of type is deprecated; in a future version of numpy, it will be understood as (type, (1,)) / '(1,)type'.\n",
      "  _np_quint8 = np.dtype([(\"quint8\", np.uint8, 1)])\n",
      "/Users/yanjia/anaconda3/lib/python3.7/site-packages/tensorflow/python/framework/dtypes.py:518: FutureWarning: Passing (type, 1) or '1type' as a synonym of type is deprecated; in a future version of numpy, it will be understood as (type, (1,)) / '(1,)type'.\n",
      "  _np_qint16 = np.dtype([(\"qint16\", np.int16, 1)])\n",
      "/Users/yanjia/anaconda3/lib/python3.7/site-packages/tensorflow/python/framework/dtypes.py:519: FutureWarning: Passing (type, 1) or '1type' as a synonym of type is deprecated; in a future version of numpy, it will be understood as (type, (1,)) / '(1,)type'.\n",
      "  _np_quint16 = np.dtype([(\"quint16\", np.uint16, 1)])\n",
      "/Users/yanjia/anaconda3/lib/python3.7/site-packages/tensorflow/python/framework/dtypes.py:520: FutureWarning: Passing (type, 1) or '1type' as a synonym of type is deprecated; in a future version of numpy, it will be understood as (type, (1,)) / '(1,)type'.\n",
      "  _np_qint32 = np.dtype([(\"qint32\", np.int32, 1)])\n",
      "/Users/yanjia/anaconda3/lib/python3.7/site-packages/tensorflow/python/framework/dtypes.py:525: FutureWarning: Passing (type, 1) or '1type' as a synonym of type is deprecated; in a future version of numpy, it will be understood as (type, (1,)) / '(1,)type'.\n",
      "  np_resource = np.dtype([(\"resource\", np.ubyte, 1)])\n",
      "/Users/yanjia/anaconda3/lib/python3.7/site-packages/tensorboard/compat/tensorflow_stub/dtypes.py:541: FutureWarning: Passing (type, 1) or '1type' as a synonym of type is deprecated; in a future version of numpy, it will be understood as (type, (1,)) / '(1,)type'.\n",
      "  _np_qint8 = np.dtype([(\"qint8\", np.int8, 1)])\n",
      "/Users/yanjia/anaconda3/lib/python3.7/site-packages/tensorboard/compat/tensorflow_stub/dtypes.py:542: FutureWarning: Passing (type, 1) or '1type' as a synonym of type is deprecated; in a future version of numpy, it will be understood as (type, (1,)) / '(1,)type'.\n",
      "  _np_quint8 = np.dtype([(\"quint8\", np.uint8, 1)])\n",
      "/Users/yanjia/anaconda3/lib/python3.7/site-packages/tensorboard/compat/tensorflow_stub/dtypes.py:543: FutureWarning: Passing (type, 1) or '1type' as a synonym of type is deprecated; in a future version of numpy, it will be understood as (type, (1,)) / '(1,)type'.\n",
      "  _np_qint16 = np.dtype([(\"qint16\", np.int16, 1)])\n",
      "/Users/yanjia/anaconda3/lib/python3.7/site-packages/tensorboard/compat/tensorflow_stub/dtypes.py:544: FutureWarning: Passing (type, 1) or '1type' as a synonym of type is deprecated; in a future version of numpy, it will be understood as (type, (1,)) / '(1,)type'.\n",
      "  _np_quint16 = np.dtype([(\"quint16\", np.uint16, 1)])\n",
      "/Users/yanjia/anaconda3/lib/python3.7/site-packages/tensorboard/compat/tensorflow_stub/dtypes.py:545: FutureWarning: Passing (type, 1) or '1type' as a synonym of type is deprecated; in a future version of numpy, it will be understood as (type, (1,)) / '(1,)type'.\n",
      "  _np_qint32 = np.dtype([(\"qint32\", np.int32, 1)])\n",
      "/Users/yanjia/anaconda3/lib/python3.7/site-packages/tensorboard/compat/tensorflow_stub/dtypes.py:550: FutureWarning: Passing (type, 1) or '1type' as a synonym of type is deprecated; in a future version of numpy, it will be understood as (type, (1,)) / '(1,)type'.\n",
      "  np_resource = np.dtype([(\"resource\", np.ubyte, 1)])\n"
     ]
    }
   ],
   "source": [
    "import numpy as np\n",
    "import pandas as pd\n",
    "from pandas import DataFrame\n",
    "from pandas import read_csv\n",
    "from matplotlib import pyplot\n",
    "import matplotlib.pyplot as plt\n",
    "from tensorflow.keras.models import Sequential\n",
    "from tensorflow.keras.layers import Dense\n",
    "from tensorflow.keras.layers import Flatten\n",
    "from tensorflow.keras.layers import Dropout\n",
    "from tensorflow.keras.layers import BatchNormalization\n",
    "#from keras_layer_normalization import LayerNormalization\n",
    "from tensorflow.keras.layers import Conv1D\n",
    "from tensorflow.keras.layers import MaxPooling1D\n",
    "from tensorflow.keras.utils import to_categorical\n",
    "from tensorflow.keras.callbacks import LearningRateScheduler\n",
    "from tensorflow.keras.regularizers import l2\n",
    "from tensorflow.keras.regularizers import l1\n",
    "#from tensorflow.keras.layers import LayerNormalization\n",
    "\n",
    "# supress deprecation warnings from TF\n",
    "import tensorflow as tf\n",
    "tf.compat.v1.logging.set_verbosity(tf.compat.v1.logging.ERROR)"
   ]
  },
  {
   "cell_type": "code",
   "execution_count": 3,
   "metadata": {},
   "outputs": [],
   "source": [
    "##############  read the train data and test data ##################################"
   ]
  },
  {
   "cell_type": "code",
   "execution_count": 4,
   "metadata": {},
   "outputs": [],
   "source": [
    "train_set=read_csv('data/train_set.csv')\n",
    "val_set=read_csv('data/val_set.csv')\n",
    "test_set=read_csv('data/test_set.csv')"
   ]
  },
  {
   "cell_type": "code",
   "execution_count": 5,
   "metadata": {},
   "outputs": [],
   "source": [
    "trainy=read_csv('data/trainy.csv')\n",
    "valy=read_csv('data/valy.csv')\n",
    "testy=read_csv('data/testy.csv')"
   ]
  },
  {
   "cell_type": "code",
   "execution_count": 6,
   "metadata": {},
   "outputs": [],
   "source": [
    "df = read_csv('data/orginal_data.csv')"
   ]
  },
  {
   "cell_type": "code",
   "execution_count": 7,
   "metadata": {},
   "outputs": [],
   "source": [
    "# make the range between 0 and 1\n",
    "column = list(train_set.columns.values)\n",
    "for col in column:\n",
    "    minimum = df[col].min()\n",
    "    maximum = df[col].max()\n",
    "    train_set[col] = (train_set[col] - minimum)/(maximum-minimum)\n",
    "    val_set[col] = (val_set[col] - minimum)/(maximum-minimum)\n",
    "    test_set[col] = (test_set[col] - minimum)/(maximum-minimum)"
   ]
  },
  {
   "cell_type": "code",
   "execution_count": 8,
   "metadata": {},
   "outputs": [
    {
     "data": {
      "text/html": [
       "<div>\n",
       "<style scoped>\n",
       "    .dataframe tbody tr th:only-of-type {\n",
       "        vertical-align: middle;\n",
       "    }\n",
       "\n",
       "    .dataframe tbody tr th {\n",
       "        vertical-align: top;\n",
       "    }\n",
       "\n",
       "    .dataframe thead th {\n",
       "        text-align: right;\n",
       "    }\n",
       "</style>\n",
       "<table border=\"1\" class=\"dataframe\">\n",
       "  <thead>\n",
       "    <tr style=\"text-align: right;\">\n",
       "      <th></th>\n",
       "      <th>Admittype</th>\n",
       "      <th>Ethnicity</th>\n",
       "      <th>Gender</th>\n",
       "      <th>Age</th>\n",
       "      <th>Admission Weight (Kg)</th>\n",
       "      <th>Heart Rate</th>\n",
       "      <th>Respiratory Rate</th>\n",
       "      <th>O2 saturation pulseoxymetry</th>\n",
       "      <th>Inspired O2 Fraction</th>\n",
       "      <th>PEEP set</th>\n",
       "      <th>...</th>\n",
       "      <th>Peak Insp. Pressure</th>\n",
       "      <th>O2 Flow</th>\n",
       "      <th>Plateau Pressure</th>\n",
       "      <th>Arterial O2 pressure</th>\n",
       "      <th>Arterial CO2 Pressure</th>\n",
       "      <th>Arterial Blood Pressure systolic</th>\n",
       "      <th>Arterial Blood Pressure diastolic</th>\n",
       "      <th>Arterial Blood Pressure mean</th>\n",
       "      <th>SBT_value</th>\n",
       "      <th>ventilator_category</th>\n",
       "    </tr>\n",
       "  </thead>\n",
       "  <tbody>\n",
       "    <tr>\n",
       "      <th>0</th>\n",
       "      <td>1.0</td>\n",
       "      <td>0.0</td>\n",
       "      <td>0.0</td>\n",
       "      <td>0.165179</td>\n",
       "      <td>0.567901</td>\n",
       "      <td>0.289308</td>\n",
       "      <td>0.128571</td>\n",
       "      <td>1.0</td>\n",
       "      <td>0.4</td>\n",
       "      <td>0.333333</td>\n",
       "      <td>...</td>\n",
       "      <td>0.612903</td>\n",
       "      <td>0.12</td>\n",
       "      <td>0.53125</td>\n",
       "      <td>0.289604</td>\n",
       "      <td>0.58209</td>\n",
       "      <td>0.268908</td>\n",
       "      <td>0.214953</td>\n",
       "      <td>0.154070</td>\n",
       "      <td>0.5</td>\n",
       "      <td>0.136364</td>\n",
       "    </tr>\n",
       "    <tr>\n",
       "      <th>1</th>\n",
       "      <td>1.0</td>\n",
       "      <td>0.0</td>\n",
       "      <td>0.0</td>\n",
       "      <td>0.165179</td>\n",
       "      <td>0.567901</td>\n",
       "      <td>0.210692</td>\n",
       "      <td>0.125000</td>\n",
       "      <td>1.0</td>\n",
       "      <td>0.4</td>\n",
       "      <td>0.333333</td>\n",
       "      <td>...</td>\n",
       "      <td>0.612903</td>\n",
       "      <td>0.12</td>\n",
       "      <td>0.53125</td>\n",
       "      <td>0.289604</td>\n",
       "      <td>0.58209</td>\n",
       "      <td>0.268908</td>\n",
       "      <td>0.214953</td>\n",
       "      <td>0.154070</td>\n",
       "      <td>0.5</td>\n",
       "      <td>0.136364</td>\n",
       "    </tr>\n",
       "    <tr>\n",
       "      <th>2</th>\n",
       "      <td>1.0</td>\n",
       "      <td>0.0</td>\n",
       "      <td>0.0</td>\n",
       "      <td>0.165179</td>\n",
       "      <td>0.567901</td>\n",
       "      <td>0.226415</td>\n",
       "      <td>0.128571</td>\n",
       "      <td>1.0</td>\n",
       "      <td>0.4</td>\n",
       "      <td>0.333333</td>\n",
       "      <td>...</td>\n",
       "      <td>0.612903</td>\n",
       "      <td>0.12</td>\n",
       "      <td>0.53125</td>\n",
       "      <td>0.289604</td>\n",
       "      <td>0.58209</td>\n",
       "      <td>0.268908</td>\n",
       "      <td>0.214953</td>\n",
       "      <td>0.154070</td>\n",
       "      <td>0.5</td>\n",
       "      <td>0.136364</td>\n",
       "    </tr>\n",
       "    <tr>\n",
       "      <th>3</th>\n",
       "      <td>1.0</td>\n",
       "      <td>0.0</td>\n",
       "      <td>0.0</td>\n",
       "      <td>0.165179</td>\n",
       "      <td>0.567901</td>\n",
       "      <td>0.257862</td>\n",
       "      <td>0.128571</td>\n",
       "      <td>1.0</td>\n",
       "      <td>0.4</td>\n",
       "      <td>0.333333</td>\n",
       "      <td>...</td>\n",
       "      <td>0.612903</td>\n",
       "      <td>0.12</td>\n",
       "      <td>0.53125</td>\n",
       "      <td>0.289604</td>\n",
       "      <td>0.58209</td>\n",
       "      <td>0.331933</td>\n",
       "      <td>0.242991</td>\n",
       "      <td>0.188953</td>\n",
       "      <td>0.5</td>\n",
       "      <td>0.136364</td>\n",
       "    </tr>\n",
       "    <tr>\n",
       "      <th>4</th>\n",
       "      <td>1.0</td>\n",
       "      <td>0.0</td>\n",
       "      <td>0.0</td>\n",
       "      <td>0.165179</td>\n",
       "      <td>0.567901</td>\n",
       "      <td>0.232704</td>\n",
       "      <td>0.128571</td>\n",
       "      <td>1.0</td>\n",
       "      <td>0.4</td>\n",
       "      <td>0.333333</td>\n",
       "      <td>...</td>\n",
       "      <td>0.548387</td>\n",
       "      <td>0.12</td>\n",
       "      <td>0.53125</td>\n",
       "      <td>0.289604</td>\n",
       "      <td>0.58209</td>\n",
       "      <td>0.184874</td>\n",
       "      <td>0.210280</td>\n",
       "      <td>0.142442</td>\n",
       "      <td>0.5</td>\n",
       "      <td>0.136364</td>\n",
       "    </tr>\n",
       "  </tbody>\n",
       "</table>\n",
       "<p>5 rows × 25 columns</p>\n",
       "</div>"
      ],
      "text/plain": [
       "   Admittype  Ethnicity  Gender       Age  Admission Weight (Kg)  Heart Rate  \\\n",
       "0        1.0        0.0     0.0  0.165179               0.567901    0.289308   \n",
       "1        1.0        0.0     0.0  0.165179               0.567901    0.210692   \n",
       "2        1.0        0.0     0.0  0.165179               0.567901    0.226415   \n",
       "3        1.0        0.0     0.0  0.165179               0.567901    0.257862   \n",
       "4        1.0        0.0     0.0  0.165179               0.567901    0.232704   \n",
       "\n",
       "   Respiratory Rate  O2 saturation pulseoxymetry  Inspired O2 Fraction  \\\n",
       "0          0.128571                          1.0                   0.4   \n",
       "1          0.125000                          1.0                   0.4   \n",
       "2          0.128571                          1.0                   0.4   \n",
       "3          0.128571                          1.0                   0.4   \n",
       "4          0.128571                          1.0                   0.4   \n",
       "\n",
       "   PEEP set  ...  Peak Insp. Pressure  O2 Flow  Plateau Pressure  \\\n",
       "0  0.333333  ...             0.612903     0.12           0.53125   \n",
       "1  0.333333  ...             0.612903     0.12           0.53125   \n",
       "2  0.333333  ...             0.612903     0.12           0.53125   \n",
       "3  0.333333  ...             0.612903     0.12           0.53125   \n",
       "4  0.333333  ...             0.548387     0.12           0.53125   \n",
       "\n",
       "   Arterial O2 pressure  Arterial CO2 Pressure  \\\n",
       "0              0.289604                0.58209   \n",
       "1              0.289604                0.58209   \n",
       "2              0.289604                0.58209   \n",
       "3              0.289604                0.58209   \n",
       "4              0.289604                0.58209   \n",
       "\n",
       "   Arterial Blood Pressure systolic  Arterial Blood Pressure diastolic  \\\n",
       "0                          0.268908                           0.214953   \n",
       "1                          0.268908                           0.214953   \n",
       "2                          0.268908                           0.214953   \n",
       "3                          0.331933                           0.242991   \n",
       "4                          0.184874                           0.210280   \n",
       "\n",
       "   Arterial Blood Pressure mean  SBT_value  ventilator_category  \n",
       "0                      0.154070        0.5             0.136364  \n",
       "1                      0.154070        0.5             0.136364  \n",
       "2                      0.154070        0.5             0.136364  \n",
       "3                      0.188953        0.5             0.136364  \n",
       "4                      0.142442        0.5             0.136364  \n",
       "\n",
       "[5 rows x 25 columns]"
      ]
     },
     "execution_count": 8,
     "metadata": {},
     "output_type": "execute_result"
    }
   ],
   "source": [
    "train_set.head()"
   ]
  },
  {
   "cell_type": "code",
   "execution_count": 9,
   "metadata": {},
   "outputs": [],
   "source": [
    "train_set = train_set.values\n",
    "val_set = val_set.values\n",
    "test_set = test_set.values"
   ]
  },
  {
   "cell_type": "code",
   "execution_count": 10,
   "metadata": {},
   "outputs": [],
   "source": [
    "train_set = np.reshape(train_set, (train_set.shape[0],train_set.shape[1],1))"
   ]
  },
  {
   "cell_type": "code",
   "execution_count": 11,
   "metadata": {},
   "outputs": [],
   "source": [
    "val_set = np.reshape(val_set, (val_set.shape[0],val_set.shape[1],1))"
   ]
  },
  {
   "cell_type": "code",
   "execution_count": 12,
   "metadata": {},
   "outputs": [],
   "source": [
    "test_set = np.reshape(test_set, (test_set.shape[0],test_set.shape[1],1))"
   ]
  },
  {
   "cell_type": "code",
   "execution_count": 13,
   "metadata": {},
   "outputs": [],
   "source": [
    "sess = tf.InteractiveSession()"
   ]
  },
  {
   "cell_type": "code",
   "execution_count": 14,
   "metadata": {},
   "outputs": [
    {
     "data": {
      "text/plain": [
       "25"
      ]
     },
     "execution_count": 14,
     "metadata": {},
     "output_type": "execute_result"
    }
   ],
   "source": [
    "len(train_set[0])"
   ]
  },
  {
   "cell_type": "code",
   "execution_count": 15,
   "metadata": {},
   "outputs": [],
   "source": [
    "zero = trainy[trainy['Vented_1']==0]\n",
    "one = trainy[trainy['Vented_1']==1]"
   ]
  },
  {
   "cell_type": "code",
   "execution_count": 16,
   "metadata": {},
   "outputs": [
    {
     "data": {
      "text/plain": [
       "((42685, 1), (133291, 1), (175976, 1))"
      ]
     },
     "execution_count": 16,
     "metadata": {},
     "output_type": "execute_result"
    }
   ],
   "source": [
    "zero.shape, one.shape, trainy.shape"
   ]
  },
  {
   "cell_type": "code",
   "execution_count": 17,
   "metadata": {},
   "outputs": [
    {
     "name": "stdout",
     "output_type": "stream",
     "text": [
      "Train on 175976 samples, validate on 24531 samples\n",
      "Epoch 1/50\n",
      "175976/175976 [==============================] - 28s 157us/sample - loss: 0.7132 - acc: 0.7977 - val_loss: 0.3785 - val_acc: 0.8489\n",
      "Epoch 2/50\n",
      "175976/175976 [==============================] - 30s 170us/sample - loss: 0.6463 - acc: 0.8180 - val_loss: 0.3671 - val_acc: 0.8600\n",
      "Epoch 3/50\n",
      "175976/175976 [==============================] - 32s 179us/sample - loss: 0.6296 - acc: 0.8281 - val_loss: 0.3499 - val_acc: 0.8773\n",
      "Epoch 4/50\n",
      "175976/175976 [==============================] - 32s 184us/sample - loss: 0.6200 - acc: 0.8321 - val_loss: 0.4041 - val_acc: 0.8464\n",
      "Epoch 5/50\n",
      "175976/175976 [==============================] - 33s 189us/sample - loss: 0.6100 - acc: 0.8356 - val_loss: 0.3473 - val_acc: 0.8863\n",
      "Epoch 6/50\n",
      "175976/175976 [==============================] - 33s 189us/sample - loss: 0.6077 - acc: 0.8363 - val_loss: 0.3538 - val_acc: 0.8676\n",
      "Epoch 7/50\n",
      "175976/175976 [==============================] - 34s 193us/sample - loss: 0.6048 - acc: 0.8376 - val_loss: 0.4046 - val_acc: 0.8331\n",
      "Epoch 8/50\n",
      "175976/175976 [==============================] - 35s 196us/sample - loss: 0.6027 - acc: 0.8381 - val_loss: 0.3873 - val_acc: 0.8512\n",
      "Epoch 9/50\n",
      "175976/175976 [==============================] - 35s 197us/sample - loss: 0.6053 - acc: 0.8370 - val_loss: 0.3739 - val_acc: 0.8704\n",
      "Epoch 10/50\n",
      "175976/175976 [==============================] - 35s 197us/sample - loss: 0.6039 - acc: 0.8381 - val_loss: 0.4168 - val_acc: 0.8353\n",
      "Epoch 11/50\n",
      "175976/175976 [==============================] - 36s 207us/sample - loss: 0.6045 - acc: 0.8378 - val_loss: 0.3582 - val_acc: 0.8641\n",
      "Epoch 12/50\n",
      "175976/175976 [==============================] - 35s 200us/sample - loss: 0.5641 - acc: 0.8501 - val_loss: 0.3613 - val_acc: 0.8612\n",
      "Epoch 13/50\n",
      "175976/175976 [==============================] - 37s 210us/sample - loss: 0.5461 - acc: 0.8561 - val_loss: 0.3622 - val_acc: 0.8632\n",
      "Epoch 14/50\n",
      "175976/175976 [==============================] - 37s 212us/sample - loss: 0.5394 - acc: 0.8563 - val_loss: 0.3574 - val_acc: 0.8596\n",
      "Epoch 15/50\n",
      " 19072/175976 [==>...........................] - ETA: 31s - loss: 0.5360 - acc: 0.8552"
     ]
    },
    {
     "ename": "KeyboardInterrupt",
     "evalue": "",
     "output_type": "error",
     "traceback": [
      "\u001b[0;31m---------------------------------------------------------------------------\u001b[0m",
      "\u001b[0;31mKeyboardInterrupt\u001b[0m                         Traceback (most recent call last)",
      "\u001b[0;32m<ipython-input-17-f4b0960c3bc2>\u001b[0m in \u001b[0;36m<module>\u001b[0;34m\u001b[0m\n\u001b[1;32m     34\u001b[0m \u001b[0mcnn_model\u001b[0m\u001b[0;34m.\u001b[0m\u001b[0mcompile\u001b[0m\u001b[0;34m(\u001b[0m\u001b[0mloss\u001b[0m\u001b[0;34m=\u001b[0m\u001b[0;34m'binary_crossentropy'\u001b[0m\u001b[0;34m,\u001b[0m \u001b[0moptimizer\u001b[0m\u001b[0;34m=\u001b[0m\u001b[0;34m'adam'\u001b[0m\u001b[0;34m,\u001b[0m \u001b[0mmetrics\u001b[0m\u001b[0;34m=\u001b[0m\u001b[0;34m[\u001b[0m\u001b[0;34m'accuracy'\u001b[0m\u001b[0;34m]\u001b[0m\u001b[0;34m)\u001b[0m\u001b[0;34m\u001b[0m\u001b[0;34m\u001b[0m\u001b[0m\n\u001b[1;32m     35\u001b[0m history = cnn_model.fit(train_set, trainy, validation_data=(val_set, valy), epochs=epochs, batch_size=batch_size, \n\u001b[0;32m---> 36\u001b[0;31m                     shuffle=True, callbacks=[lr_schedule], class_weight=class_weight, verbose=1)\n\u001b[0m\u001b[1;32m     37\u001b[0m \u001b[0;34m\u001b[0m\u001b[0m\n\u001b[1;32m     38\u001b[0m \u001b[0melapsed_time\u001b[0m \u001b[0;34m=\u001b[0m \u001b[0mtime\u001b[0m\u001b[0;34m.\u001b[0m\u001b[0mtime\u001b[0m\u001b[0;34m(\u001b[0m\u001b[0;34m)\u001b[0m \u001b[0;34m-\u001b[0m \u001b[0mstart_time\u001b[0m\u001b[0;34m\u001b[0m\u001b[0;34m\u001b[0m\u001b[0m\n",
      "\u001b[0;32m~/anaconda3/lib/python3.7/site-packages/tensorflow/python/keras/engine/training.py\u001b[0m in \u001b[0;36mfit\u001b[0;34m(self, x, y, batch_size, epochs, verbose, callbacks, validation_split, validation_data, shuffle, class_weight, sample_weight, initial_epoch, steps_per_epoch, validation_steps, validation_freq, max_queue_size, workers, use_multiprocessing, **kwargs)\u001b[0m\n\u001b[1;32m    778\u001b[0m           \u001b[0mvalidation_steps\u001b[0m\u001b[0;34m=\u001b[0m\u001b[0mvalidation_steps\u001b[0m\u001b[0;34m,\u001b[0m\u001b[0;34m\u001b[0m\u001b[0;34m\u001b[0m\u001b[0m\n\u001b[1;32m    779\u001b[0m           \u001b[0mvalidation_freq\u001b[0m\u001b[0;34m=\u001b[0m\u001b[0mvalidation_freq\u001b[0m\u001b[0;34m,\u001b[0m\u001b[0;34m\u001b[0m\u001b[0;34m\u001b[0m\u001b[0m\n\u001b[0;32m--> 780\u001b[0;31m           steps_name='steps_per_epoch')\n\u001b[0m\u001b[1;32m    781\u001b[0m \u001b[0;34m\u001b[0m\u001b[0m\n\u001b[1;32m    782\u001b[0m   def evaluate(self,\n",
      "\u001b[0;32m~/anaconda3/lib/python3.7/site-packages/tensorflow/python/keras/engine/training_arrays.py\u001b[0m in \u001b[0;36mmodel_iteration\u001b[0;34m(model, inputs, targets, sample_weights, batch_size, epochs, verbose, callbacks, val_inputs, val_targets, val_sample_weights, shuffle, initial_epoch, steps_per_epoch, validation_steps, validation_freq, mode, validation_in_fit, prepared_feed_values_from_dataset, steps_name, **kwargs)\u001b[0m\n\u001b[1;32m    361\u001b[0m \u001b[0;34m\u001b[0m\u001b[0m\n\u001b[1;32m    362\u001b[0m         \u001b[0;31m# Get outputs.\u001b[0m\u001b[0;34m\u001b[0m\u001b[0;34m\u001b[0m\u001b[0;34m\u001b[0m\u001b[0m\n\u001b[0;32m--> 363\u001b[0;31m         \u001b[0mbatch_outs\u001b[0m \u001b[0;34m=\u001b[0m \u001b[0mf\u001b[0m\u001b[0;34m(\u001b[0m\u001b[0mins_batch\u001b[0m\u001b[0;34m)\u001b[0m\u001b[0;34m\u001b[0m\u001b[0;34m\u001b[0m\u001b[0m\n\u001b[0m\u001b[1;32m    364\u001b[0m         \u001b[0;32mif\u001b[0m \u001b[0;32mnot\u001b[0m \u001b[0misinstance\u001b[0m\u001b[0;34m(\u001b[0m\u001b[0mbatch_outs\u001b[0m\u001b[0;34m,\u001b[0m \u001b[0mlist\u001b[0m\u001b[0;34m)\u001b[0m\u001b[0;34m:\u001b[0m\u001b[0;34m\u001b[0m\u001b[0;34m\u001b[0m\u001b[0m\n\u001b[1;32m    365\u001b[0m           \u001b[0mbatch_outs\u001b[0m \u001b[0;34m=\u001b[0m \u001b[0;34m[\u001b[0m\u001b[0mbatch_outs\u001b[0m\u001b[0;34m]\u001b[0m\u001b[0;34m\u001b[0m\u001b[0;34m\u001b[0m\u001b[0m\n",
      "\u001b[0;32m~/anaconda3/lib/python3.7/site-packages/tensorflow/python/keras/backend.py\u001b[0m in \u001b[0;36m__call__\u001b[0;34m(self, inputs)\u001b[0m\n\u001b[1;32m   3290\u001b[0m \u001b[0;34m\u001b[0m\u001b[0m\n\u001b[1;32m   3291\u001b[0m     fetched = self._callable_fn(*array_vals,\n\u001b[0;32m-> 3292\u001b[0;31m                                 run_metadata=self.run_metadata)\n\u001b[0m\u001b[1;32m   3293\u001b[0m     \u001b[0mself\u001b[0m\u001b[0;34m.\u001b[0m\u001b[0m_call_fetch_callbacks\u001b[0m\u001b[0;34m(\u001b[0m\u001b[0mfetched\u001b[0m\u001b[0;34m[\u001b[0m\u001b[0;34m-\u001b[0m\u001b[0mlen\u001b[0m\u001b[0;34m(\u001b[0m\u001b[0mself\u001b[0m\u001b[0;34m.\u001b[0m\u001b[0m_fetches\u001b[0m\u001b[0;34m)\u001b[0m\u001b[0;34m:\u001b[0m\u001b[0;34m]\u001b[0m\u001b[0;34m)\u001b[0m\u001b[0;34m\u001b[0m\u001b[0;34m\u001b[0m\u001b[0m\n\u001b[1;32m   3294\u001b[0m     output_structure = nest.pack_sequence_as(\n",
      "\u001b[0;32m~/anaconda3/lib/python3.7/site-packages/tensorflow/python/client/session.py\u001b[0m in \u001b[0;36m__call__\u001b[0;34m(self, *args, **kwargs)\u001b[0m\n\u001b[1;32m   1456\u001b[0m         ret = tf_session.TF_SessionRunCallable(self._session._session,\n\u001b[1;32m   1457\u001b[0m                                                \u001b[0mself\u001b[0m\u001b[0;34m.\u001b[0m\u001b[0m_handle\u001b[0m\u001b[0;34m,\u001b[0m \u001b[0margs\u001b[0m\u001b[0;34m,\u001b[0m\u001b[0;34m\u001b[0m\u001b[0;34m\u001b[0m\u001b[0m\n\u001b[0;32m-> 1458\u001b[0;31m                                                run_metadata_ptr)\n\u001b[0m\u001b[1;32m   1459\u001b[0m         \u001b[0;32mif\u001b[0m \u001b[0mrun_metadata\u001b[0m\u001b[0;34m:\u001b[0m\u001b[0;34m\u001b[0m\u001b[0;34m\u001b[0m\u001b[0m\n\u001b[1;32m   1460\u001b[0m           \u001b[0mproto_data\u001b[0m \u001b[0;34m=\u001b[0m \u001b[0mtf_session\u001b[0m\u001b[0;34m.\u001b[0m\u001b[0mTF_GetBuffer\u001b[0m\u001b[0;34m(\u001b[0m\u001b[0mrun_metadata_ptr\u001b[0m\u001b[0;34m)\u001b[0m\u001b[0;34m\u001b[0m\u001b[0;34m\u001b[0m\u001b[0m\n",
      "\u001b[0;31mKeyboardInterrupt\u001b[0m: "
     ]
    }
   ],
   "source": [
    "#cnn model input_shape=25*1\n",
    "import time\n",
    "start_time = time.time()\n",
    "\n",
    "n_timesteps, n_features, n_outputs = 1, 25, 1\n",
    "epochs, batch_size = 50, 128\n",
    "cnn_model = Sequential()\n",
    "cnn_model.add(Conv1D(filters=64, kernel_size=1, activation='relu',  kernel_regularizer= l2(0.0005), input_shape=(n_features, n_timesteps)))\n",
    "cnn_model.add(Conv1D(filters=128, kernel_size=1, activation='relu',  kernel_regularizer= l2(0.0005)))\n",
    "cnn_model.add(Conv1D(filters=256, kernel_size=1, activation='relu', kernel_regularizer= l2(0.0005)))\n",
    "#cnn_model.add(BatchNormalization())\n",
    "cnn_model.add(Conv1D(filters=256, kernel_size=1, activation='relu', kernel_regularizer= l2(0.0005)))\n",
    "#cnn_model.add(BatchNormalization())\n",
    "cnn_model.add(Dropout(0.5))\n",
    "#cnn_model.add(MaxPooling1D(pool_size=2))\n",
    "cnn_model.add(Flatten())\n",
    "cnn_model.add(Dense(128, activation='relu', kernel_regularizer=l2(0.0005)))\n",
    "cnn_model.add(Dense(n_outputs, activation='sigmoid'))\n",
    "\n",
    "def schedule(epoch):\n",
    "    if epoch<=10:\n",
    "        return 1e-2\n",
    "    elif epoch<= 20:\n",
    "        return 1e-3\n",
    "    elif epoch<=40:\n",
    "        return 1e-4\n",
    "    else:\n",
    "        return 1e-5\n",
    "\n",
    "lr_schedule= LearningRateScheduler(schedule)\n",
    "class_weight = {0: 3.,\n",
    "                1: 1.}\n",
    "\n",
    "cnn_model.compile(loss='binary_crossentropy', optimizer='adam', metrics=['accuracy'])\n",
    "history = cnn_model.fit(train_set, trainy, validation_data=(val_set, valy), epochs=epochs, batch_size=batch_size, \n",
    "                    shuffle=True, callbacks=[lr_schedule], class_weight=class_weight, verbose=1)\n",
    "\n",
    "elapsed_time = time.time() - start_time\n",
    "print(elapsed_time, 'seconds')"
   ]
  },
  {
   "cell_type": "code",
   "execution_count": 18,
   "metadata": {
    "scrolled": true
   },
   "outputs": [
    {
     "name": "stdout",
     "output_type": "stream",
     "text": [
      "Model: \"sequential\"\n",
      "_________________________________________________________________\n",
      "Layer (type)                 Output Shape              Param #   \n",
      "=================================================================\n",
      "conv1d (Conv1D)              (None, 25, 64)            128       \n",
      "_________________________________________________________________\n",
      "conv1d_1 (Conv1D)            (None, 25, 128)           8320      \n",
      "_________________________________________________________________\n",
      "conv1d_2 (Conv1D)            (None, 25, 256)           33024     \n",
      "_________________________________________________________________\n",
      "conv1d_3 (Conv1D)            (None, 25, 256)           65792     \n",
      "_________________________________________________________________\n",
      "dropout (Dropout)            (None, 25, 256)           0         \n",
      "_________________________________________________________________\n",
      "flatten (Flatten)            (None, 6400)              0         \n",
      "_________________________________________________________________\n",
      "dense (Dense)                (None, 128)               819328    \n",
      "_________________________________________________________________\n",
      "dense_1 (Dense)              (None, 1)                 129       \n",
      "=================================================================\n",
      "Total params: 926,721\n",
      "Trainable params: 926,721\n",
      "Non-trainable params: 0\n",
      "_________________________________________________________________\n"
     ]
    }
   ],
   "source": [
    "cnn_model.summary()"
   ]
  },
  {
   "cell_type": "code",
   "execution_count": 144,
   "metadata": {},
   "outputs": [
    {
     "data": {
      "image/png": "[encoded data removed]",
      "text/plain": [
       "<Figure size 432x288 with 1 Axes>"
      ]
     },
     "metadata": {
      "needs_background": "light"
     },
     "output_type": "display_data"
    }
   ],
   "source": [
    "# plot train and val loss\n",
    "plt.plot(history.history['loss'])\n",
    "plt.plot(history.history['val_loss'])\n",
    "plt.title('Model Loss')\n",
    "plt.ylabel('Loss')\n",
    "plt.xlabel('Epoch')\n",
    "plt.legend(['Train', 'Test'], loc='upper left')\n",
    "plt.show()"
   ]
  },
  {
   "cell_type": "code",
   "execution_count": 22,
   "metadata": {},
   "outputs": [
    {
     "name": "stdout",
     "output_type": "stream",
     "text": [
      "19584/19584 [==============================] - 1s 63us/sample - loss: 0.3456 - acc: 0.8648\n"
     ]
    }
   ],
   "source": [
    "# evaluate model\n",
    "_, accuracy_test = cnn_model.evaluate(test_set, testy, batch_size=batch_size, verbose=1)"
   ]
  },
  {
   "cell_type": "code",
   "execution_count": 23,
   "metadata": {},
   "outputs": [
    {
     "name": "stderr",
     "output_type": "stream",
     "text": [
      "Using TensorFlow backend.\n"
     ]
    },
    {
     "data": {
      "image/png": "[encoded data removed]",
      "text/plain": [
       "<Figure size 432x288 with 1 Axes>"
      ]
     },
     "metadata": {
      "needs_background": "light"
     },
     "output_type": "display_data"
    },
    {
     "data": {
      "image/png": "[encoded data removed]",
      "text/plain": [
       "<Figure size 432x288 with 1 Axes>"
      ]
     },
     "metadata": {
      "needs_background": "light"
     },
     "output_type": "display_data"
    }
   ],
   "source": [
    "#import glob\n",
    "import matplotlib.pyplot as plt\n",
    "#import cv2\n",
    "import pandas as pd\n",
    "\n",
    "import numpy as np\n",
    "from sklearn.metrics import roc_curve, auc\n",
    "\n",
    "#import models\n",
    "from keras.callbacks import ReduceLROnPlateau, ModelCheckpoint\n",
    "\n",
    "\n",
    "\n",
    "y_pred_val = cnn_model.predict(val_set)\n",
    "y_pred_val = y_pred_val.ravel()\n",
    "y_true_val = valy.values.ravel()\n",
    "fpr_val, tpr_val, thresholds_val = roc_curve(y_true_val, y_pred_val)\n",
    "auc_val = auc(fpr_val, tpr_val)\n",
    "\n",
    "\n",
    "y_pred_test = cnn_model.predict(test_set)\n",
    "y_pred_test = y_pred_test.ravel()\n",
    "y_true_test = testy.values.ravel()\n",
    "fpr_test, tpr_test, thresholds_test = roc_curve(y_true_test, y_pred_test)\n",
    "auc_test = auc(fpr_test, tpr_test)\n",
    "\n",
    "modelname = 'cnn_l2'\n",
    "\n",
    "plt.plot([0, 1], [0, 1], 'k--')\n",
    "#plt.plot(fpr_focusnet, tpr_focusnet, label= 'U-net (area = {:.3f})'.format(auc_focusnet))\n",
    "#plt.plot(fpr_attn_unet, tpr_attn_unet, label= 'U-net++ (area = {:.3f})'.format(auc_attn_unet))\n",
    "plt.plot(fpr_val, tpr_val, label= 'CNN Validation (area = {:.2f})'.format(auc_val))\n",
    "plt.plot(fpr_test, tpr_test, label= 'CNN Test (area = {:.2f})'.format(auc_test))\n",
    "#plt.plot(fpr_wide_unet, tpr_wide_unet, label= 'FocusnetAlpha1 (area = {:.3f})'.format(auc_wide_unet))\n",
    "plt.xlabel('False positive rate')\n",
    "plt.ylabel('True positive rate')\n",
    "plt.title('ROC curve')\n",
    "plt.grid()\n",
    "plt.legend(loc='best')\n",
    "plt.show()\n",
    "plt.savefig(modelname + '_auc.png')\n",
    "\n",
    "plt.xlim(0, 0.2)\n",
    "plt.ylim(0.8, 1)\n",
    "plt.plot([0, 1], [0, 1], 'k--')\n",
    "#plt.plot(fpr_focusnet, tpr_focusnet, label= 'U-net (area = {:.3f})'.format(auc_focusnet))\n",
    "#plt.plot(fpr_attn_unet, tpr_attn_unet, label= 'U-net++ (area = {:.3f})'.format(auc_attn_unet))\n",
    "plt.plot(fpr_val, tpr_val, label= 'CNN Validation (area = {:.3f})'.format(auc_val))\n",
    "plt.plot(fpr_test, tpr_test, label= 'CNN Test (area = {:.3f})'.format(auc_test))\n",
    "#plt.plot(fpr_wide_unet, tpr_wide_unet, label= 'FocusnetAlpha1 (area = {:.3f})'.format(auc_wide_unet))\n",
    "plt.xlabel('False positive rate')\n",
    "plt.ylabel('True positive rate')\n",
    "plt.title('ROC curve (zoomed in at top left)')\n",
    "plt.grid()\n",
    "plt.legend(loc='best')\n",
    "plt.show()"
   ]
  },
  {
   "cell_type": "code",
   "execution_count": 24,
   "metadata": {},
   "outputs": [],
   "source": [
    "from sklearn.metrics import classification_report"
   ]
  },
  {
   "cell_type": "code",
   "execution_count": 25,
   "metadata": {},
   "outputs": [],
   "source": [
    "target_names = ['class 0', 'class 1']\n",
    "y_pred_val[y_pred_val>0.5] = 1\n",
    "y_pred_val[y_pred_val<=0.5] = 0\n",
    "y_pred_test[y_pred_test>0.5] = 1\n",
    "y_pred_test[y_pred_test<=0.5] = 0"
   ]
  },
  {
   "cell_type": "code",
   "execution_count": 26,
   "metadata": {
    "scrolled": true
   },
   "outputs": [
    {
     "name": "stdout",
     "output_type": "stream",
     "text": [
      "              precision    recall  f1-score   support\n",
      "\n",
      "     class 0       0.66      0.89      0.76      6001\n",
      "     class 1       0.96      0.85      0.90     18530\n",
      "\n",
      "    accuracy                           0.86     24531\n",
      "   macro avg       0.81      0.87      0.83     24531\n",
      "weighted avg       0.89      0.86      0.87     24531\n",
      "\n"
     ]
    }
   ],
   "source": [
    "print(classification_report(valy.values, y_pred_val, target_names=target_names))"
   ]
  },
  {
   "cell_type": "code",
   "execution_count": 27,
   "metadata": {},
   "outputs": [
    {
     "name": "stdout",
     "output_type": "stream",
     "text": [
      "              precision    recall  f1-score   support\n",
      "\n",
      "     class 0       0.69      0.86      0.77      5051\n",
      "     class 1       0.95      0.87      0.90     14533\n",
      "\n",
      "    accuracy                           0.86     19584\n",
      "   macro avg       0.82      0.86      0.84     19584\n",
      "weighted avg       0.88      0.86      0.87     19584\n",
      "\n"
     ]
    }
   ],
   "source": [
    "print(classification_report(testy.values, y_pred_test, target_names=target_names))"
   ]
  },
  {
   "cell_type": "code",
   "execution_count": 28,
   "metadata": {},
   "outputs": [
    {
     "data": {
      "text/plain": [
       "(0.8648386437908496, 0.8648386437908496, 0.8648386437908496, None)"
      ]
     },
     "execution_count": 28,
     "metadata": {},
     "output_type": "execute_result"
    }
   ],
   "source": [
    "from sklearn.metrics import precision_recall_fscore_support\n",
    "precision_recall_fscore_support(testy.values, y_pred_test, average='micro')"
   ]
  },
  {
   "cell_type": "code",
   "execution_count": null,
   "metadata": {},
   "outputs": [],
   "source": []
  },
  {
   "cell_type": "code",
   "execution_count": null,
   "metadata": {},
   "outputs": [],
   "source": []
  },
  {
   "cell_type": "code",
   "execution_count": null,
   "metadata": {},
   "outputs": [],
   "source": [
    "from hyperopt import fmin, tpe, hp, Trials, STATUS_OK\n",
    "import time\n",
    "\n",
    "space = {\n",
    "    'regularize' : hp.uniform('regularize', 0.00001, 0.001)\n",
    "    #'filters' : hp.choice('filters', [32, 64, 128, 256]),\n",
    "    }\n",
    "\n",
    "def evluate_model(space):\n",
    "    #cnn model input_shape=25*1\n",
    "    \n",
    "    regularize = space['regularize']\n",
    "    #filters = space['filters']\n",
    "    n_timesteps, n_features, n_outputs = 1, 25, 1\n",
    "    epochs, batch_size = 30, 256\n",
    "    cnn_model = Sequential()\n",
    "    cnn_model.add(Conv1D(filters=64, kernel_size=1, activation='relu',  kernel_regularizer= l2(regularize), input_shape=(n_features, n_timesteps)))\n",
    "    cnn_model.add(Conv1D(filters=128, kernel_size=1, activation='relu',  kernel_regularizer= l2(regularize)))\n",
    "    cnn_model.add(Conv1D(filters=256, kernel_size=1, activation='relu', kernel_regularizer= l2(regularize)))\n",
    "    #cnn_model.add(BatchNormalization())\n",
    "    cnn_model.add(Conv1D(filters=256, kernel_size=1, activation='relu', kernel_regularizer= l2(regularize)))\n",
    "    #cnn_model.add(BatchNormalization())\n",
    "    cnn_model.add(Dropout(0.5))\n",
    "    #cnn_model.add(MaxPooling1D(pool_size=2))\n",
    "    cnn_model.add(Flatten())\n",
    "    cnn_model.add(Dense(128, activation='relu', kernel_regularizer=l2(regularize)))\n",
    "    cnn_model.add(Dense(n_outputs, activation='sigmoid'))\n",
    "\n",
    "    def schedule(epoch):\n",
    "        if epoch<=10:\n",
    "            return 1e-2\n",
    "        elif epoch<=20:\n",
    "            return 1e-3\n",
    "        elif epoch<=40:\n",
    "            return 1e-4\n",
    "        else:\n",
    "            return 1e-5\n",
    "\n",
    "    lr_schedule= LearningRateScheduler(schedule)\n",
    "    class_weight = {0: 4.,\n",
    "                    1: 1.}\n",
    "\n",
    "    cnn_model.compile(loss='binary_crossentropy', optimizer='adam', metrics=['accuracy'])\n",
    "    history = cnn_model.fit(train_set, trainy, validation_data=(val_set, valy), epochs=epochs, batch_size=batch_size, \n",
    "                    shuffle=True, callbacks=[lr_schedule],  class_weight=class_weight, verbose=0)\n",
    "    _, accuracy = cnn_model.evaluate(test_set, testy, batch_size=batch_size, verbose=0)   \n",
    "    return accuracy\n",
    "\n",
    "trials = Trials()\n",
    "start_time = time.time()\n",
    "best= fmin(fn=evluate_model, space=space, algo=tpe.suggest, max_evals=20, trials=trials)\n",
    "elapsed_time = time.time() - start_time\n",
    "print('best: {}'.format(best))\n",
    "print(elapsed_time, 'hours')"
   ]
  },
  {
   "cell_type": "code",
   "execution_count": null,
   "metadata": {},
   "outputs": [],
   "source": []
  },
  {
   "cell_type": "code",
   "execution_count": null,
   "metadata": {},
   "outputs": [],
   "source": []
  },
  {
   "cell_type": "code",
   "execution_count": 139,
   "metadata": {},
   "outputs": [],
   "source": [
    "cnn_model.save(\"final_model/keras2_conv1d.h5\")"
   ]
  },
  {
   "cell_type": "code",
   "execution_count": 140,
   "metadata": {},
   "outputs": [],
   "source": [
    "model_json = cnn_model.to_json()\n",
    "with open(\"final_model/keras2_conv1d.json\", \"w\") as json_file:\n",
    "    json_file.write(model_json)"
   ]
  },
  {
   "cell_type": "code",
   "execution_count": null,
   "metadata": {},
   "outputs": [],
   "source": []
  }
 ],
 "metadata": {
  "kernelspec": {
   "display_name": "Python 3",
   "language": "python",
   "name": "python3"
  },
  "language_info": {
   "codemirror_mode": {
    "name": "ipython",
    "version": 3
   },
   "file_extension": ".py",
   "mimetype": "text/x-python",
   "name": "python",
   "nbconvert_exporter": "python",
   "pygments_lexer": "ipython3",
   "version": "3.7.6"
  }
 },
 "nbformat": 4,
 "nbformat_minor": 4
}
