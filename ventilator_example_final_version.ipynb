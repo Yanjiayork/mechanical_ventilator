{
 "cells": [
  {
   "cell_type": "code",
   "execution_count": 1,
   "metadata": {
    "scrolled": true
   },
   "outputs": [
    {
     "name": "stderr",
     "output_type": "stream",
     "text": [
      "/Users/yanjia/anaconda3/lib/python3.7/site-packages/tensorflow/python/framework/dtypes.py:516: FutureWarning: Passing (type, 1) or '1type' as a synonym of type is deprecated; in a future version of numpy, it will be understood as (type, (1,)) / '(1,)type'.\n",
      "  _np_qint8 = np.dtype([(\"qint8\", np.int8, 1)])\n",
      "/Users/yanjia/anaconda3/lib/python3.7/site-packages/tensorflow/python/framework/dtypes.py:517: FutureWarning: Passing (type, 1) or '1type' as a synonym of type is deprecated; in a future version of numpy, it will be understood as (type, (1,)) / '(1,)type'.\n",
      "  _np_quint8 = np.dtype([(\"quint8\", np.uint8, 1)])\n",
      "/Users/yanjia/anaconda3/lib/python3.7/site-packages/tensorflow/python/framework/dtypes.py:518: FutureWarning: Passing (type, 1) or '1type' as a synonym of type is deprecated; in a future version of numpy, it will be understood as (type, (1,)) / '(1,)type'.\n",
      "  _np_qint16 = np.dtype([(\"qint16\", np.int16, 1)])\n",
      "/Users/yanjia/anaconda3/lib/python3.7/site-packages/tensorflow/python/framework/dtypes.py:519: FutureWarning: Passing (type, 1) or '1type' as a synonym of type is deprecated; in a future version of numpy, it will be understood as (type, (1,)) / '(1,)type'.\n",
      "  _np_quint16 = np.dtype([(\"quint16\", np.uint16, 1)])\n",
      "/Users/yanjia/anaconda3/lib/python3.7/site-packages/tensorflow/python/framework/dtypes.py:520: FutureWarning: Passing (type, 1) or '1type' as a synonym of type is deprecated; in a future version of numpy, it will be understood as (type, (1,)) / '(1,)type'.\n",
      "  _np_qint32 = np.dtype([(\"qint32\", np.int32, 1)])\n",
      "/Users/yanjia/anaconda3/lib/python3.7/site-packages/tensorflow/python/framework/dtypes.py:525: FutureWarning: Passing (type, 1) or '1type' as a synonym of type is deprecated; in a future version of numpy, it will be understood as (type, (1,)) / '(1,)type'.\n",
      "  np_resource = np.dtype([(\"resource\", np.ubyte, 1)])\n",
      "/Users/yanjia/anaconda3/lib/python3.7/site-packages/tensorboard/compat/tensorflow_stub/dtypes.py:541: FutureWarning: Passing (type, 1) or '1type' as a synonym of type is deprecated; in a future version of numpy, it will be understood as (type, (1,)) / '(1,)type'.\n",
      "  _np_qint8 = np.dtype([(\"qint8\", np.int8, 1)])\n",
      "/Users/yanjia/anaconda3/lib/python3.7/site-packages/tensorboard/compat/tensorflow_stub/dtypes.py:542: FutureWarning: Passing (type, 1) or '1type' as a synonym of type is deprecated; in a future version of numpy, it will be understood as (type, (1,)) / '(1,)type'.\n",
      "  _np_quint8 = np.dtype([(\"quint8\", np.uint8, 1)])\n",
      "/Users/yanjia/anaconda3/lib/python3.7/site-packages/tensorboard/compat/tensorflow_stub/dtypes.py:543: FutureWarning: Passing (type, 1) or '1type' as a synonym of type is deprecated; in a future version of numpy, it will be understood as (type, (1,)) / '(1,)type'.\n",
      "  _np_qint16 = np.dtype([(\"qint16\", np.int16, 1)])\n",
      "/Users/yanjia/anaconda3/lib/python3.7/site-packages/tensorboard/compat/tensorflow_stub/dtypes.py:544: FutureWarning: Passing (type, 1) or '1type' as a synonym of type is deprecated; in a future version of numpy, it will be understood as (type, (1,)) / '(1,)type'.\n",
      "  _np_quint16 = np.dtype([(\"quint16\", np.uint16, 1)])\n",
      "/Users/yanjia/anaconda3/lib/python3.7/site-packages/tensorboard/compat/tensorflow_stub/dtypes.py:545: FutureWarning: Passing (type, 1) or '1type' as a synonym of type is deprecated; in a future version of numpy, it will be understood as (type, (1,)) / '(1,)type'.\n",
      "  _np_qint32 = np.dtype([(\"qint32\", np.int32, 1)])\n",
      "/Users/yanjia/anaconda3/lib/python3.7/site-packages/tensorboard/compat/tensorflow_stub/dtypes.py:550: FutureWarning: Passing (type, 1) or '1type' as a synonym of type is deprecated; in a future version of numpy, it will be understood as (type, (1,)) / '(1,)type'.\n",
      "  np_resource = np.dtype([(\"resource\", np.ubyte, 1)])\n",
      "Using TensorFlow backend.\n"
     ]
    }
   ],
   "source": [
    "from __future__ import division\n",
    "from __future__ import print_function\n",
    "from __future__ import absolute_import\n",
    "from __future__ import unicode_literals  \n",
    "\n",
    "import numpy as np\n",
    "import IPython\n",
    "import pandas as pd\n",
    "import tensorflow as tf\n",
    "\n",
    "import influence.experiments as experiments\n",
    "from influence.all_CNN_1d import All_CNN_1d"
   ]
  },
  {
   "cell_type": "code",
   "execution_count": 2,
   "metadata": {},
   "outputs": [],
   "source": [
    "import influence.dataset as dataset\n",
    "from influence.dataset import DataSet\n",
    "from tensorflow.contrib.learn.python.learn.datasets import base"
   ]
  },
  {
   "cell_type": "code",
   "execution_count": 3,
   "metadata": {},
   "outputs": [],
   "source": [
    "np.random.seed(42)"
   ]
  },
  {
   "cell_type": "code",
   "execution_count": 4,
   "metadata": {},
   "outputs": [],
   "source": [
    "#### creating the dataset which is consistent with the dataset modul \n",
    "\n",
    "\n",
    "train_set=pd.read_csv('data_vent/train_set.csv')\n",
    "val_set=pd.read_csv('data_vent/val_set.csv')\n",
    "test_set=pd.read_csv('data_vent/test_set.csv')"
   ]
  },
  {
   "cell_type": "code",
   "execution_count": 5,
   "metadata": {},
   "outputs": [],
   "source": [
    "trainy=pd.read_csv('data_vent/trainy.csv')\n",
    "valy=pd.read_csv('data_vent/valy.csv')\n",
    "testy=pd.read_csv('data_vent/testy.csv')"
   ]
  },
  {
   "cell_type": "code",
   "execution_count": 6,
   "metadata": {},
   "outputs": [],
   "source": [
    "df = pd.read_csv('data_vent/orginal_data.csv')"
   ]
  },
  {
   "cell_type": "code",
   "execution_count": 7,
   "metadata": {},
   "outputs": [],
   "source": [
    "# make the range between 0 and 1\n",
    "column = list(train_set.columns.values)\n",
    "for col in column:\n",
    "    minimum = df[col].min()\n",
    "    maximum = df[col].max()\n",
    "    train_set[col] = (train_set[col] - minimum)/(maximum-minimum)\n",
    "    val_set[col] = (val_set[col] - minimum)/(maximum-minimum)\n",
    "    test_set[col] = (test_set[col] - minimum)/(maximum-minimum)"
   ]
  },
  {
   "cell_type": "code",
   "execution_count": 8,
   "metadata": {},
   "outputs": [],
   "source": [
    "train_set = train_set.iloc[104:]"
   ]
  },
  {
   "cell_type": "code",
   "execution_count": 9,
   "metadata": {},
   "outputs": [],
   "source": [
    "trainy = trainy.iloc[104:]"
   ]
  },
  {
   "cell_type": "code",
   "execution_count": 10,
   "metadata": {},
   "outputs": [
    {
     "data": {
      "text/plain": [
       "(175872, 25)"
      ]
     },
     "execution_count": 10,
     "metadata": {},
     "output_type": "execute_result"
    }
   ],
   "source": [
    "train_set.shape"
   ]
  },
  {
   "cell_type": "code",
   "execution_count": 11,
   "metadata": {},
   "outputs": [
    {
     "data": {
      "text/html": [
       "<div>\n",
       "<style scoped>\n",
       "    .dataframe tbody tr th:only-of-type {\n",
       "        vertical-align: middle;\n",
       "    }\n",
       "\n",
       "    .dataframe tbody tr th {\n",
       "        vertical-align: top;\n",
       "    }\n",
       "\n",
       "    .dataframe thead th {\n",
       "        text-align: right;\n",
       "    }\n",
       "</style>\n",
       "<table border=\"1\" class=\"dataframe\">\n",
       "  <thead>\n",
       "    <tr style=\"text-align: right;\">\n",
       "      <th></th>\n",
       "      <th>Admittype</th>\n",
       "      <th>Ethnicity</th>\n",
       "      <th>Gender</th>\n",
       "      <th>Age</th>\n",
       "      <th>Admission Weight (Kg)</th>\n",
       "      <th>Heart Rate</th>\n",
       "      <th>Respiratory Rate</th>\n",
       "      <th>O2 saturation pulseoxymetry</th>\n",
       "      <th>Inspired O2 Fraction</th>\n",
       "      <th>PEEP set</th>\n",
       "      <th>...</th>\n",
       "      <th>Peak Insp. Pressure</th>\n",
       "      <th>O2 Flow</th>\n",
       "      <th>Plateau Pressure</th>\n",
       "      <th>Arterial O2 pressure</th>\n",
       "      <th>Arterial CO2 Pressure</th>\n",
       "      <th>Arterial Blood Pressure systolic</th>\n",
       "      <th>Arterial Blood Pressure diastolic</th>\n",
       "      <th>Arterial Blood Pressure mean</th>\n",
       "      <th>SBT_value</th>\n",
       "      <th>ventilator_category</th>\n",
       "    </tr>\n",
       "  </thead>\n",
       "  <tbody>\n",
       "    <tr>\n",
       "      <th>104</th>\n",
       "      <td>1.0</td>\n",
       "      <td>0.0</td>\n",
       "      <td>0.0</td>\n",
       "      <td>0.165179</td>\n",
       "      <td>0.567901</td>\n",
       "      <td>0.333333</td>\n",
       "      <td>0.142857</td>\n",
       "      <td>0.96</td>\n",
       "      <td>0.35</td>\n",
       "      <td>0.333333</td>\n",
       "      <td>...</td>\n",
       "      <td>0.322581</td>\n",
       "      <td>0.48</td>\n",
       "      <td>0.375</td>\n",
       "      <td>0.178218</td>\n",
       "      <td>0.895522</td>\n",
       "      <td>0.382353</td>\n",
       "      <td>0.378505</td>\n",
       "      <td>0.258721</td>\n",
       "      <td>0.5</td>\n",
       "      <td>0.272727</td>\n",
       "    </tr>\n",
       "    <tr>\n",
       "      <th>105</th>\n",
       "      <td>1.0</td>\n",
       "      <td>0.0</td>\n",
       "      <td>0.0</td>\n",
       "      <td>0.165179</td>\n",
       "      <td>0.567901</td>\n",
       "      <td>0.264151</td>\n",
       "      <td>0.214286</td>\n",
       "      <td>0.98</td>\n",
       "      <td>0.35</td>\n",
       "      <td>0.333333</td>\n",
       "      <td>...</td>\n",
       "      <td>0.322581</td>\n",
       "      <td>0.48</td>\n",
       "      <td>0.375</td>\n",
       "      <td>0.178218</td>\n",
       "      <td>0.895522</td>\n",
       "      <td>0.382353</td>\n",
       "      <td>0.378505</td>\n",
       "      <td>0.258721</td>\n",
       "      <td>0.5</td>\n",
       "      <td>0.272727</td>\n",
       "    </tr>\n",
       "    <tr>\n",
       "      <th>106</th>\n",
       "      <td>1.0</td>\n",
       "      <td>0.0</td>\n",
       "      <td>0.0</td>\n",
       "      <td>0.165179</td>\n",
       "      <td>0.567901</td>\n",
       "      <td>0.251572</td>\n",
       "      <td>0.171429</td>\n",
       "      <td>0.96</td>\n",
       "      <td>0.36</td>\n",
       "      <td>0.333333</td>\n",
       "      <td>...</td>\n",
       "      <td>0.322581</td>\n",
       "      <td>0.48</td>\n",
       "      <td>0.375</td>\n",
       "      <td>0.178218</td>\n",
       "      <td>0.895522</td>\n",
       "      <td>0.382353</td>\n",
       "      <td>0.378505</td>\n",
       "      <td>0.258721</td>\n",
       "      <td>0.5</td>\n",
       "      <td>0.272727</td>\n",
       "    </tr>\n",
       "    <tr>\n",
       "      <th>107</th>\n",
       "      <td>1.0</td>\n",
       "      <td>0.0</td>\n",
       "      <td>0.0</td>\n",
       "      <td>0.165179</td>\n",
       "      <td>0.567901</td>\n",
       "      <td>0.283019</td>\n",
       "      <td>0.178571</td>\n",
       "      <td>0.96</td>\n",
       "      <td>0.36</td>\n",
       "      <td>0.333333</td>\n",
       "      <td>...</td>\n",
       "      <td>0.322581</td>\n",
       "      <td>0.48</td>\n",
       "      <td>0.375</td>\n",
       "      <td>0.178218</td>\n",
       "      <td>0.895522</td>\n",
       "      <td>0.382353</td>\n",
       "      <td>0.378505</td>\n",
       "      <td>0.258721</td>\n",
       "      <td>0.5</td>\n",
       "      <td>0.272727</td>\n",
       "    </tr>\n",
       "    <tr>\n",
       "      <th>108</th>\n",
       "      <td>1.0</td>\n",
       "      <td>0.0</td>\n",
       "      <td>0.0</td>\n",
       "      <td>0.165179</td>\n",
       "      <td>0.567901</td>\n",
       "      <td>0.270440</td>\n",
       "      <td>0.221429</td>\n",
       "      <td>0.96</td>\n",
       "      <td>0.36</td>\n",
       "      <td>0.333333</td>\n",
       "      <td>...</td>\n",
       "      <td>0.322581</td>\n",
       "      <td>0.48</td>\n",
       "      <td>0.375</td>\n",
       "      <td>0.178218</td>\n",
       "      <td>0.895522</td>\n",
       "      <td>0.382353</td>\n",
       "      <td>0.378505</td>\n",
       "      <td>0.258721</td>\n",
       "      <td>0.5</td>\n",
       "      <td>0.272727</td>\n",
       "    </tr>\n",
       "  </tbody>\n",
       "</table>\n",
       "<p>5 rows × 25 columns</p>\n",
       "</div>"
      ],
      "text/plain": [
       "     Admittype  Ethnicity  Gender       Age  Admission Weight (Kg)  \\\n",
       "104        1.0        0.0     0.0  0.165179               0.567901   \n",
       "105        1.0        0.0     0.0  0.165179               0.567901   \n",
       "106        1.0        0.0     0.0  0.165179               0.567901   \n",
       "107        1.0        0.0     0.0  0.165179               0.567901   \n",
       "108        1.0        0.0     0.0  0.165179               0.567901   \n",
       "\n",
       "     Heart Rate  Respiratory Rate  O2 saturation pulseoxymetry  \\\n",
       "104    0.333333          0.142857                         0.96   \n",
       "105    0.264151          0.214286                         0.98   \n",
       "106    0.251572          0.171429                         0.96   \n",
       "107    0.283019          0.178571                         0.96   \n",
       "108    0.270440          0.221429                         0.96   \n",
       "\n",
       "     Inspired O2 Fraction  PEEP set  ...  Peak Insp. Pressure  O2 Flow  \\\n",
       "104                  0.35  0.333333  ...             0.322581     0.48   \n",
       "105                  0.35  0.333333  ...             0.322581     0.48   \n",
       "106                  0.36  0.333333  ...             0.322581     0.48   \n",
       "107                  0.36  0.333333  ...             0.322581     0.48   \n",
       "108                  0.36  0.333333  ...             0.322581     0.48   \n",
       "\n",
       "     Plateau Pressure  Arterial O2 pressure  Arterial CO2 Pressure  \\\n",
       "104             0.375              0.178218               0.895522   \n",
       "105             0.375              0.178218               0.895522   \n",
       "106             0.375              0.178218               0.895522   \n",
       "107             0.375              0.178218               0.895522   \n",
       "108             0.375              0.178218               0.895522   \n",
       "\n",
       "     Arterial Blood Pressure systolic  Arterial Blood Pressure diastolic  \\\n",
       "104                          0.382353                           0.378505   \n",
       "105                          0.382353                           0.378505   \n",
       "106                          0.382353                           0.378505   \n",
       "107                          0.382353                           0.378505   \n",
       "108                          0.382353                           0.378505   \n",
       "\n",
       "     Arterial Blood Pressure mean  SBT_value  ventilator_category  \n",
       "104                      0.258721        0.5             0.272727  \n",
       "105                      0.258721        0.5             0.272727  \n",
       "106                      0.258721        0.5             0.272727  \n",
       "107                      0.258721        0.5             0.272727  \n",
       "108                      0.258721        0.5             0.272727  \n",
       "\n",
       "[5 rows x 25 columns]"
      ]
     },
     "execution_count": 11,
     "metadata": {},
     "output_type": "execute_result"
    }
   ],
   "source": [
    "train_set.head()"
   ]
  },
  {
   "cell_type": "code",
   "execution_count": 12,
   "metadata": {},
   "outputs": [],
   "source": [
    "train_set = train_set.values\n",
    "val_set = val_set.values\n",
    "test_set = test_set.values"
   ]
  },
  {
   "cell_type": "code",
   "execution_count": 13,
   "metadata": {},
   "outputs": [],
   "source": [
    "trainy = trainy.values\n",
    "valy = valy.values\n",
    "testy = testy.values"
   ]
  },
  {
   "cell_type": "code",
   "execution_count": 14,
   "metadata": {},
   "outputs": [
    {
     "data": {
      "text/plain": [
       "(175872, 25)"
      ]
     },
     "execution_count": 14,
     "metadata": {},
     "output_type": "execute_result"
    }
   ],
   "source": [
    "train_set.shape"
   ]
  },
  {
   "cell_type": "code",
   "execution_count": 15,
   "metadata": {},
   "outputs": [],
   "source": [
    "trainy = np.reshape(trainy, (trainy.shape[0],))\n",
    "valy = np.reshape(valy, (valy.shape[0],))\n",
    "testy = np.reshape(testy, (testy.shape[0],))"
   ]
  },
  {
   "cell_type": "code",
   "execution_count": 16,
   "metadata": {},
   "outputs": [
    {
     "data": {
      "text/plain": [
       "((175872,), (24531,), (19584,))"
      ]
     },
     "execution_count": 16,
     "metadata": {},
     "output_type": "execute_result"
    }
   ],
   "source": [
    "trainy.shape, valy.shape, testy.shape"
   ]
  },
  {
   "cell_type": "code",
   "execution_count": 17,
   "metadata": {},
   "outputs": [
    {
     "data": {
      "text/plain": [
       "(220091, 31)"
      ]
     },
     "execution_count": 17,
     "metadata": {},
     "output_type": "execute_result"
    }
   ],
   "source": [
    "df.shape"
   ]
  },
  {
   "cell_type": "code",
   "execution_count": 18,
   "metadata": {},
   "outputs": [],
   "source": [
    "train = DataSet(train_set, trainy)\n",
    "validation = DataSet(val_set, valy)\n",
    "test = DataSet(test_set, testy)\n",
    "data_sets = base.Datasets(train=train, validation=validation, test=test)"
   ]
  },
  {
   "cell_type": "code",
   "execution_count": 19,
   "metadata": {},
   "outputs": [],
   "source": [
    "######## start to train model#######"
   ]
  },
  {
   "cell_type": "code",
   "execution_count": 20,
   "metadata": {},
   "outputs": [],
   "source": [
    "# for one epoch = 175872/128 = 1374\n",
    "# how many epoch = num_steps:100000/1374 = 72.8"
   ]
  },
  {
   "cell_type": "code",
   "execution_count": null,
   "metadata": {},
   "outputs": [],
   "source": []
  },
  {
   "cell_type": "code",
   "execution_count": 21,
   "metadata": {},
   "outputs": [],
   "source": [
    "num_classes = 2\n",
    "input_side = 25\n",
    "input_channels = 1\n",
    "input_dim = input_side * input_channels \n",
    "#weight_decay = 0.0005\n",
    "batch_size = 128\n",
    "\n",
    "initial_learning_rate = 0.00001 \n",
    "decay_epochs = [40, 50000]\n",
    "hidden1_units = 64\n",
    "hidden2_units = 128\n",
    "hidden3_units = 256\n",
    "conv_patch_size = 1\n",
    "num_steps = 100000"
   ]
  },
  {
   "cell_type": "code",
   "execution_count": 22,
   "metadata": {
    "scrolled": true
   },
   "outputs": [
    {
     "name": "stdout",
     "output_type": "stream",
     "text": [
      "WARNING:tensorflow:From /Users/yanjia/Documents/jupyter_notebook_code/influence-release-master/influence/genericNeuralNet.py:83: The name tf.set_random_seed is deprecated. Please use tf.compat.v1.set_random_seed instead.\n",
      "\n",
      "WARNING:tensorflow:From /Users/yanjia/Documents/jupyter_notebook_code/influence-release-master/influence/genericNeuralNet.py:107: The name tf.ConfigProto is deprecated. Please use tf.compat.v1.ConfigProto instead.\n",
      "\n",
      "WARNING:tensorflow:From /Users/yanjia/Documents/jupyter_notebook_code/influence-release-master/influence/genericNeuralNet.py:108: The name tf.Session is deprecated. Please use tf.compat.v1.Session instead.\n",
      "\n",
      "WARNING:tensorflow:From /Users/yanjia/Documents/jupyter_notebook_code/influence-release-master/influence/all_CNN_1d.py:87: The name tf.placeholder is deprecated. Please use tf.compat.v1.placeholder instead.\n",
      "\n",
      "WARNING:tensorflow:From /Users/yanjia/Documents/jupyter_notebook_code/influence-release-master/influence/all_CNN_1d.py:103: The name tf.variable_scope is deprecated. Please use tf.compat.v1.variable_scope instead.\n",
      "\n",
      "WARNING:tensorflow:From /Users/yanjia/Documents/jupyter_notebook_code/influence-release-master/influence/genericNeuralNet.py:58: calling TruncatedNormal.__init__ (from tensorflow.python.ops.init_ops) with dtype is deprecated and will be removed in a future version.\n",
      "Instructions for updating:\n",
      "Call initializer instance with the dtype argument instead of passing it to the constructor\n",
      "WARNING:tensorflow:From /Users/yanjia/Documents/jupyter_notebook_code/influence-release-master/influence/genericNeuralNet.py:402: The name tf.train.AdamOptimizer is deprecated. Please use tf.compat.v1.train.AdamOptimizer instead.\n",
      "\n",
      "WARNING:tensorflow:From /Users/yanjia/Documents/jupyter_notebook_code/influence-release-master/influence/genericNeuralNet.py:411: The name tf.train.GradientDescentOptimizer is deprecated. Please use tf.compat.v1.train.GradientDescentOptimizer instead.\n",
      "\n",
      "WARNING:tensorflow:From /Users/yanjia/Documents/jupyter_notebook_code/influence-release-master/influence/genericNeuralNet.py:140: The name tf.train.Saver is deprecated. Please use tf.compat.v1.train.Saver instead.\n",
      "\n",
      "Total number of parameters: 926850\n",
      "WARNING:tensorflow:From /Users/yanjia/anaconda3/lib/python3.7/site-packages/tensorflow/python/ops/array_ops.py:1354: add_dispatch_support.<locals>.wrapper (from tensorflow.python.ops.array_ops) is deprecated and will be removed in a future version.\n",
      "Instructions for updating:\n",
      "Use tf.where in 2.0, which has the same broadcast rule as np.where\n"
     ]
    }
   ],
   "source": [
    "model = All_CNN_1d(\n",
    "    input_side=input_side, \n",
    "    input_channels=input_channels,\n",
    "    conv_patch_size=conv_patch_size,\n",
    "    hidden1_units=hidden1_units, \n",
    "    hidden2_units=hidden2_units,\n",
    "    hidden3_units=hidden3_units,\n",
    "\n",
    "    num_classes=num_classes, \n",
    "    batch_size=batch_size,\n",
    "    data_sets=data_sets,\n",
    "    initial_learning_rate=initial_learning_rate,\n",
    "    damping=1e-2,\n",
    "    decay_epochs=decay_epochs,\n",
    "    mini_batch=True,\n",
    "    train_dir='output', \n",
    "    log_dir='log',\n",
    "    model_name='ventilator_all_cnn_1d')"
   ]
  },
  {
   "cell_type": "code",
   "execution_count": 23,
   "metadata": {
    "scrolled": true
   },
   "outputs": [
    {
     "name": "stdout",
     "output_type": "stream",
     "text": [
      "Training for 100000 steps\n",
      "Step 0: loss = 3.26805592 (0.219 sec)\n",
      "Step 1000: loss = 2.45721483 (0.030 sec)\n",
      "Step 2000: loss = 2.32443023 (0.038 sec)\n",
      "Step 3000: loss = 2.04763603 (0.037 sec)\n",
      "Step 4000: loss = 1.65839386 (0.039 sec)\n",
      "Step 5000: loss = 1.35447466 (0.039 sec)\n",
      "Step 6000: loss = 1.09986842 (0.034 sec)\n",
      "Step 7000: loss = 1.06704843 (0.026 sec)\n",
      "Step 8000: loss = 0.94598138 (0.049 sec)\n",
      "Step 9000: loss = 0.92270029 (0.043 sec)\n",
      "Step 10000: loss = 0.76730639 (0.040 sec)\n",
      "Step 11000: loss = 0.82836008 (0.043 sec)\n",
      "Step 12000: loss = 0.72611588 (0.052 sec)\n",
      "Step 13000: loss = 0.71686316 (0.040 sec)\n",
      "Step 14000: loss = 0.64804137 (0.053 sec)\n",
      "Step 15000: loss = 0.63991535 (0.040 sec)\n",
      "Step 16000: loss = 0.61866343 (0.048 sec)\n",
      "Step 17000: loss = 0.52598321 (0.035 sec)\n",
      "Step 18000: loss = 0.48369598 (0.034 sec)\n",
      "Step 19000: loss = 0.47198778 (0.034 sec)\n",
      "Step 20000: loss = 0.50892937 (0.036 sec)\n",
      "Step 21000: loss = 0.50612533 (0.052 sec)\n",
      "Step 22000: loss = 0.50967830 (0.034 sec)\n",
      "Step 23000: loss = 0.49580723 (0.041 sec)\n",
      "Step 24000: loss = 0.49585027 (0.036 sec)\n",
      "Step 25000: loss = 0.50534725 (0.040 sec)\n",
      "Step 26000: loss = 0.46317160 (0.047 sec)\n",
      "Step 27000: loss = 0.37739205 (0.041 sec)\n",
      "Step 28000: loss = 0.47397631 (0.028 sec)\n",
      "Step 29000: loss = 0.40271965 (0.034 sec)\n",
      "Step 30000: loss = 0.48754567 (0.051 sec)\n",
      "Step 31000: loss = 0.42892027 (0.041 sec)\n",
      "Step 32000: loss = 0.44931608 (0.041 sec)\n",
      "Step 33000: loss = 0.40615749 (0.043 sec)\n",
      "Step 34000: loss = 0.34063941 (0.023 sec)\n",
      "Step 35000: loss = 0.33439291 (0.047 sec)\n",
      "Step 36000: loss = 0.44278669 (0.039 sec)\n",
      "Step 37000: loss = 0.48429495 (0.044 sec)\n",
      "Step 38000: loss = 0.33517087 (0.044 sec)\n",
      "Step 39000: loss = 0.41195557 (0.051 sec)\n",
      "Step 40000: loss = 0.37294900 (0.061 sec)\n",
      "Step 41000: loss = 0.40488154 (0.048 sec)\n",
      "Step 42000: loss = 0.43267485 (0.052 sec)\n",
      "Step 43000: loss = 0.29119730 (0.047 sec)\n",
      "Step 44000: loss = 0.28963721 (0.041 sec)\n",
      "Step 45000: loss = 0.37016118 (0.043 sec)\n",
      "Step 46000: loss = 0.33542147 (0.049 sec)\n",
      "Step 47000: loss = 0.26986244 (0.061 sec)\n",
      "Step 48000: loss = 0.39087844 (0.037 sec)\n",
      "Step 49000: loss = 0.44949767 (0.052 sec)\n",
      "Step 50000: loss = 0.31030548 (0.038 sec)\n",
      "Step 51000: loss = 0.36078465 (0.034 sec)\n",
      "Step 52000: loss = 0.47819370 (0.043 sec)\n",
      "Step 53000: loss = 0.38397285 (0.053 sec)\n",
      "Step 54000: loss = 0.30945441 (0.049 sec)\n",
      "Step 55000: loss = 0.31668425 (0.059 sec)\n",
      "Step 56000: loss = 0.41095892 (0.049 sec)\n",
      "Step 57000: loss = 0.43540788 (0.048 sec)\n",
      "Step 58000: loss = 0.32684159 (0.051 sec)\n",
      "Step 59000: loss = 0.30922395 (0.049 sec)\n",
      "Step 60000: loss = 0.39534217 (0.045 sec)\n",
      "Step 61000: loss = 0.35627922 (0.071 sec)\n",
      "Step 62000: loss = 0.40003687 (0.044 sec)\n",
      "Step 63000: loss = 0.33075702 (0.038 sec)\n",
      "Step 64000: loss = 0.35759982 (0.049 sec)\n",
      "Step 65000: loss = 0.31795454 (0.034 sec)\n",
      "Step 66000: loss = 0.38681078 (0.055 sec)\n",
      "Step 67000: loss = 0.28903806 (0.063 sec)\n",
      "Step 68000: loss = 0.34198570 (0.064 sec)\n",
      "Step 69000: loss = 0.32220834 (0.073 sec)\n",
      "Step 70000: loss = 0.36814609 (0.062 sec)\n",
      "Step 71000: loss = 0.32450312 (0.052 sec)\n",
      "Step 72000: loss = 0.33350748 (0.048 sec)\n",
      "Step 73000: loss = 0.34181702 (0.055 sec)\n",
      "Step 74000: loss = 0.44209814 (0.048 sec)\n",
      "Step 75000: loss = 0.33989683 (0.043 sec)\n",
      "Step 76000: loss = 0.30948126 (0.035 sec)\n",
      "Step 77000: loss = 0.34370473 (0.048 sec)\n",
      "Step 78000: loss = 0.31647834 (0.046 sec)\n",
      "Step 79000: loss = 0.24351925 (0.047 sec)\n",
      "Step 80000: loss = 0.40801382 (0.070 sec)\n",
      "Step 81000: loss = 0.37464911 (0.036 sec)\n",
      "Step 82000: loss = 0.26730436 (0.056 sec)\n",
      "Step 83000: loss = 0.25921038 (0.051 sec)\n",
      "Step 84000: loss = 0.28134921 (0.059 sec)\n",
      "Step 85000: loss = 0.32829389 (0.051 sec)\n",
      "Step 86000: loss = 0.31514868 (0.041 sec)\n",
      "Step 87000: loss = 0.33493134 (0.051 sec)\n",
      "Step 88000: loss = 0.25146046 (0.053 sec)\n",
      "Step 89000: loss = 0.30738220 (0.055 sec)\n",
      "Step 90000: loss = 0.27723378 (0.051 sec)\n",
      "Step 91000: loss = 0.36512941 (0.049 sec)\n",
      "Step 92000: loss = 0.36648780 (0.048 sec)\n",
      "Step 93000: loss = 0.34062973 (0.062 sec)\n",
      "Step 94000: loss = 0.36063451 (0.046 sec)\n",
      "Step 95000: loss = 0.29255983 (0.038 sec)\n",
      "Step 96000: loss = 0.31538886 (0.044 sec)\n",
      "Step 97000: loss = 0.29323864 (0.065 sec)\n",
      "Step 98000: loss = 0.31843632 (0.036 sec)\n",
      "Step 99000: loss = 0.34537023 (0.060 sec)\n",
      "Train loss (w reg) on all data: [0.34095057]\n",
      "Train loss (w/o reg) on all data: [0.27689267]\n",
      "Test loss (w/o reg) on all data: [0.29910378]\n",
      "Train acc on all data:  [0.88866335]\n",
      "Test acc on all data:   [0.87300858]\n",
      "Norm of the mean of gradients: 0.13669598\n",
      "Norm of the params: 11.485291\n"
     ]
    }
   ],
   "source": [
    "model.train(\n",
    "    num_steps=num_steps, \n",
    "    iter_to_switch_to_batch=10000000,\n",
    "    iter_to_switch_to_sgd=10000000)"
   ]
  },
  {
   "cell_type": "code",
   "execution_count": null,
   "metadata": {},
   "outputs": [],
   "source": []
  },
  {
   "cell_type": "code",
   "execution_count": null,
   "metadata": {},
   "outputs": [],
   "source": [
    "######### add extubation failure patients back to the training dataset #########"
   ]
  },
  {
   "cell_type": "code",
   "execution_count": 26,
   "metadata": {},
   "outputs": [],
   "source": [
    "df_exfailure = pd.read_csv('data_withextubation_failure/exfailure_data.csv')"
   ]
  },
  {
   "cell_type": "code",
   "execution_count": 27,
   "metadata": {},
   "outputs": [
    {
     "data": {
      "text/plain": [
       "(78611, 31)"
      ]
     },
     "execution_count": 27,
     "metadata": {},
     "output_type": "execute_result"
    }
   ],
   "source": [
    "df_exfailure.shape"
   ]
  },
  {
   "cell_type": "code",
   "execution_count": 28,
   "metadata": {},
   "outputs": [],
   "source": [
    "df_exfailure = df_exfailure.drop_duplicates(ignore_index=True)"
   ]
  },
  {
   "cell_type": "code",
   "execution_count": 29,
   "metadata": {},
   "outputs": [
    {
     "data": {
      "text/plain": [
       "(78592, 31)"
      ]
     },
     "execution_count": 29,
     "metadata": {},
     "output_type": "execute_result"
    }
   ],
   "source": [
    "df_exfailure.shape"
   ]
  },
  {
   "cell_type": "code",
   "execution_count": null,
   "metadata": {},
   "outputs": [],
   "source": []
  },
  {
   "cell_type": "code",
   "execution_count": 30,
   "metadata": {},
   "outputs": [],
   "source": [
    "corhort_exfailure = df_exfailure['hadm'].unique()"
   ]
  },
  {
   "cell_type": "code",
   "execution_count": 31,
   "metadata": {},
   "outputs": [
    {
     "data": {
      "text/plain": [
       "(249,)"
      ]
     },
     "execution_count": 31,
     "metadata": {},
     "output_type": "execute_result"
    }
   ],
   "source": [
    "corhort_exfailure.shape"
   ]
  },
  {
   "cell_type": "code",
   "execution_count": 32,
   "metadata": {},
   "outputs": [],
   "source": [
    "corhort_exfailure_train = corhort_exfailure[:200]\n",
    "corhort_exfailure_test = corhort_exfailure[200:]"
   ]
  },
  {
   "cell_type": "code",
   "execution_count": 33,
   "metadata": {},
   "outputs": [
    {
     "data": {
      "text/plain": [
       "(200, 49)"
      ]
     },
     "execution_count": 33,
     "metadata": {},
     "output_type": "execute_result"
    }
   ],
   "source": [
    "len(corhort_exfailure_train), len(corhort_exfailure_test)"
   ]
  },
  {
   "cell_type": "code",
   "execution_count": 34,
   "metadata": {},
   "outputs": [],
   "source": [
    "train_exfailure = pd.DataFrame()\n",
    "train_exfailure= df_exfailure.loc[df_exfailure['hadm'].isin(corhort_exfailure_train)]"
   ]
  },
  {
   "cell_type": "code",
   "execution_count": 35,
   "metadata": {},
   "outputs": [],
   "source": [
    "test_exfailure = pd.DataFrame()\n",
    "test_exfailure= df_exfailure.loc[df_exfailure['hadm'].isin(corhort_exfailure_test)]"
   ]
  },
  {
   "cell_type": "code",
   "execution_count": 36,
   "metadata": {},
   "outputs": [
    {
     "data": {
      "text/plain": [
       "(62412, 31)"
      ]
     },
     "execution_count": 36,
     "metadata": {},
     "output_type": "execute_result"
    }
   ],
   "source": [
    "train_exfailure.shape"
   ]
  },
  {
   "cell_type": "code",
   "execution_count": 37,
   "metadata": {},
   "outputs": [],
   "source": [
    "train_exfailure = train_exfailure[:62336]"
   ]
  },
  {
   "cell_type": "code",
   "execution_count": 38,
   "metadata": {},
   "outputs": [
    {
     "data": {
      "text/plain": [
       "(62336, 31)"
      ]
     },
     "execution_count": 38,
     "metadata": {},
     "output_type": "execute_result"
    }
   ],
   "source": [
    "train_exfailure.shape"
   ]
  },
  {
   "cell_type": "code",
   "execution_count": 39,
   "metadata": {},
   "outputs": [],
   "source": [
    "train_exfailure = train_exfailure.drop(['timestamp', 'hadm', 'Admdays', 'Ventilator Mode', 'Vented'], axis=1)\n",
    "test_exfailure = test_exfailure.drop(['timestamp', 'hadm', 'Admdays', 'Ventilator Mode', 'Vented'], axis=1)"
   ]
  },
  {
   "cell_type": "code",
   "execution_count": 40,
   "metadata": {},
   "outputs": [],
   "source": [
    "trainy_exfailure = train_exfailure['Vented_1']\n",
    "testy_exfailure = test_exfailure['Vented_1']"
   ]
  },
  {
   "cell_type": "code",
   "execution_count": 41,
   "metadata": {},
   "outputs": [],
   "source": [
    "train_exfailure = train_exfailure.drop(['Vented_1'], axis=1)\n",
    "test_exfailure = test_exfailure.drop(['Vented_1'], axis=1)"
   ]
  },
  {
   "cell_type": "code",
   "execution_count": 42,
   "metadata": {},
   "outputs": [
    {
     "data": {
      "text/plain": [
       "(62336, 25)"
      ]
     },
     "execution_count": 42,
     "metadata": {},
     "output_type": "execute_result"
    }
   ],
   "source": [
    "train_exfailure.shape"
   ]
  },
  {
   "cell_type": "code",
   "execution_count": 43,
   "metadata": {},
   "outputs": [],
   "source": [
    "# make the range of features between 0 and 1\n",
    "column = list(train_exfailure.columns.values)\n",
    "for col in column:\n",
    "    minimum = df[col].min()\n",
    "    maximum = df[col].max()\n",
    "    train_exfailure[col] = (train_exfailure[col] - minimum)/(maximum-minimum)\n",
    "    test_exfailure[col] = (test_exfailure[col] - minimum)/(maximum-minimum)"
   ]
  },
  {
   "cell_type": "code",
   "execution_count": 44,
   "metadata": {},
   "outputs": [],
   "source": [
    "train_exfailure = train_exfailure.values\n",
    "test_exfailure = test_exfailure.values"
   ]
  },
  {
   "cell_type": "code",
   "execution_count": 45,
   "metadata": {},
   "outputs": [
    {
     "data": {
      "text/plain": [
       "(175872, 25)"
      ]
     },
     "execution_count": 45,
     "metadata": {},
     "output_type": "execute_result"
    }
   ],
   "source": [
    "train_set.shape"
   ]
  },
  {
   "cell_type": "code",
   "execution_count": 46,
   "metadata": {},
   "outputs": [],
   "source": [
    "modified_train = np.concatenate((train_set,train_exfailure),axis=0)"
   ]
  },
  {
   "cell_type": "code",
   "execution_count": 47,
   "metadata": {},
   "outputs": [
    {
     "data": {
      "text/plain": [
       "(238208, 25)"
      ]
     },
     "execution_count": 47,
     "metadata": {},
     "output_type": "execute_result"
    }
   ],
   "source": [
    "modified_train.shape"
   ]
  },
  {
   "cell_type": "code",
   "execution_count": 48,
   "metadata": {},
   "outputs": [],
   "source": [
    "trainy_exfailure= trainy_exfailure.values\n",
    "testy_exfailure = testy_exfailure.values"
   ]
  },
  {
   "cell_type": "code",
   "execution_count": 49,
   "metadata": {},
   "outputs": [
    {
     "data": {
      "text/plain": [
       "(175872,)"
      ]
     },
     "execution_count": 49,
     "metadata": {},
     "output_type": "execute_result"
    }
   ],
   "source": [
    "trainy.shape"
   ]
  },
  {
   "cell_type": "code",
   "execution_count": 50,
   "metadata": {},
   "outputs": [],
   "source": [
    "modified_trainy = np.concatenate((trainy,trainy_exfailure),axis=0)"
   ]
  },
  {
   "cell_type": "code",
   "execution_count": 51,
   "metadata": {},
   "outputs": [
    {
     "data": {
      "text/plain": [
       "(238208,)"
      ]
     },
     "execution_count": 51,
     "metadata": {},
     "output_type": "execute_result"
    }
   ],
   "source": [
    "modified_trainy.shape"
   ]
  },
  {
   "cell_type": "code",
   "execution_count": 52,
   "metadata": {},
   "outputs": [],
   "source": [
    "train_modified = DataSet(modified_train, modified_trainy)\n",
    "validation = DataSet(val_set, valy)\n",
    "test = DataSet(test_set, testy)\n",
    "modified_data_sets = base.Datasets(train=train_modified, validation=validation, test=test)"
   ]
  },
  {
   "cell_type": "code",
   "execution_count": 53,
   "metadata": {},
   "outputs": [
    {
     "name": "stdout",
     "output_type": "stream",
     "text": [
      "Total number of parameters: 926850\n"
     ]
    }
   ],
   "source": [
    "# Train a model on the modified training set\n",
    "tf.reset_default_graph()\n",
    "\n",
    "modified_model = All_CNN_1d(\n",
    "    input_side=input_side, \n",
    "    input_channels=input_channels,\n",
    "    conv_patch_size=conv_patch_size,\n",
    "    hidden1_units=hidden1_units, \n",
    "    hidden2_units=hidden2_units,\n",
    "    hidden3_units=hidden3_units,\n",
    "\n",
    "    num_classes=num_classes, \n",
    "    batch_size=batch_size,\n",
    "    data_sets=modified_data_sets,\n",
    "    initial_learning_rate=initial_learning_rate,\n",
    "\n",
    "    decay_epochs=decay_epochs,\n",
    "    mini_batch=True,\n",
    "    train_dir='output', \n",
    "    log_dir='log',\n",
    "    model_name='ventilator_all_cnn_1d')"
   ]
  },
  {
   "cell_type": "code",
   "execution_count": 54,
   "metadata": {
    "scrolled": true
   },
   "outputs": [
    {
     "name": "stdout",
     "output_type": "stream",
     "text": [
      "Training for 100000 steps\n",
      "Step 0: loss = 3.26805592 (0.301 sec)\n",
      "Step 1000: loss = 2.45721483 (0.038 sec)\n",
      "Step 2000: loss = 2.30711627 (0.052 sec)\n",
      "Step 3000: loss = 1.96709383 (0.042 sec)\n",
      "Step 4000: loss = 1.59284222 (0.073 sec)\n",
      "Step 5000: loss = 1.32766831 (0.042 sec)\n",
      "Step 6000: loss = 1.18162727 (0.045 sec)\n",
      "Step 7000: loss = 1.09312868 (0.057 sec)\n",
      "Step 8000: loss = 0.97583747 (0.049 sec)\n",
      "Step 9000: loss = 0.90702355 (0.049 sec)\n",
      "Step 10000: loss = 0.92665422 (0.050 sec)\n",
      "Step 11000: loss = 0.77505219 (0.040 sec)\n",
      "Step 12000: loss = 0.73768038 (0.048 sec)\n",
      "Step 13000: loss = 0.66516864 (0.056 sec)\n",
      "Step 14000: loss = 0.67886358 (0.031 sec)\n",
      "Step 15000: loss = 0.64984441 (0.040 sec)\n",
      "Step 16000: loss = 0.61172152 (0.035 sec)\n",
      "Step 17000: loss = 0.48834181 (0.037 sec)\n",
      "Step 18000: loss = 0.54849076 (0.050 sec)\n",
      "Step 19000: loss = 0.65715349 (0.037 sec)\n",
      "Step 20000: loss = 0.58777529 (0.036 sec)\n",
      "Step 21000: loss = 0.43904394 (0.052 sec)\n",
      "Step 22000: loss = 0.50492597 (0.069 sec)\n",
      "Step 23000: loss = 0.45651335 (0.041 sec)\n",
      "Step 24000: loss = 0.49449947 (0.059 sec)\n",
      "Step 25000: loss = 0.52097893 (0.048 sec)\n",
      "Step 26000: loss = 0.52110887 (0.041 sec)\n",
      "Step 27000: loss = 0.49234775 (0.061 sec)\n",
      "Step 28000: loss = 0.38919732 (0.032 sec)\n",
      "Step 29000: loss = 0.40286213 (0.054 sec)\n",
      "Step 30000: loss = 0.41793457 (0.037 sec)\n",
      "Step 31000: loss = 0.39036220 (0.049 sec)\n",
      "Step 32000: loss = 0.44867340 (0.053 sec)\n",
      "Step 33000: loss = 0.48633689 (0.033 sec)\n",
      "Step 34000: loss = 0.36671853 (0.043 sec)\n",
      "Step 35000: loss = 0.41333786 (0.044 sec)\n",
      "Step 36000: loss = 0.43648103 (0.044 sec)\n",
      "Step 37000: loss = 0.43140459 (0.047 sec)\n",
      "Step 38000: loss = 0.32158643 (0.042 sec)\n",
      "Step 39000: loss = 0.42398971 (0.035 sec)\n",
      "Step 40000: loss = 0.38728499 (0.048 sec)\n",
      "Step 41000: loss = 0.31847385 (0.062 sec)\n",
      "Step 42000: loss = 0.38165319 (0.047 sec)\n",
      "Step 43000: loss = 0.39875001 (0.048 sec)\n",
      "Step 44000: loss = 0.41266349 (0.044 sec)\n",
      "Step 45000: loss = 0.37201139 (0.056 sec)\n",
      "Step 46000: loss = 0.39880317 (0.050 sec)\n",
      "Step 47000: loss = 0.24308091 (0.053 sec)\n",
      "Step 48000: loss = 0.27494606 (0.051 sec)\n",
      "Step 49000: loss = 0.31209069 (0.053 sec)\n",
      "Step 50000: loss = 0.32726347 (0.041 sec)\n",
      "Step 51000: loss = 0.30335259 (0.038 sec)\n",
      "Step 52000: loss = 0.40035537 (0.051 sec)\n",
      "Step 53000: loss = 0.41767758 (0.055 sec)\n",
      "Step 54000: loss = 0.32368445 (0.035 sec)\n",
      "Step 55000: loss = 0.38181069 (0.049 sec)\n",
      "Step 56000: loss = 0.36733544 (0.049 sec)\n",
      "Step 57000: loss = 0.33322585 (0.047 sec)\n",
      "Step 58000: loss = 0.36084354 (0.045 sec)\n",
      "Step 59000: loss = 0.25890672 (0.061 sec)\n",
      "Step 60000: loss = 0.35126615 (0.054 sec)\n",
      "Step 61000: loss = 0.33990934 (0.053 sec)\n",
      "Step 62000: loss = 0.39007536 (0.057 sec)\n",
      "Step 63000: loss = 0.42831746 (0.041 sec)\n",
      "Step 64000: loss = 0.33303592 (0.047 sec)\n",
      "Step 65000: loss = 0.31170017 (0.032 sec)\n",
      "Step 66000: loss = 0.37020728 (0.050 sec)\n",
      "Step 67000: loss = 0.36869177 (0.041 sec)\n",
      "Step 68000: loss = 0.34081781 (0.028 sec)\n",
      "Step 69000: loss = 0.33758366 (0.060 sec)\n",
      "Step 70000: loss = 0.29179859 (0.057 sec)\n",
      "Step 71000: loss = 0.30723545 (0.066 sec)\n",
      "Step 72000: loss = 0.30424374 (0.052 sec)\n",
      "Step 73000: loss = 0.35889691 (0.055 sec)\n",
      "Step 74000: loss = 0.31109133 (0.057 sec)\n",
      "Step 75000: loss = 0.23910716 (0.049 sec)\n",
      "Step 76000: loss = 0.33446172 (0.048 sec)\n",
      "Step 77000: loss = 0.31941086 (0.047 sec)\n",
      "Step 78000: loss = 0.31538615 (0.040 sec)\n",
      "Step 79000: loss = 0.41113991 (0.055 sec)\n",
      "Step 80000: loss = 0.34043989 (0.055 sec)\n",
      "Step 81000: loss = 0.33014816 (0.053 sec)\n",
      "Step 82000: loss = 0.29852796 (0.044 sec)\n",
      "Step 83000: loss = 0.31975594 (0.051 sec)\n",
      "Step 84000: loss = 0.37558690 (0.035 sec)\n",
      "Step 85000: loss = 0.34646735 (0.056 sec)\n",
      "Step 86000: loss = 0.30813986 (0.039 sec)\n",
      "Step 87000: loss = 0.34221080 (0.050 sec)\n",
      "Step 88000: loss = 0.38101691 (0.046 sec)\n",
      "Step 89000: loss = 0.34097204 (0.035 sec)\n",
      "Step 90000: loss = 0.31339365 (0.058 sec)\n",
      "Step 91000: loss = 0.27002889 (0.044 sec)\n",
      "Step 92000: loss = 0.36264008 (0.048 sec)\n",
      "Step 93000: loss = 0.38040394 (0.035 sec)\n",
      "Step 94000: loss = 0.37814218 (0.057 sec)\n",
      "Step 95000: loss = 0.30768985 (0.043 sec)\n",
      "Step 96000: loss = 0.28119728 (0.049 sec)\n",
      "Step 97000: loss = 0.33597553 (0.048 sec)\n",
      "Step 98000: loss = 0.30272985 (0.036 sec)\n",
      "Step 99000: loss = 0.24959178 (0.047 sec)\n",
      "Train loss (w reg) on all data: [0.31831806]\n",
      "Train loss (w/o reg) on all data: [0.26824498]\n",
      "Test loss (w/o reg) on all data: [0.29302768]\n",
      "Train acc on all data:  [0.89075514]\n",
      "Test acc on all data:   [0.8724469]\n",
      "Norm of the mean of gradients: 0.22229727\n",
      "Norm of the params: 10.229744\n"
     ]
    }
   ],
   "source": [
    "modified_model.train(\n",
    "    num_steps=100000, \n",
    "    iter_to_switch_to_batch=10000000,\n",
    "    iter_to_switch_to_sgd=10000000)"
   ]
  },
  {
   "cell_type": "code",
   "execution_count": null,
   "metadata": {},
   "outputs": [],
   "source": []
  },
  {
   "cell_type": "code",
   "execution_count": null,
   "metadata": {},
   "outputs": [],
   "source": []
  },
  {
   "cell_type": "code",
   "execution_count": 55,
   "metadata": {},
   "outputs": [],
   "source": [
    "from sklearn.metrics import classification_report\n",
    "\n",
    "y_pred_test = modified_model.sess.run(\n",
    "    modified_model.preds,\n",
    "    feed_dict=modified_model.all_test_feed_dict)\n",
    "\n",
    "target_names = ['class 0', 'class 1']\n",
    "y_pred_test = np.argmax(y_pred_test, axis=1)"
   ]
  },
  {
   "cell_type": "code",
   "execution_count": 56,
   "metadata": {},
   "outputs": [
    {
     "name": "stdout",
     "output_type": "stream",
     "text": [
      "              precision    recall  f1-score   support\n",
      "\n",
      "     class 0       0.84      0.63      0.72      5051\n",
      "     class 1       0.88      0.96      0.92     14533\n",
      "\n",
      "    accuracy                           0.87     19584\n",
      "   macro avg       0.86      0.79      0.82     19584\n",
      "weighted avg       0.87      0.87      0.87     19584\n",
      "\n"
     ]
    }
   ],
   "source": [
    "print(classification_report(testy, y_pred_test, target_names=target_names))"
   ]
  },
  {
   "cell_type": "code",
   "execution_count": 57,
   "metadata": {},
   "outputs": [],
   "source": [
    "from sklearn.metrics import classification_report\n",
    "\n",
    "y_pred_test = model.sess.run(\n",
    "    model.preds,\n",
    "    feed_dict=model.all_test_feed_dict)\n",
    "\n",
    "target_names = ['class 0', 'class 1']\n",
    "y_pred_test = np.argmax(y_pred_test, axis=1)"
   ]
  },
  {
   "cell_type": "code",
   "execution_count": 58,
   "metadata": {},
   "outputs": [
    {
     "name": "stdout",
     "output_type": "stream",
     "text": [
      "              precision    recall  f1-score   support\n",
      "\n",
      "     class 0       0.81      0.67      0.73      5051\n",
      "     class 1       0.89      0.94      0.92     14533\n",
      "\n",
      "    accuracy                           0.87     19584\n",
      "   macro avg       0.85      0.81      0.82     19584\n",
      "weighted avg       0.87      0.87      0.87     19584\n",
      "\n"
     ]
    }
   ],
   "source": [
    "print(classification_report(testy, y_pred_test, target_names=target_names))"
   ]
  },
  {
   "cell_type": "code",
   "execution_count": null,
   "metadata": {},
   "outputs": [],
   "source": []
  },
  {
   "cell_type": "code",
   "execution_count": 59,
   "metadata": {},
   "outputs": [],
   "source": [
    "orig_model_preds = model.sess.run(\n",
    "    model.preds,\n",
    "    feed_dict=model.all_test_feed_dict)"
   ]
  },
  {
   "cell_type": "code",
   "execution_count": 61,
   "metadata": {},
   "outputs": [
    {
     "data": {
      "text/plain": [
       "(19584, 2)"
      ]
     },
     "execution_count": 61,
     "metadata": {},
     "output_type": "execute_result"
    }
   ],
   "source": [
    "orig_model_preds.shape"
   ]
  },
  {
   "cell_type": "code",
   "execution_count": 62,
   "metadata": {},
   "outputs": [],
   "source": [
    "orig_model_preds = np.argmax(orig_model_preds, axis=1)"
   ]
  },
  {
   "cell_type": "code",
   "execution_count": 63,
   "metadata": {},
   "outputs": [],
   "source": [
    "modified_model_preds = modified_model.sess.run(\n",
    "    modified_model.preds,\n",
    "    feed_dict=modified_model.all_test_feed_dict)"
   ]
  },
  {
   "cell_type": "code",
   "execution_count": 64,
   "metadata": {},
   "outputs": [
    {
     "data": {
      "text/plain": [
       "(19584, 2)"
      ]
     },
     "execution_count": 64,
     "metadata": {},
     "output_type": "execute_result"
    }
   ],
   "source": [
    "modified_model_preds.shape"
   ]
  },
  {
   "cell_type": "code",
   "execution_count": 65,
   "metadata": {},
   "outputs": [],
   "source": [
    "modified_model_preds = np.argmax(modified_model_preds, axis=1)"
   ]
  },
  {
   "cell_type": "code",
   "execution_count": 66,
   "metadata": {},
   "outputs": [],
   "source": [
    "different_modified = []\n",
    "for i in range(len(testy)):\n",
    "    if modified_model_preds[i] != orig_model_preds[i]:\n",
    "        different_modified.append(i)"
   ]
  },
  {
   "cell_type": "code",
   "execution_count": 67,
   "metadata": {},
   "outputs": [],
   "source": [
    "predic_orig = orig_model_preds[different_modified]"
   ]
  },
  {
   "cell_type": "code",
   "execution_count": 68,
   "metadata": {},
   "outputs": [],
   "source": [
    "true_label = testy[different_modified]"
   ]
  },
  {
   "cell_type": "code",
   "execution_count": 69,
   "metadata": {},
   "outputs": [],
   "source": [
    "mtest_id = []\n",
    "for i in range(len(true_label)):\n",
    "    if predic_orig[i] == true_label[i]:\n",
    "        mtest_id.append(i)"
   ]
  },
  {
   "cell_type": "code",
   "execution_count": 71,
   "metadata": {},
   "outputs": [],
   "source": [
    "result = true_label[mtest_id]"
   ]
  },
  {
   "cell_type": "code",
   "execution_count": 100,
   "metadata": {},
   "outputs": [
    {
     "data": {
      "text/plain": [
       "1.0"
      ]
     },
     "execution_count": 100,
     "metadata": {},
     "output_type": "execute_result"
    }
   ],
   "source": [
    "true_label[8]"
   ]
  },
  {
   "cell_type": "code",
   "execution_count": 101,
   "metadata": {},
   "outputs": [
    {
     "data": {
      "text/plain": [
       "114"
      ]
     },
     "execution_count": 101,
     "metadata": {},
     "output_type": "execute_result"
    }
   ],
   "source": [
    "different_modified[8]"
   ]
  },
  {
   "cell_type": "code",
   "execution_count": null,
   "metadata": {},
   "outputs": [],
   "source": []
  },
  {
   "cell_type": "code",
   "execution_count": 105,
   "metadata": {
    "scrolled": true
   },
   "outputs": [
    {
     "name": "stdout",
     "output_type": "stream",
     "text": [
      "Norm of test gradient: 20.094368\n",
      "Function value: -95.76898956298828\n",
      "Split function value: 27.644641876220703, -123.4381\n",
      "Predicted loss diff on train_idx 5: -1.97940507542376e-05\n",
      "Function value: -12951.529296875\n",
      "Split function value: 9028.6220703125, -24021.26\n",
      "Predicted loss diff on train_idx 5: 0.0007471361831591246\n",
      "Function value: -129755.263671875\n",
      "Split function value: -121568.5625, -24017.256\n",
      "Predicted loss diff on train_idx 5: 0.002094636355466192\n",
      "Function value: -410037.37890625\n",
      "Split function value: -368938.28125, -23919.535\n",
      "Predicted loss diff on train_idx 5: 0.001610588988970839\n",
      "Function value: -859708.61328125\n",
      "Split function value: -839598.8125, -24925.113\n",
      "Predicted loss diff on train_idx 5: 0.007671149170315438\n",
      "Function value: -1584763.396484375\n",
      "Split function value: -1476788.875, -23644.521\n",
      "Predicted loss diff on train_idx 5: 0.002619830464112509\n",
      "Function value: -2947536.501953125\n",
      "Split function value: -2846555.25, -26928.002\n",
      "Predicted loss diff on train_idx 5: 0.014281293898740806\n",
      "Function value: -5253632.71875\n",
      "Split function value: -5414870.0, -24818.719\n",
      "Predicted loss diff on train_idx 5: 0.006618745220661932\n",
      "Function value: -8954225.837890625\n",
      "Split function value: -9022656.0, -27527.838\n",
      "Predicted loss diff on train_idx 5: 0.044162793290160283\n",
      "Function value: -9800609.41015625\n",
      "Split function value: -9528837.0, -29971.41\n",
      "Predicted loss diff on train_idx 5: 0.022026260843333346\n",
      "Function value: -13128994.453125\n",
      "Split function value: -13579251.0, -27234.453\n",
      "Predicted loss diff on train_idx 5: 0.02881885100154067\n",
      "Function value: -20083166.1875\n",
      "Split function value: -19630136.0, -32892.188\n",
      "Predicted loss diff on train_idx 5: 0.002287353769801497\n",
      "Function value: -21782188.865234375\n",
      "Split function value: -20361964.0, -30924.865\n",
      "Predicted loss diff on train_idx 5: 0.030026279554003225\n",
      "Function value: -22410350.072265625\n",
      "Split function value: -23240760.0, -30422.072\n",
      "Predicted loss diff on train_idx 5: 0.034239201696888856\n",
      "Function value: -23462535.818359375\n",
      "Split function value: -24177804.0, -30941.818\n",
      "Predicted loss diff on train_idx 5: 0.017054195496294205\n",
      "Function value: -24808889.177734375\n",
      "Split function value: -25884066.0, -30545.178\n",
      "Predicted loss diff on train_idx 5: 0.029824608951919122\n",
      "Function value: -24743366.33203125\n",
      "Split function value: -24958908.0, -30612.332\n",
      "Predicted loss diff on train_idx 5: 0.030439029388181757\n",
      "Warning: Desired error not necessarily achieved due to precision loss.\n",
      "         Current function value: -25720782.332031\n",
      "         Iterations: 17\n",
      "         Function evaluations: 45\n",
      "         Gradient evaluations: 51\n",
      "         Hessian evaluations: 97\n",
      "Saved inverse HVP to output/ventilator_all_cnn_1d-cg-normal_loss-test-[114].npz\n",
      "Inverse HVP took 22195.90037202835 sec\n",
      "Multiplying by 238208 train examples took 3202.766848087311 sec\n"
     ]
    }
   ],
   "source": [
    "test_idx = 114\n",
    "influences_modified = modified_model.get_influence_on_test_loss(\n",
    "    test_indices=[test_idx], \n",
    "    train_idx=np.arange(len(modified_model.data_sets.train.labels)),\n",
    "    force_refresh=True)"
   ]
  },
  {
   "cell_type": "code",
   "execution_count": 82,
   "metadata": {},
   "outputs": [
    {
     "data": {
      "text/plain": [
       "<tensorflow.python.framework.ops.Graph at 0x7fcf9823b590>"
      ]
     },
     "execution_count": 82,
     "metadata": {},
     "output_type": "execute_result"
    }
   ],
   "source": [
    "tf.get_default_graph()"
   ]
  },
  {
   "cell_type": "code",
   "execution_count": null,
   "metadata": {},
   "outputs": [],
   "source": []
  },
  {
   "cell_type": "code",
   "execution_count": null,
   "metadata": {},
   "outputs": [],
   "source": []
  },
  {
   "cell_type": "code",
   "execution_count": 194,
   "metadata": {},
   "outputs": [],
   "source": [
    "top_k =15\n",
    "helpful_points = np.argsort(influences_modified)[-top_k:][::-1]\n",
    "unhelpful_points = np.argsort(influences_modified)[:top_k]"
   ]
  },
  {
   "cell_type": "code",
   "execution_count": 195,
   "metadata": {
    "scrolled": true
   },
   "outputs": [
    {
     "name": "stdout",
     "output_type": "stream",
     "text": [
      "Top 15 training points making the loss on the test point worse:\n",
      "#77475, class=1.0, predicted_loss_diff=-0.16406575\n",
      "#53233, class=1.0, predicted_loss_diff=-0.15410436\n",
      "#53231, class=1.0, predicted_loss_diff=-0.15023694\n",
      "#186003, class=0.0, predicted_loss_diff=-0.14771105\n",
      "#15304, class=0.0, predicted_loss_diff=-0.14306511\n",
      "#26556, class=0.0, predicted_loss_diff=-0.13984615\n",
      "#15307, class=0.0, predicted_loss_diff=-0.13969990\n",
      "#53229, class=1.0, predicted_loss_diff=-0.13683761\n",
      "#60841, class=1.0, predicted_loss_diff=-0.13551770\n",
      "#15301, class=0.0, predicted_loss_diff=-0.13382185\n",
      "#15320, class=0.0, predicted_loss_diff=-0.13143367\n",
      "#186004, class=0.0, predicted_loss_diff=-0.12964110\n",
      "#53235, class=1.0, predicted_loss_diff=-0.12931203\n",
      "#15306, class=0.0, predicted_loss_diff=-0.12724073\n",
      "#185745, class=1.0, predicted_loss_diff=-0.12654783\n",
      "Top 15 training points making the loss on the test point better:\n",
      "#13744, class=0.0, predicted_loss_diff=0.14803877\n",
      "#13742, class=0.0, predicted_loss_diff=0.14535237\n",
      "#13743, class=0.0, predicted_loss_diff=0.14197979\n",
      "#13798, class=0.0, predicted_loss_diff=0.13659121\n",
      "#132699, class=0.0, predicted_loss_diff=0.13090531\n",
      "#13741, class=0.0, predicted_loss_diff=0.12834721\n",
      "#13745, class=0.0, predicted_loss_diff=0.12776733\n",
      "#47996, class=0.0, predicted_loss_diff=0.12709729\n",
      "# 8490, class=0.0, predicted_loss_diff=0.12509444\n",
      "#102658, class=0.0, predicted_loss_diff=0.12316813\n",
      "#132704, class=0.0, predicted_loss_diff=0.12224987\n",
      "#155511, class=0.0, predicted_loss_diff=0.12124215\n",
      "#102659, class=0.0, predicted_loss_diff=0.12065087\n",
      "#132703, class=0.0, predicted_loss_diff=0.12010375\n",
      "#152351, class=0.0, predicted_loss_diff=0.11944133\n"
     ]
    }
   ],
   "source": [
    "influences_to_plot = []\n",
    "points_to_plot = []\n",
    "\n",
    "for points, message in [\n",
    "    (unhelpful_points, 'worse'), (helpful_points, 'better')]:\n",
    "    print(\"Top %s training points making the loss on the test point %s:\" % (top_k, message))\n",
    "    for counter, idx in enumerate(points):\n",
    "        print(\"#%5d, class=%s, predicted_loss_diff=%.8f\" % (\n",
    "            idx,                 \n",
    "            modified_trainy[idx], \n",
    "            influences_modified[idx]))\n",
    "        \n",
    "        points_to_plot.append(idx)\n",
    "        influences_to_plot.append(influences_modified[idx])"
   ]
  },
  {
   "cell_type": "code",
   "execution_count": 200,
   "metadata": {},
   "outputs": [],
   "source": [
    "patient = []\n",
    "for i in range(len(points_to_plot)):\n",
    "    if points_to_plot[i] >= 175872:\n",
    "        patient.append('extubation failiure patient')\n",
    "    else:\n",
    "        patient.append('normal patient')"
   ]
  },
  {
   "cell_type": "code",
   "execution_count": 227,
   "metadata": {},
   "outputs": [],
   "source": [
    "indication = []\n",
    "for i in range(len(points_to_plot)):\n",
    "    val = i +1 \n",
    "    indication.append(str(val))\n"
   ]
  },
  {
   "cell_type": "code",
   "execution_count": 229,
   "metadata": {},
   "outputs": [],
   "source": [
    "import matplotlib.pyplot as plt\n",
    "\n",
    "data = {'object': indication,'Type': patient, 'Value': influences_to_plot}"
   ]
  },
  {
   "cell_type": "code",
   "execution_count": 230,
   "metadata": {},
   "outputs": [],
   "source": [
    "data_df = pd.DataFrame(data)"
   ]
  },
  {
   "cell_type": "code",
   "execution_count": 272,
   "metadata": {},
   "outputs": [
    {
     "data": {
      "image/png": "[encoded data removed]",
      "text/plain": [
       "<Figure size 1584x432 with 1 Axes>"
      ]
     },
     "metadata": {
      "needs_background": "light"
     },
     "output_type": "display_data"
    }
   ],
   "source": [
    "colors = {'normal patient':'C0', 'extubation failiure patient':'red'}  \n",
    "c = data_df['Type'].apply(lambda x:colors[x])\n",
    "plt.figure(figsize=(22,6))\n",
    "ax = plt.gca() \n",
    "bars= ax.bar(data_df['object'], data_df['Value'], color=c)\n",
    "plt.xlim(-0.5, len(points_to_plot)-0.5)\n",
    "plt.ylim(-0.2, 0.2)\n",
    "for i, j in colors.items(): #Loop over color dictionary\n",
    "    ax.bar(data_df['object'], data_df['Value'],width=0,color=j,label=i) #Plot invisible bar graph but have the legends specified\n",
    "\n",
    "ax.legend()\n",
    "plt.show()"
   ]
  },
  {
   "cell_type": "code",
   "execution_count": null,
   "metadata": {},
   "outputs": [],
   "source": []
  },
  {
   "cell_type": "code",
   "execution_count": null,
   "metadata": {},
   "outputs": [],
   "source": []
  },
  {
   "cell_type": "code",
   "execution_count": null,
   "metadata": {},
   "outputs": [],
   "source": []
  },
  {
   "cell_type": "code",
   "execution_count": 241,
   "metadata": {},
   "outputs": [
    {
     "data": {
      "text/plain": [
       "(238208,)"
      ]
     },
     "execution_count": 241,
     "metadata": {},
     "output_type": "execute_result"
    }
   ],
   "source": [
    "influences_modified.shape"
   ]
  },
  {
   "cell_type": "code",
   "execution_count": 242,
   "metadata": {},
   "outputs": [],
   "source": [
    "new_points = influences_modified[175872:]"
   ]
  },
  {
   "cell_type": "code",
   "execution_count": 243,
   "metadata": {},
   "outputs": [],
   "source": [
    "abovezero = []\n",
    "for i in range(len(new_points)):\n",
    "    if abs(new_points[i]) > 0.05:\n",
    "        abovezero.append(new_points[i])\n",
    "    "
   ]
  },
  {
   "cell_type": "code",
   "execution_count": 244,
   "metadata": {},
   "outputs": [
    {
     "data": {
      "text/plain": [
       "414"
      ]
     },
     "execution_count": 244,
     "metadata": {},
     "output_type": "execute_result"
    }
   ],
   "source": [
    "len(abovezero)"
   ]
  },
  {
   "cell_type": "code",
   "execution_count": 245,
   "metadata": {},
   "outputs": [],
   "source": [
    "sort_order = np.argsort(abovezero)"
   ]
  },
  {
   "cell_type": "code",
   "execution_count": 246,
   "metadata": {},
   "outputs": [],
   "source": [
    "abovezero_ordered=[]\n",
    "for i in sort_order:\n",
    "    abovezero_ordered.append(abovezero[i])"
   ]
  },
  {
   "cell_type": "code",
   "execution_count": 275,
   "metadata": {},
   "outputs": [
    {
     "data": {
      "image/png": "[encoded data removed]",
      "text/plain": [
       "<Figure size 1584x432 with 1 Axes>"
      ]
     },
     "metadata": {
      "needs_background": "light"
     },
     "output_type": "display_data"
    }
   ],
   "source": [
    "plt.figure(figsize=(22,6))\n",
    "plt.ylim(-0.15, 0.15)\n",
    "plt.xlim(0, len(abovezero)+1)\n",
    "ax = plt.gca() \n",
    "ind = np.array(np.arange(len(abovezero_ordered)))\n",
    "ax.bar(ind+1, abovezero_ordered)\n",
    "\n",
    "plt.xticks([1,50,100,150,200,250,300,350,400,414], visible=True, rotation=\"horizontal\")\n",
    "plt.show()\n"
   ]
  },
  {
   "cell_type": "code",
   "execution_count": null,
   "metadata": {},
   "outputs": [],
   "source": []
  },
  {
   "cell_type": "code",
   "execution_count": null,
   "metadata": {},
   "outputs": [],
   "source": []
  },
  {
   "cell_type": "code",
   "execution_count": null,
   "metadata": {},
   "outputs": [],
   "source": []
  },
  {
   "cell_type": "code",
   "execution_count": 102,
   "metadata": {
    "scrolled": true
   },
   "outputs": [
    {
     "data": {
      "text/plain": [
       "1"
      ]
     },
     "execution_count": 102,
     "metadata": {},
     "output_type": "execute_result"
    }
   ],
   "source": [
    "orig_model_preds[114]"
   ]
  },
  {
   "cell_type": "code",
   "execution_count": 103,
   "metadata": {},
   "outputs": [
    {
     "data": {
      "text/plain": [
       "1.0"
      ]
     },
     "execution_count": 103,
     "metadata": {},
     "output_type": "execute_result"
    }
   ],
   "source": [
    "testy[114]"
   ]
  },
  {
   "cell_type": "code",
   "execution_count": 104,
   "metadata": {},
   "outputs": [
    {
     "data": {
      "text/plain": [
       "0"
      ]
     },
     "execution_count": 104,
     "metadata": {},
     "output_type": "execute_result"
    }
   ],
   "source": [
    "modified_model_preds[114]"
   ]
  },
  {
   "cell_type": "code",
   "execution_count": null,
   "metadata": {},
   "outputs": [],
   "source": []
  }
 ],
 "metadata": {
  "kernelspec": {
   "display_name": "Python 3",
   "language": "python",
   "name": "python3"
  },
  "language_info": {
   "codemirror_mode": {
    "name": "ipython",
    "version": 3
   },
   "file_extension": ".py",
   "mimetype": "text/x-python",
   "name": "python",
   "nbconvert_exporter": "python",
   "pygments_lexer": "ipython3",
   "version": "3.7.6"
  }
 },
 "nbformat": 4,
 "nbformat_minor": 4
}
