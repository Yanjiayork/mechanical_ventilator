{
 "cells": [
  {
   "cell_type": "code",
   "execution_count": 1,
   "metadata": {},
   "outputs": [
    {
     "name": "stderr",
     "output_type": "stream",
     "text": [
      "/Users/yanjia/anaconda3/lib/python3.7/site-packages/tensorflow/python/framework/dtypes.py:516: FutureWarning: Passing (type, 1) or '1type' as a synonym of type is deprecated; in a future version of numpy, it will be understood as (type, (1,)) / '(1,)type'.\n",
      "  _np_qint8 = np.dtype([(\"qint8\", np.int8, 1)])\n",
      "/Users/yanjia/anaconda3/lib/python3.7/site-packages/tensorflow/python/framework/dtypes.py:517: FutureWarning: Passing (type, 1) or '1type' as a synonym of type is deprecated; in a future version of numpy, it will be understood as (type, (1,)) / '(1,)type'.\n",
      "  _np_quint8 = np.dtype([(\"quint8\", np.uint8, 1)])\n",
      "/Users/yanjia/anaconda3/lib/python3.7/site-packages/tensorflow/python/framework/dtypes.py:518: FutureWarning: Passing (type, 1) or '1type' as a synonym of type is deprecated; in a future version of numpy, it will be understood as (type, (1,)) / '(1,)type'.\n",
      "  _np_qint16 = np.dtype([(\"qint16\", np.int16, 1)])\n",
      "/Users/yanjia/anaconda3/lib/python3.7/site-packages/tensorflow/python/framework/dtypes.py:519: FutureWarning: Passing (type, 1) or '1type' as a synonym of type is deprecated; in a future version of numpy, it will be understood as (type, (1,)) / '(1,)type'.\n",
      "  _np_quint16 = np.dtype([(\"quint16\", np.uint16, 1)])\n",
      "/Users/yanjia/anaconda3/lib/python3.7/site-packages/tensorflow/python/framework/dtypes.py:520: FutureWarning: Passing (type, 1) or '1type' as a synonym of type is deprecated; in a future version of numpy, it will be understood as (type, (1,)) / '(1,)type'.\n",
      "  _np_qint32 = np.dtype([(\"qint32\", np.int32, 1)])\n",
      "/Users/yanjia/anaconda3/lib/python3.7/site-packages/tensorflow/python/framework/dtypes.py:525: FutureWarning: Passing (type, 1) or '1type' as a synonym of type is deprecated; in a future version of numpy, it will be understood as (type, (1,)) / '(1,)type'.\n",
      "  np_resource = np.dtype([(\"resource\", np.ubyte, 1)])\n",
      "/Users/yanjia/anaconda3/lib/python3.7/site-packages/tensorboard/compat/tensorflow_stub/dtypes.py:541: FutureWarning: Passing (type, 1) or '1type' as a synonym of type is deprecated; in a future version of numpy, it will be understood as (type, (1,)) / '(1,)type'.\n",
      "  _np_qint8 = np.dtype([(\"qint8\", np.int8, 1)])\n",
      "/Users/yanjia/anaconda3/lib/python3.7/site-packages/tensorboard/compat/tensorflow_stub/dtypes.py:542: FutureWarning: Passing (type, 1) or '1type' as a synonym of type is deprecated; in a future version of numpy, it will be understood as (type, (1,)) / '(1,)type'.\n",
      "  _np_quint8 = np.dtype([(\"quint8\", np.uint8, 1)])\n",
      "/Users/yanjia/anaconda3/lib/python3.7/site-packages/tensorboard/compat/tensorflow_stub/dtypes.py:543: FutureWarning: Passing (type, 1) or '1type' as a synonym of type is deprecated; in a future version of numpy, it will be understood as (type, (1,)) / '(1,)type'.\n",
      "  _np_qint16 = np.dtype([(\"qint16\", np.int16, 1)])\n",
      "/Users/yanjia/anaconda3/lib/python3.7/site-packages/tensorboard/compat/tensorflow_stub/dtypes.py:544: FutureWarning: Passing (type, 1) or '1type' as a synonym of type is deprecated; in a future version of numpy, it will be understood as (type, (1,)) / '(1,)type'.\n",
      "  _np_quint16 = np.dtype([(\"quint16\", np.uint16, 1)])\n",
      "/Users/yanjia/anaconda3/lib/python3.7/site-packages/tensorboard/compat/tensorflow_stub/dtypes.py:545: FutureWarning: Passing (type, 1) or '1type' as a synonym of type is deprecated; in a future version of numpy, it will be understood as (type, (1,)) / '(1,)type'.\n",
      "  _np_qint32 = np.dtype([(\"qint32\", np.int32, 1)])\n",
      "/Users/yanjia/anaconda3/lib/python3.7/site-packages/tensorboard/compat/tensorflow_stub/dtypes.py:550: FutureWarning: Passing (type, 1) or '1type' as a synonym of type is deprecated; in a future version of numpy, it will be understood as (type, (1,)) / '(1,)type'.\n",
      "  np_resource = np.dtype([(\"resource\", np.ubyte, 1)])\n"
     ]
    }
   ],
   "source": [
    "import numpy as np\n",
    "import pandas as pd\n",
    "from pandas import DataFrame\n",
    "from pandas import read_csv\n",
    "from matplotlib import pyplot\n",
    "import matplotlib.pyplot as plt\n",
    "from tensorflow.keras.models import Sequential\n",
    "from tensorflow.keras.layers import Dense\n",
    "from tensorflow.keras.layers import Flatten\n",
    "from tensorflow.keras.layers import Dropout\n",
    "from tensorflow.keras.layers import BatchNormalization\n",
    "#from keras_layer_normalization import LayerNormalization\n",
    "from tensorflow.keras.layers import Conv1D\n",
    "from tensorflow.keras.layers import MaxPooling1D\n",
    "from tensorflow.keras.utils import to_categorical\n",
    "from tensorflow.keras.callbacks import LearningRateScheduler\n",
    "from tensorflow.keras.regularizers import l2\n",
    "from tensorflow.keras.regularizers import l1\n",
    "#from tensorflow.keras.layers import LayerNormalization\n",
    "\n",
    "# supress deprecation warnings from TF\n",
    "import tensorflow as tf\n",
    "tf.compat.v1.logging.set_verbosity(tf.compat.v1.logging.ERROR)"
   ]
  },
  {
   "cell_type": "code",
   "execution_count": 2,
   "metadata": {},
   "outputs": [],
   "source": [
    "##############  read the train data and test data ##################################"
   ]
  },
  {
   "cell_type": "code",
   "execution_count": 3,
   "metadata": {},
   "outputs": [],
   "source": [
    "train_set=read_csv('data/train_set.csv')\n",
    "val_set=read_csv('data/val_set.csv')\n",
    "test_set=read_csv('data/test_set.csv')"
   ]
  },
  {
   "cell_type": "code",
   "execution_count": 4,
   "metadata": {},
   "outputs": [],
   "source": [
    "trainy=read_csv('data/trainy.csv')\n",
    "valy=read_csv('data/valy.csv')\n",
    "testy=read_csv('data/testy.csv')"
   ]
  },
  {
   "cell_type": "code",
   "execution_count": 5,
   "metadata": {},
   "outputs": [],
   "source": [
    "df = read_csv('data/orginal_data.csv')"
   ]
  },
  {
   "cell_type": "code",
   "execution_count": 6,
   "metadata": {},
   "outputs": [],
   "source": [
    "# make the range between 0 and 1\n",
    "column = list(train_set.columns.values)\n",
    "for col in column:\n",
    "    minimum = df[col].min()\n",
    "    maximum = df[col].max()\n",
    "    train_set[col] = (train_set[col] - minimum)/(maximum-minimum)\n",
    "    val_set[col] = (val_set[col] - minimum)/(maximum-minimum)\n",
    "    test_set[col] = (test_set[col] - minimum)/(maximum-minimum)"
   ]
  },
  {
   "cell_type": "code",
   "execution_count": 7,
   "metadata": {},
   "outputs": [
    {
     "data": {
      "text/html": [
       "<div>\n",
       "<style scoped>\n",
       "    .dataframe tbody tr th:only-of-type {\n",
       "        vertical-align: middle;\n",
       "    }\n",
       "\n",
       "    .dataframe tbody tr th {\n",
       "        vertical-align: top;\n",
       "    }\n",
       "\n",
       "    .dataframe thead th {\n",
       "        text-align: right;\n",
       "    }\n",
       "</style>\n",
       "<table border=\"1\" class=\"dataframe\">\n",
       "  <thead>\n",
       "    <tr style=\"text-align: right;\">\n",
       "      <th></th>\n",
       "      <th>Admittype</th>\n",
       "      <th>Ethnicity</th>\n",
       "      <th>Gender</th>\n",
       "      <th>Age</th>\n",
       "      <th>Admission Weight (Kg)</th>\n",
       "      <th>Heart Rate</th>\n",
       "      <th>Respiratory Rate</th>\n",
       "      <th>O2 saturation pulseoxymetry</th>\n",
       "      <th>Inspired O2 Fraction</th>\n",
       "      <th>PEEP set</th>\n",
       "      <th>...</th>\n",
       "      <th>Peak Insp. Pressure</th>\n",
       "      <th>O2 Flow</th>\n",
       "      <th>Plateau Pressure</th>\n",
       "      <th>Arterial O2 pressure</th>\n",
       "      <th>Arterial CO2 Pressure</th>\n",
       "      <th>Arterial Blood Pressure systolic</th>\n",
       "      <th>Arterial Blood Pressure diastolic</th>\n",
       "      <th>Arterial Blood Pressure mean</th>\n",
       "      <th>SBT_value</th>\n",
       "      <th>ventilator_category</th>\n",
       "    </tr>\n",
       "  </thead>\n",
       "  <tbody>\n",
       "    <tr>\n",
       "      <th>0</th>\n",
       "      <td>1.0</td>\n",
       "      <td>0.0</td>\n",
       "      <td>0.0</td>\n",
       "      <td>0.165179</td>\n",
       "      <td>0.567901</td>\n",
       "      <td>0.289308</td>\n",
       "      <td>0.128571</td>\n",
       "      <td>1.0</td>\n",
       "      <td>0.4</td>\n",
       "      <td>0.333333</td>\n",
       "      <td>...</td>\n",
       "      <td>0.612903</td>\n",
       "      <td>0.12</td>\n",
       "      <td>0.53125</td>\n",
       "      <td>0.289604</td>\n",
       "      <td>0.58209</td>\n",
       "      <td>0.268908</td>\n",
       "      <td>0.214953</td>\n",
       "      <td>0.154070</td>\n",
       "      <td>0.5</td>\n",
       "      <td>0.136364</td>\n",
       "    </tr>\n",
       "    <tr>\n",
       "      <th>1</th>\n",
       "      <td>1.0</td>\n",
       "      <td>0.0</td>\n",
       "      <td>0.0</td>\n",
       "      <td>0.165179</td>\n",
       "      <td>0.567901</td>\n",
       "      <td>0.210692</td>\n",
       "      <td>0.125000</td>\n",
       "      <td>1.0</td>\n",
       "      <td>0.4</td>\n",
       "      <td>0.333333</td>\n",
       "      <td>...</td>\n",
       "      <td>0.612903</td>\n",
       "      <td>0.12</td>\n",
       "      <td>0.53125</td>\n",
       "      <td>0.289604</td>\n",
       "      <td>0.58209</td>\n",
       "      <td>0.268908</td>\n",
       "      <td>0.214953</td>\n",
       "      <td>0.154070</td>\n",
       "      <td>0.5</td>\n",
       "      <td>0.136364</td>\n",
       "    </tr>\n",
       "    <tr>\n",
       "      <th>2</th>\n",
       "      <td>1.0</td>\n",
       "      <td>0.0</td>\n",
       "      <td>0.0</td>\n",
       "      <td>0.165179</td>\n",
       "      <td>0.567901</td>\n",
       "      <td>0.226415</td>\n",
       "      <td>0.128571</td>\n",
       "      <td>1.0</td>\n",
       "      <td>0.4</td>\n",
       "      <td>0.333333</td>\n",
       "      <td>...</td>\n",
       "      <td>0.612903</td>\n",
       "      <td>0.12</td>\n",
       "      <td>0.53125</td>\n",
       "      <td>0.289604</td>\n",
       "      <td>0.58209</td>\n",
       "      <td>0.268908</td>\n",
       "      <td>0.214953</td>\n",
       "      <td>0.154070</td>\n",
       "      <td>0.5</td>\n",
       "      <td>0.136364</td>\n",
       "    </tr>\n",
       "    <tr>\n",
       "      <th>3</th>\n",
       "      <td>1.0</td>\n",
       "      <td>0.0</td>\n",
       "      <td>0.0</td>\n",
       "      <td>0.165179</td>\n",
       "      <td>0.567901</td>\n",
       "      <td>0.257862</td>\n",
       "      <td>0.128571</td>\n",
       "      <td>1.0</td>\n",
       "      <td>0.4</td>\n",
       "      <td>0.333333</td>\n",
       "      <td>...</td>\n",
       "      <td>0.612903</td>\n",
       "      <td>0.12</td>\n",
       "      <td>0.53125</td>\n",
       "      <td>0.289604</td>\n",
       "      <td>0.58209</td>\n",
       "      <td>0.331933</td>\n",
       "      <td>0.242991</td>\n",
       "      <td>0.188953</td>\n",
       "      <td>0.5</td>\n",
       "      <td>0.136364</td>\n",
       "    </tr>\n",
       "    <tr>\n",
       "      <th>4</th>\n",
       "      <td>1.0</td>\n",
       "      <td>0.0</td>\n",
       "      <td>0.0</td>\n",
       "      <td>0.165179</td>\n",
       "      <td>0.567901</td>\n",
       "      <td>0.232704</td>\n",
       "      <td>0.128571</td>\n",
       "      <td>1.0</td>\n",
       "      <td>0.4</td>\n",
       "      <td>0.333333</td>\n",
       "      <td>...</td>\n",
       "      <td>0.548387</td>\n",
       "      <td>0.12</td>\n",
       "      <td>0.53125</td>\n",
       "      <td>0.289604</td>\n",
       "      <td>0.58209</td>\n",
       "      <td>0.184874</td>\n",
       "      <td>0.210280</td>\n",
       "      <td>0.142442</td>\n",
       "      <td>0.5</td>\n",
       "      <td>0.136364</td>\n",
       "    </tr>\n",
       "  </tbody>\n",
       "</table>\n",
       "<p>5 rows × 25 columns</p>\n",
       "</div>"
      ],
      "text/plain": [
       "   Admittype  Ethnicity  Gender       Age  Admission Weight (Kg)  Heart Rate  \\\n",
       "0        1.0        0.0     0.0  0.165179               0.567901    0.289308   \n",
       "1        1.0        0.0     0.0  0.165179               0.567901    0.210692   \n",
       "2        1.0        0.0     0.0  0.165179               0.567901    0.226415   \n",
       "3        1.0        0.0     0.0  0.165179               0.567901    0.257862   \n",
       "4        1.0        0.0     0.0  0.165179               0.567901    0.232704   \n",
       "\n",
       "   Respiratory Rate  O2 saturation pulseoxymetry  Inspired O2 Fraction  \\\n",
       "0          0.128571                          1.0                   0.4   \n",
       "1          0.125000                          1.0                   0.4   \n",
       "2          0.128571                          1.0                   0.4   \n",
       "3          0.128571                          1.0                   0.4   \n",
       "4          0.128571                          1.0                   0.4   \n",
       "\n",
       "   PEEP set  ...  Peak Insp. Pressure  O2 Flow  Plateau Pressure  \\\n",
       "0  0.333333  ...             0.612903     0.12           0.53125   \n",
       "1  0.333333  ...             0.612903     0.12           0.53125   \n",
       "2  0.333333  ...             0.612903     0.12           0.53125   \n",
       "3  0.333333  ...             0.612903     0.12           0.53125   \n",
       "4  0.333333  ...             0.548387     0.12           0.53125   \n",
       "\n",
       "   Arterial O2 pressure  Arterial CO2 Pressure  \\\n",
       "0              0.289604                0.58209   \n",
       "1              0.289604                0.58209   \n",
       "2              0.289604                0.58209   \n",
       "3              0.289604                0.58209   \n",
       "4              0.289604                0.58209   \n",
       "\n",
       "   Arterial Blood Pressure systolic  Arterial Blood Pressure diastolic  \\\n",
       "0                          0.268908                           0.214953   \n",
       "1                          0.268908                           0.214953   \n",
       "2                          0.268908                           0.214953   \n",
       "3                          0.331933                           0.242991   \n",
       "4                          0.184874                           0.210280   \n",
       "\n",
       "   Arterial Blood Pressure mean  SBT_value  ventilator_category  \n",
       "0                      0.154070        0.5             0.136364  \n",
       "1                      0.154070        0.5             0.136364  \n",
       "2                      0.154070        0.5             0.136364  \n",
       "3                      0.188953        0.5             0.136364  \n",
       "4                      0.142442        0.5             0.136364  \n",
       "\n",
       "[5 rows x 25 columns]"
      ]
     },
     "execution_count": 7,
     "metadata": {},
     "output_type": "execute_result"
    }
   ],
   "source": [
    "train_set.head()"
   ]
  },
  {
   "cell_type": "code",
   "execution_count": 8,
   "metadata": {},
   "outputs": [],
   "source": [
    "train_set = train_set.values\n",
    "val_set = val_set.values\n",
    "test_set = test_set.values"
   ]
  },
  {
   "cell_type": "code",
   "execution_count": 9,
   "metadata": {},
   "outputs": [],
   "source": [
    "train_set = np.reshape(train_set, (train_set.shape[0],train_set.shape[1],1))"
   ]
  },
  {
   "cell_type": "code",
   "execution_count": 10,
   "metadata": {},
   "outputs": [],
   "source": [
    "val_set = np.reshape(val_set, (val_set.shape[0],val_set.shape[1],1))"
   ]
  },
  {
   "cell_type": "code",
   "execution_count": 11,
   "metadata": {},
   "outputs": [],
   "source": [
    "test_set = np.reshape(test_set, (test_set.shape[0],test_set.shape[1],1))"
   ]
  },
  {
   "cell_type": "code",
   "execution_count": 12,
   "metadata": {},
   "outputs": [],
   "source": [
    "sess = tf.InteractiveSession()"
   ]
  },
  {
   "cell_type": "code",
   "execution_count": 13,
   "metadata": {},
   "outputs": [
    {
     "data": {
      "text/plain": [
       "25"
      ]
     },
     "execution_count": 13,
     "metadata": {},
     "output_type": "execute_result"
    }
   ],
   "source": [
    "len(train_set[0])"
   ]
  },
  {
   "cell_type": "code",
   "execution_count": 14,
   "metadata": {},
   "outputs": [],
   "source": [
    "zero = trainy[trainy['Vented_1']==0]\n",
    "one = trainy[trainy['Vented_1']==1]"
   ]
  },
  {
   "cell_type": "code",
   "execution_count": 15,
   "metadata": {},
   "outputs": [
    {
     "data": {
      "text/plain": [
       "((42685, 1), (133291, 1), (175976, 1))"
      ]
     },
     "execution_count": 15,
     "metadata": {},
     "output_type": "execute_result"
    }
   ],
   "source": [
    "zero.shape, one.shape, trainy.shape"
   ]
  },
  {
   "cell_type": "code",
   "execution_count": 141,
   "metadata": {},
   "outputs": [
    {
     "name": "stdout",
     "output_type": "stream",
     "text": [
      "Train on 175976 samples, validate on 24531 samples\n",
      "Epoch 1/50\n",
      "175976/175976 [==============================] - 25s 143us/sample - loss: 0.6823 - acc: 0.8035 - val_loss: 0.3819 - val_acc: 0.8653\n",
      "Epoch 2/50\n",
      "175976/175976 [==============================] - 2185s 12ms/sample - loss: 0.6277 - acc: 0.8259 - val_loss: 0.3811 - val_acc: 0.8561\n",
      "Epoch 3/50\n",
      "175976/175976 [==============================] - 35s 201us/sample - loss: 0.6151 - acc: 0.8326 - val_loss: 0.4232 - val_acc: 0.8232\n",
      "Epoch 4/50\n",
      "175976/175976 [==============================] - 36s 206us/sample - loss: 0.6089 - acc: 0.8359 - val_loss: 0.3582 - val_acc: 0.8676\n",
      "Epoch 5/50\n",
      "175976/175976 [==============================] - 36s 205us/sample - loss: 0.6029 - acc: 0.8383 - val_loss: 0.4047 - val_acc: 0.8534\n",
      "Epoch 6/50\n",
      "175976/175976 [==============================] - 36s 206us/sample - loss: 0.6024 - acc: 0.8390 - val_loss: 0.4517 - val_acc: 0.8067\n",
      "Epoch 7/50\n",
      "175976/175976 [==============================] - 36s 206us/sample - loss: 0.6004 - acc: 0.8388 - val_loss: 0.3908 - val_acc: 0.8392\n",
      "Epoch 8/50\n",
      "175976/175976 [==============================] - 37s 208us/sample - loss: 0.5982 - acc: 0.8388 - val_loss: 0.3878 - val_acc: 0.8404\n",
      "Epoch 9/50\n",
      "175976/175976 [==============================] - 37s 210us/sample - loss: 0.5993 - acc: 0.8398 - val_loss: 0.3666 - val_acc: 0.8584\n",
      "Epoch 10/50\n",
      "175976/175976 [==============================] - 37s 209us/sample - loss: 0.6009 - acc: 0.8381 - val_loss: 0.3825 - val_acc: 0.8541\n",
      "Epoch 11/50\n",
      "175976/175976 [==============================] - 37s 210us/sample - loss: 0.5962 - acc: 0.8401 - val_loss: 0.3744 - val_acc: 0.8488\n",
      "Epoch 12/50\n",
      "175976/175976 [==============================] - 37s 212us/sample - loss: 0.5596 - acc: 0.8519 - val_loss: 0.3678 - val_acc: 0.8490\n",
      "Epoch 13/50\n",
      "175976/175976 [==============================] - 37s 210us/sample - loss: 0.5438 - acc: 0.8559 - val_loss: 0.3619 - val_acc: 0.8539\n",
      "Epoch 14/50\n",
      "175976/175976 [==============================] - 37s 212us/sample - loss: 0.5380 - acc: 0.8579 - val_loss: 0.3869 - val_acc: 0.8323\n",
      "Epoch 15/50\n",
      "175976/175976 [==============================] - 38s 215us/sample - loss: 0.5332 - acc: 0.8585 - val_loss: 0.3659 - val_acc: 0.8515\n",
      "Epoch 16/50\n",
      "175976/175976 [==============================] - 38s 215us/sample - loss: 0.5306 - acc: 0.8587 - val_loss: 0.3582 - val_acc: 0.8500\n",
      "Epoch 17/50\n",
      "175976/175976 [==============================] - 38s 218us/sample - loss: 0.5290 - acc: 0.8588 - val_loss: 0.3579 - val_acc: 0.8457\n",
      "Epoch 18/50\n",
      "175976/175976 [==============================] - 38s 218us/sample - loss: 0.5287 - acc: 0.8581 - val_loss: 0.3593 - val_acc: 0.8498\n",
      "Epoch 19/50\n",
      "175976/175976 [==============================] - 39s 220us/sample - loss: 0.5284 - acc: 0.8584 - val_loss: 0.3699 - val_acc: 0.8432\n",
      "Epoch 20/50\n",
      "175976/175976 [==============================] - 39s 221us/sample - loss: 0.5258 - acc: 0.8597 - val_loss: 0.3671 - val_acc: 0.8480\n",
      "Epoch 21/50\n",
      "175976/175976 [==============================] - 39s 221us/sample - loss: 0.5267 - acc: 0.8582 - val_loss: 0.3596 - val_acc: 0.8506\n",
      "Epoch 22/50\n",
      "175976/175976 [==============================] - 39s 221us/sample - loss: 0.5177 - acc: 0.8621 - val_loss: 0.3684 - val_acc: 0.8446\n",
      "Epoch 23/50\n",
      "175976/175976 [==============================] - 40s 225us/sample - loss: 0.5167 - acc: 0.8626 - val_loss: 0.3673 - val_acc: 0.8460\n",
      "Epoch 24/50\n",
      "175976/175976 [==============================] - 39s 224us/sample - loss: 0.5173 - acc: 0.8620 - val_loss: 0.3641 - val_acc: 0.8482\n",
      "Epoch 25/50\n",
      "175976/175976 [==============================] - 40s 226us/sample - loss: 0.5170 - acc: 0.8620 - val_loss: 0.3618 - val_acc: 0.8507\n",
      "Epoch 26/50\n",
      "175976/175976 [==============================] - 40s 227us/sample - loss: 0.5163 - acc: 0.8625 - val_loss: 0.3762 - val_acc: 0.8407\n",
      "Epoch 27/50\n",
      "175976/175976 [==============================] - 40s 226us/sample - loss: 0.5159 - acc: 0.8622 - val_loss: 0.3680 - val_acc: 0.8437\n",
      "Epoch 28/50\n",
      "175976/175976 [==============================] - 52s 293us/sample - loss: 0.5164 - acc: 0.8623 - val_loss: 0.3700 - val_acc: 0.8440\n",
      "Epoch 29/50\n",
      "175976/175976 [==============================] - 58s 332us/sample - loss: 0.5135 - acc: 0.8635 - val_loss: 0.3619 - val_acc: 0.8488\n",
      "Epoch 30/50\n",
      "175976/175976 [==============================] - 56s 316us/sample - loss: 0.5159 - acc: 0.8634 - val_loss: 0.3738 - val_acc: 0.8414\n",
      "Epoch 31/50\n",
      "175976/175976 [==============================] - 50s 286us/sample - loss: 0.5137 - acc: 0.8628 - val_loss: 0.3640 - val_acc: 0.8487\n",
      "Epoch 32/50\n",
      "175976/175976 [==============================] - 51s 292us/sample - loss: 0.5121 - acc: 0.8634 - val_loss: 0.3671 - val_acc: 0.8465\n",
      "Epoch 33/50\n",
      "175976/175976 [==============================] - 51s 291us/sample - loss: 0.5137 - acc: 0.8634 - val_loss: 0.3640 - val_acc: 0.8501\n",
      "Epoch 34/50\n",
      "175976/175976 [==============================] - 52s 297us/sample - loss: 0.5138 - acc: 0.8629 - val_loss: 0.3684 - val_acc: 0.8450\n",
      "Epoch 35/50\n",
      "175976/175976 [==============================] - 53s 302us/sample - loss: 0.5137 - acc: 0.8629 - val_loss: 0.3656 - val_acc: 0.8462\n",
      "Epoch 36/50\n",
      "175976/175976 [==============================] - 52s 296us/sample - loss: 0.5131 - acc: 0.8633 - val_loss: 0.3615 - val_acc: 0.8492\n",
      "Epoch 37/50\n",
      "175976/175976 [==============================] - 53s 299us/sample - loss: 0.5126 - acc: 0.8642 - val_loss: 0.3632 - val_acc: 0.8505\n",
      "Epoch 38/50\n",
      "175976/175976 [==============================] - 52s 295us/sample - loss: 0.5114 - acc: 0.8627 - val_loss: 0.3699 - val_acc: 0.8461\n",
      "Epoch 39/50\n",
      "175976/175976 [==============================] - 51s 292us/sample - loss: 0.5134 - acc: 0.8629 - val_loss: 0.3610 - val_acc: 0.8522\n",
      "Epoch 40/50\n",
      "175976/175976 [==============================] - 52s 294us/sample - loss: 0.5127 - acc: 0.8637 - val_loss: 0.3603 - val_acc: 0.8518\n",
      "Epoch 41/50\n",
      "175976/175976 [==============================] - 52s 297us/sample - loss: 0.5119 - acc: 0.8643 - val_loss: 0.3659 - val_acc: 0.8468\n",
      "Epoch 42/50\n",
      "175976/175976 [==============================] - 52s 295us/sample - loss: 0.5113 - acc: 0.8635 - val_loss: 0.3688 - val_acc: 0.8444\n",
      "Epoch 43/50\n",
      "175976/175976 [==============================] - 52s 296us/sample - loss: 0.5116 - acc: 0.8644 - val_loss: 0.3680 - val_acc: 0.8450\n",
      "Epoch 44/50\n",
      "175976/175976 [==============================] - 53s 301us/sample - loss: 0.5108 - acc: 0.8647 - val_loss: 0.3680 - val_acc: 0.8451\n",
      "Epoch 45/50\n",
      "175976/175976 [==============================] - 53s 301us/sample - loss: 0.5118 - acc: 0.8629 - val_loss: 0.3664 - val_acc: 0.8463\n",
      "Epoch 46/50\n",
      "175976/175976 [==============================] - 52s 298us/sample - loss: 0.5121 - acc: 0.8637 - val_loss: 0.3675 - val_acc: 0.8455\n",
      "Epoch 47/50\n",
      "175976/175976 [==============================] - 53s 301us/sample - loss: 0.5120 - acc: 0.8639 - val_loss: 0.3660 - val_acc: 0.8466\n",
      "Epoch 48/50\n",
      "175976/175976 [==============================] - 55s 311us/sample - loss: 0.5122 - acc: 0.8643 - val_loss: 0.3654 - val_acc: 0.8471\n",
      "Epoch 49/50\n",
      "175976/175976 [==============================] - 53s 302us/sample - loss: 0.5118 - acc: 0.8640 - val_loss: 0.3679 - val_acc: 0.8453\n",
      "Epoch 50/50\n",
      "175976/175976 [==============================] - 55s 313us/sample - loss: 0.5114 - acc: 0.8634 - val_loss: 0.3692 - val_acc: 0.8440\n",
      "4372.3167769908905 seconds\n"
     ]
    }
   ],
   "source": [
    "#cnn model input_shape=25*1\n",
    "import time\n",
    "start_time = time.time()\n",
    "\n",
    "n_timesteps, n_features, n_outputs = 1, 25, 1\n",
    "epochs, batch_size = 50, 128\n",
    "cnn_model = Sequential()\n",
    "cnn_model.add(Conv1D(filters=64, kernel_size=1, activation='relu',  kernel_regularizer= l2(0.0005), input_shape=(n_features, n_timesteps)))\n",
    "cnn_model.add(Conv1D(filters=128, kernel_size=1, activation='relu',  kernel_regularizer= l2(0.0005)))\n",
    "cnn_model.add(Conv1D(filters=256, kernel_size=1, activation='relu', kernel_regularizer= l2(0.0005)))\n",
    "#cnn_model.add(BatchNormalization())\n",
    "cnn_model.add(Conv1D(filters=256, kernel_size=1, activation='relu', kernel_regularizer= l2(0.0005)))\n",
    "#cnn_model.add(BatchNormalization())\n",
    "cnn_model.add(Dropout(0.5))\n",
    "#cnn_model.add(MaxPooling1D(pool_size=2))\n",
    "cnn_model.add(Flatten())\n",
    "cnn_model.add(Dense(128, activation='relu', kernel_regularizer=l2(0.0005)))\n",
    "cnn_model.add(Dense(n_outputs, activation='sigmoid'))\n",
    "\n",
    "def schedule(epoch):\n",
    "    if epoch<=10:\n",
    "        return 1e-2\n",
    "    elif epoch<= 20:\n",
    "        return 1e-3\n",
    "    elif epoch<=40:\n",
    "        return 1e-4\n",
    "    else:\n",
    "        return 1e-5\n",
    "\n",
    "lr_schedule= LearningRateScheduler(schedule)\n",
    "class_weight = {0: 3.,\n",
    "                1: 1.}\n",
    "\n",
    "cnn_model.compile(loss='binary_crossentropy', optimizer='adam', metrics=['accuracy'])\n",
    "history = cnn_model.fit(train_set, trainy, validation_data=(val_set, valy), epochs=epochs, batch_size=batch_size, \n",
    "                    shuffle=True, callbacks=[lr_schedule], class_weight=class_weight, verbose=1)\n",
    "\n",
    "elapsed_time = time.time() - start_time\n",
    "print(elapsed_time, 'seconds')"
   ]
  },
  {
   "cell_type": "code",
   "execution_count": 142,
   "metadata": {
    "scrolled": true
   },
   "outputs": [
    {
     "name": "stdout",
     "output_type": "stream",
     "text": [
      "Model: \"sequential_17\"\n",
      "_________________________________________________________________\n",
      "Layer (type)                 Output Shape              Param #   \n",
      "=================================================================\n",
      "conv1d_68 (Conv1D)           (None, 25, 64)            128       \n",
      "_________________________________________________________________\n",
      "conv1d_69 (Conv1D)           (None, 25, 128)           8320      \n",
      "_________________________________________________________________\n",
      "conv1d_70 (Conv1D)           (None, 25, 256)           33024     \n",
      "_________________________________________________________________\n",
      "conv1d_71 (Conv1D)           (None, 25, 256)           65792     \n",
      "_________________________________________________________________\n",
      "dropout_17 (Dropout)         (None, 25, 256)           0         \n",
      "_________________________________________________________________\n",
      "flatten_17 (Flatten)         (None, 6400)              0         \n",
      "_________________________________________________________________\n",
      "dense_34 (Dense)             (None, 128)               819328    \n",
      "_________________________________________________________________\n",
      "dense_35 (Dense)             (None, 1)                 129       \n",
      "=================================================================\n",
      "Total params: 926,721\n",
      "Trainable params: 926,721\n",
      "Non-trainable params: 0\n",
      "_________________________________________________________________\n"
     ]
    }
   ],
   "source": [
    "cnn_model.summary()"
   ]
  },
  {
   "cell_type": "code",
   "execution_count": 143,
   "metadata": {},
   "outputs": [
    {
     "name": "stdout",
     "output_type": "stream",
     "text": [
      "dict_keys(['loss', 'acc', 'val_loss', 'val_acc', 'lr'])\n"
     ]
    },
    {
     "data": {
      "image/png": "[encoded data removed]",
      "text/plain": [
       "<Figure size 432x288 with 1 Axes>"
      ]
     },
     "metadata": {
      "needs_background": "light"
     },
     "output_type": "display_data"
    }
   ],
   "source": [
    "print(history.history.keys()) # just to check if the keyword accuracy and loss are present in the model metadata\n",
    "\n",
    "# plot train and val accuracy\n",
    "plt.plot(history.history['acc'])\n",
    "plt.plot(history.history['val_acc'])\n",
    "plt.title('Model Accuracy')\n",
    "plt.ylabel('Accuracy')\n",
    "plt.xlabel('Epoch')\n",
    "plt.legend(['Train', 'Val'], loc='upper left')\n",
    "plt.show()"
   ]
  },
  {
   "cell_type": "code",
   "execution_count": 144,
   "metadata": {},
   "outputs": [
    {
     "data": {
      "image/png": "[encoded data removed]",
      "text/plain": [
       "<Figure size 432x288 with 1 Axes>"
      ]
     },
     "metadata": {
      "needs_background": "light"
     },
     "output_type": "display_data"
    }
   ],
   "source": [
    "# plot train and val loss\n",
    "plt.plot(history.history['loss'])\n",
    "plt.plot(history.history['val_loss'])\n",
    "plt.title('Model Loss')\n",
    "plt.ylabel('Loss')\n",
    "plt.xlabel('Epoch')\n",
    "plt.legend(['Train', 'Test'], loc='upper left')\n",
    "plt.show()"
   ]
  },
  {
   "cell_type": "code",
   "execution_count": 145,
   "metadata": {},
   "outputs": [
    {
     "name": "stdout",
     "output_type": "stream",
     "text": [
      "19584/19584 [==============================] - 2s 98us/sample - loss: 0.3915 - acc: 0.8295\n"
     ]
    }
   ],
   "source": [
    "# evaluate model\n",
    "_, accuracy_test = cnn_model.evaluate(test_set, testy, batch_size=batch_size, verbose=1)"
   ]
  },
  {
   "cell_type": "code",
   "execution_count": 146,
   "metadata": {},
   "outputs": [
    {
     "data": {
      "image/png": "[encoded data removed]",
      "text/plain": [
       "<Figure size 432x288 with 1 Axes>"
      ]
     },
     "metadata": {
      "needs_background": "light"
     },
     "output_type": "display_data"
    },
    {
     "data": {
      "image/png": "[encoded data removed]",
      "text/plain": [
       "<Figure size 432x288 with 1 Axes>"
      ]
     },
     "metadata": {
      "needs_background": "light"
     },
     "output_type": "display_data"
    }
   ],
   "source": [
    "#import glob\n",
    "import matplotlib.pyplot as plt\n",
    "#import cv2\n",
    "import pandas as pd\n",
    "\n",
    "import numpy as np\n",
    "from sklearn.metrics import roc_curve, auc\n",
    "\n",
    "#import models\n",
    "from keras.callbacks import ReduceLROnPlateau, ModelCheckpoint\n",
    "\n",
    "\n",
    "\n",
    "y_pred_val = cnn_model.predict(val_set)\n",
    "y_pred_val = y_pred_val.ravel()\n",
    "y_true_val = valy.values.ravel()\n",
    "fpr_val, tpr_val, thresholds_val = roc_curve(y_true_val, y_pred_val)\n",
    "auc_val = auc(fpr_val, tpr_val)\n",
    "\n",
    "\n",
    "y_pred_test = cnn_model.predict(test_set)\n",
    "y_pred_test = y_pred_test.ravel()\n",
    "y_true_test = testy.values.ravel()\n",
    "fpr_test, tpr_test, thresholds_test = roc_curve(y_true_test, y_pred_test)\n",
    "auc_test = auc(fpr_test, tpr_test)\n",
    "\n",
    "modelname = 'cnn_l2'\n",
    "\n",
    "plt.plot([0, 1], [0, 1], 'k--')\n",
    "#plt.plot(fpr_focusnet, tpr_focusnet, label= 'U-net (area = {:.3f})'.format(auc_focusnet))\n",
    "#plt.plot(fpr_attn_unet, tpr_attn_unet, label= 'U-net++ (area = {:.3f})'.format(auc_attn_unet))\n",
    "plt.plot(fpr_val, tpr_val, label= 'CNN Validation (area = {:.2f})'.format(auc_val))\n",
    "plt.plot(fpr_test, tpr_test, label= 'CNN Test (area = {:.2f})'.format(auc_test))\n",
    "#plt.plot(fpr_wide_unet, tpr_wide_unet, label= 'FocusnetAlpha1 (area = {:.3f})'.format(auc_wide_unet))\n",
    "plt.xlabel('False positive rate')\n",
    "plt.ylabel('True positive rate')\n",
    "plt.title('ROC curve')\n",
    "plt.grid()\n",
    "plt.legend(loc='best')\n",
    "plt.show()\n",
    "plt.savefig(modelname + '_auc.png')\n",
    "\n",
    "plt.xlim(0, 0.2)\n",
    "plt.ylim(0.8, 1)\n",
    "plt.plot([0, 1], [0, 1], 'k--')\n",
    "#plt.plot(fpr_focusnet, tpr_focusnet, label= 'U-net (area = {:.3f})'.format(auc_focusnet))\n",
    "#plt.plot(fpr_attn_unet, tpr_attn_unet, label= 'U-net++ (area = {:.3f})'.format(auc_attn_unet))\n",
    "plt.plot(fpr_val, tpr_val, label= 'CNN Validation (area = {:.3f})'.format(auc_val))\n",
    "plt.plot(fpr_test, tpr_test, label= 'CNN Test (area = {:.3f})'.format(auc_test))\n",
    "#plt.plot(fpr_wide_unet, tpr_wide_unet, label= 'FocusnetAlpha1 (area = {:.3f})'.format(auc_wide_unet))\n",
    "plt.xlabel('False positive rate')\n",
    "plt.ylabel('True positive rate')\n",
    "plt.title('ROC curve (zoomed in at top left)')\n",
    "plt.grid()\n",
    "plt.legend(loc='best')\n",
    "plt.show()"
   ]
  },
  {
   "cell_type": "code",
   "execution_count": 138,
   "metadata": {},
   "outputs": [],
   "source": [
    "from sklearn.metrics import classification_report"
   ]
  },
  {
   "cell_type": "code",
   "execution_count": 128,
   "metadata": {},
   "outputs": [],
   "source": [
    "target_names = ['class 0', 'class 1']\n",
    "y_pred_val[y_pred_val>0.5] = 1\n",
    "y_pred_val[y_pred_val<=0.5] = 0\n",
    "y_pred_test[y_pred_test>0.5] = 1\n",
    "y_pred_test[y_pred_test<=0.5] = 0"
   ]
  },
  {
   "cell_type": "code",
   "execution_count": 129,
   "metadata": {
    "scrolled": true
   },
   "outputs": [
    {
     "name": "stdout",
     "output_type": "stream",
     "text": [
      "              precision    recall  f1-score   support\n",
      "\n",
      "     class 0       0.68      0.86      0.76      6001\n",
      "     class 1       0.95      0.87      0.91     18530\n",
      "\n",
      "    accuracy                           0.87     24531\n",
      "   macro avg       0.81      0.86      0.83     24531\n",
      "weighted avg       0.88      0.87      0.87     24531\n",
      "\n"
     ]
    }
   ],
   "source": [
    "print(classification_report(valy.values, y_pred_val, target_names=target_names))"
   ]
  },
  {
   "cell_type": "code",
   "execution_count": 130,
   "metadata": {},
   "outputs": [
    {
     "name": "stdout",
     "output_type": "stream",
     "text": [
      "              precision    recall  f1-score   support\n",
      "\n",
      "     class 0       0.68      0.73      0.70      5051\n",
      "     class 1       0.90      0.88      0.89     14533\n",
      "\n",
      "    accuracy                           0.84     19584\n",
      "   macro avg       0.79      0.81      0.80     19584\n",
      "weighted avg       0.85      0.84      0.84     19584\n",
      "\n"
     ]
    }
   ],
   "source": [
    "print(classification_report(testy.values, y_pred_test, target_names=target_names))"
   ]
  },
  {
   "cell_type": "code",
   "execution_count": 131,
   "metadata": {},
   "outputs": [
    {
     "data": {
      "text/plain": [
       "(0.8418607026143791, 0.8418607026143791, 0.841860702614379, None)"
      ]
     },
     "execution_count": 131,
     "metadata": {},
     "output_type": "execute_result"
    }
   ],
   "source": [
    "from sklearn.metrics import precision_recall_fscore_support\n",
    "precision_recall_fscore_support(testy.values, y_pred_test, average='micro')"
   ]
  },
  {
   "cell_type": "code",
   "execution_count": null,
   "metadata": {},
   "outputs": [],
   "source": []
  },
  {
   "cell_type": "code",
   "execution_count": null,
   "metadata": {},
   "outputs": [],
   "source": []
  },
  {
   "cell_type": "code",
   "execution_count": null,
   "metadata": {},
   "outputs": [],
   "source": [
    "from hyperopt import fmin, tpe, hp, Trials, STATUS_OK\n",
    "import time\n",
    "\n",
    "space = {\n",
    "    'regularize' : hp.uniform('regularize', 0.00001, 0.001)\n",
    "    #'filters' : hp.choice('filters', [32, 64, 128, 256]),\n",
    "    }\n",
    "\n",
    "def evluate_model(space):\n",
    "    #cnn model input_shape=25*1\n",
    "    \n",
    "    regularize = space['regularize']\n",
    "    #filters = space['filters']\n",
    "    n_timesteps, n_features, n_outputs = 1, 25, 1\n",
    "    epochs, batch_size = 30, 256\n",
    "    cnn_model = Sequential()\n",
    "    cnn_model.add(Conv1D(filters=64, kernel_size=1, activation='relu',  kernel_regularizer= l2(regularize), input_shape=(n_features, n_timesteps)))\n",
    "    cnn_model.add(Conv1D(filters=128, kernel_size=1, activation='relu',  kernel_regularizer= l2(regularize)))\n",
    "    cnn_model.add(Conv1D(filters=256, kernel_size=1, activation='relu', kernel_regularizer= l2(regularize)))\n",
    "    #cnn_model.add(BatchNormalization())\n",
    "    cnn_model.add(Conv1D(filters=256, kernel_size=1, activation='relu', kernel_regularizer= l2(regularize)))\n",
    "    #cnn_model.add(BatchNormalization())\n",
    "    cnn_model.add(Dropout(0.5))\n",
    "    #cnn_model.add(MaxPooling1D(pool_size=2))\n",
    "    cnn_model.add(Flatten())\n",
    "    cnn_model.add(Dense(128, activation='relu', kernel_regularizer=l2(regularize)))\n",
    "    cnn_model.add(Dense(n_outputs, activation='sigmoid'))\n",
    "\n",
    "    def schedule(epoch):\n",
    "        if epoch<=10:\n",
    "            return 1e-2\n",
    "        elif epoch<=20:\n",
    "            return 1e-3\n",
    "        elif epoch<=40:\n",
    "            return 1e-4\n",
    "        else:\n",
    "            return 1e-5\n",
    "\n",
    "    lr_schedule= LearningRateScheduler(schedule)\n",
    "    class_weight = {0: 4.,\n",
    "                    1: 1.}\n",
    "\n",
    "    cnn_model.compile(loss='binary_crossentropy', optimizer='adam', metrics=['accuracy'])\n",
    "    history = cnn_model.fit(train_set, trainy, validation_data=(val_set, valy), epochs=epochs, batch_size=batch_size, \n",
    "                    shuffle=True, callbacks=[lr_schedule],  class_weight=class_weight, verbose=0)\n",
    "    _, accuracy = cnn_model.evaluate(test_set, testy, batch_size=batch_size, verbose=0)   \n",
    "    return accuracy\n",
    "\n",
    "trials = Trials()\n",
    "start_time = time.time()\n",
    "best= fmin(fn=evluate_model, space=space, algo=tpe.suggest, max_evals=20, trials=trials)\n",
    "elapsed_time = time.time() - start_time\n",
    "print('best: {}'.format(best))\n",
    "print(elapsed_time, 'hours')"
   ]
  },
  {
   "cell_type": "code",
   "execution_count": null,
   "metadata": {},
   "outputs": [],
   "source": []
  },
  {
   "cell_type": "code",
   "execution_count": null,
   "metadata": {},
   "outputs": [],
   "source": []
  },
  {
   "cell_type": "code",
   "execution_count": null,
   "metadata": {},
   "outputs": [],
   "source": []
  },
  {
   "cell_type": "code",
   "execution_count": 139,
   "metadata": {},
   "outputs": [],
   "source": [
    "cnn_model.save(\"keras2_conv1d.h5\")"
   ]
  },
  {
   "cell_type": "code",
   "execution_count": 140,
   "metadata": {},
   "outputs": [],
   "source": [
    "model_json = cnn_model.to_json()\n",
    "with open(\"keras2_conv1d.json\", \"w\") as json_file:\n",
    "    json_file.write(model_json)"
   ]
  },
  {
   "cell_type": "code",
   "execution_count": null,
   "metadata": {},
   "outputs": [],
   "source": []
  }
 ],
 "metadata": {
  "kernelspec": {
   "display_name": "Python 3",
   "language": "python",
   "name": "python3"
  },
  "language_info": {
   "codemirror_mode": {
    "name": "ipython",
    "version": 3
   },
   "file_extension": ".py",
   "mimetype": "text/x-python",
   "name": "python",
   "nbconvert_exporter": "python",
   "pygments_lexer": "ipython3",
   "version": "3.7.6"
  }
 },
 "nbformat": 4,
 "nbformat_minor": 4
}
