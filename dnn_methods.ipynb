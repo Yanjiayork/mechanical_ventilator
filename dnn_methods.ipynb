{
 "cells": [
  {
   "cell_type": "code",
   "execution_count": 1,
   "metadata": {},
   "outputs": [
    {
     "name": "stderr",
     "output_type": "stream",
     "text": [
      "/Users/yanjia/anaconda3/lib/python3.7/site-packages/tensorflow/python/framework/dtypes.py:516: FutureWarning: Passing (type, 1) or '1type' as a synonym of type is deprecated; in a future version of numpy, it will be understood as (type, (1,)) / '(1,)type'.\n",
      "  _np_qint8 = np.dtype([(\"qint8\", np.int8, 1)])\n",
      "/Users/yanjia/anaconda3/lib/python3.7/site-packages/tensorflow/python/framework/dtypes.py:517: FutureWarning: Passing (type, 1) or '1type' as a synonym of type is deprecated; in a future version of numpy, it will be understood as (type, (1,)) / '(1,)type'.\n",
      "  _np_quint8 = np.dtype([(\"quint8\", np.uint8, 1)])\n",
      "/Users/yanjia/anaconda3/lib/python3.7/site-packages/tensorflow/python/framework/dtypes.py:518: FutureWarning: Passing (type, 1) or '1type' as a synonym of type is deprecated; in a future version of numpy, it will be understood as (type, (1,)) / '(1,)type'.\n",
      "  _np_qint16 = np.dtype([(\"qint16\", np.int16, 1)])\n",
      "/Users/yanjia/anaconda3/lib/python3.7/site-packages/tensorflow/python/framework/dtypes.py:519: FutureWarning: Passing (type, 1) or '1type' as a synonym of type is deprecated; in a future version of numpy, it will be understood as (type, (1,)) / '(1,)type'.\n",
      "  _np_quint16 = np.dtype([(\"quint16\", np.uint16, 1)])\n",
      "/Users/yanjia/anaconda3/lib/python3.7/site-packages/tensorflow/python/framework/dtypes.py:520: FutureWarning: Passing (type, 1) or '1type' as a synonym of type is deprecated; in a future version of numpy, it will be understood as (type, (1,)) / '(1,)type'.\n",
      "  _np_qint32 = np.dtype([(\"qint32\", np.int32, 1)])\n",
      "/Users/yanjia/anaconda3/lib/python3.7/site-packages/tensorflow/python/framework/dtypes.py:525: FutureWarning: Passing (type, 1) or '1type' as a synonym of type is deprecated; in a future version of numpy, it will be understood as (type, (1,)) / '(1,)type'.\n",
      "  np_resource = np.dtype([(\"resource\", np.ubyte, 1)])\n",
      "/Users/yanjia/anaconda3/lib/python3.7/site-packages/tensorboard/compat/tensorflow_stub/dtypes.py:541: FutureWarning: Passing (type, 1) or '1type' as a synonym of type is deprecated; in a future version of numpy, it will be understood as (type, (1,)) / '(1,)type'.\n",
      "  _np_qint8 = np.dtype([(\"qint8\", np.int8, 1)])\n",
      "/Users/yanjia/anaconda3/lib/python3.7/site-packages/tensorboard/compat/tensorflow_stub/dtypes.py:542: FutureWarning: Passing (type, 1) or '1type' as a synonym of type is deprecated; in a future version of numpy, it will be understood as (type, (1,)) / '(1,)type'.\n",
      "  _np_quint8 = np.dtype([(\"quint8\", np.uint8, 1)])\n",
      "/Users/yanjia/anaconda3/lib/python3.7/site-packages/tensorboard/compat/tensorflow_stub/dtypes.py:543: FutureWarning: Passing (type, 1) or '1type' as a synonym of type is deprecated; in a future version of numpy, it will be understood as (type, (1,)) / '(1,)type'.\n",
      "  _np_qint16 = np.dtype([(\"qint16\", np.int16, 1)])\n",
      "/Users/yanjia/anaconda3/lib/python3.7/site-packages/tensorboard/compat/tensorflow_stub/dtypes.py:544: FutureWarning: Passing (type, 1) or '1type' as a synonym of type is deprecated; in a future version of numpy, it will be understood as (type, (1,)) / '(1,)type'.\n",
      "  _np_quint16 = np.dtype([(\"quint16\", np.uint16, 1)])\n",
      "/Users/yanjia/anaconda3/lib/python3.7/site-packages/tensorboard/compat/tensorflow_stub/dtypes.py:545: FutureWarning: Passing (type, 1) or '1type' as a synonym of type is deprecated; in a future version of numpy, it will be understood as (type, (1,)) / '(1,)type'.\n",
      "  _np_qint32 = np.dtype([(\"qint32\", np.int32, 1)])\n",
      "/Users/yanjia/anaconda3/lib/python3.7/site-packages/tensorboard/compat/tensorflow_stub/dtypes.py:550: FutureWarning: Passing (type, 1) or '1type' as a synonym of type is deprecated; in a future version of numpy, it will be understood as (type, (1,)) / '(1,)type'.\n",
      "  np_resource = np.dtype([(\"resource\", np.ubyte, 1)])\n"
     ]
    }
   ],
   "source": [
    "import numpy as np\n",
    "import pandas as pd\n",
    "from pandas import DataFrame\n",
    "from pandas import read_csv\n",
    "from matplotlib import pyplot\n",
    "import matplotlib.pyplot as plt\n",
    "from tensorflow.keras.models import Sequential\n",
    "from tensorflow.keras.layers import Dense\n",
    "from tensorflow.keras.layers import Flatten\n",
    "from tensorflow.keras.layers import Dropout\n",
    "from tensorflow.keras.layers import BatchNormalization\n",
    "#from keras_layer_normalization import LayerNormalization\n",
    "from tensorflow.keras.layers import Conv1D\n",
    "from tensorflow.keras.layers import MaxPooling1D\n",
    "from tensorflow.keras.utils import to_categorical\n",
    "from tensorflow.keras.callbacks import LearningRateScheduler\n",
    "from tensorflow.keras.regularizers import l2\n",
    "from tensorflow.keras.regularizers import l1\n",
    "#from tensorflow.keras.layers import LayerNormalization\n",
    "\n",
    "# supress deprecation warnings from TF\n",
    "import tensorflow as tf\n",
    "tf.compat.v1.logging.set_verbosity(tf.compat.v1.logging.ERROR)"
   ]
  },
  {
   "cell_type": "code",
   "execution_count": 2,
   "metadata": {},
   "outputs": [],
   "source": [
    "train_set=read_csv('data/train_set.csv')\n",
    "val_set=read_csv('data/val_set.csv')\n",
    "test_set=read_csv('data/test_set.csv')"
   ]
  },
  {
   "cell_type": "code",
   "execution_count": 3,
   "metadata": {},
   "outputs": [],
   "source": [
    "trainy=read_csv('data/trainy.csv')\n",
    "valy=read_csv('data/valy.csv')\n",
    "testy=read_csv('data/testy.csv')"
   ]
  },
  {
   "cell_type": "code",
   "execution_count": 4,
   "metadata": {},
   "outputs": [],
   "source": [
    "df = read_csv('data/orginal_data.csv')"
   ]
  },
  {
   "cell_type": "code",
   "execution_count": 5,
   "metadata": {},
   "outputs": [],
   "source": [
    "# make the range between 0 and 1\n",
    "column = list(train_set.columns.values)\n",
    "for col in column:\n",
    "    minimum = df[col].min()\n",
    "    maximum = df[col].max()\n",
    "    train_set[col] = (train_set[col] - minimum)/(maximum-minimum)\n",
    "    val_set[col] = (val_set[col] - minimum)/(maximum-minimum)\n",
    "    test_set[col] = (test_set[col] - minimum)/(maximum-minimum)"
   ]
  },
  {
   "cell_type": "code",
   "execution_count": 18,
   "metadata": {},
   "outputs": [],
   "source": [
    "train_set_cnn = train_set.values\n",
    "val_set_cnn = val_set.values\n",
    "test_set_cnn = test_set.values"
   ]
  },
  {
   "cell_type": "code",
   "execution_count": 19,
   "metadata": {},
   "outputs": [],
   "source": [
    "train_set_cnn = np.reshape(train_set_cnn, (train_set_cnn.shape[0],train_set_cnn.shape[1],1))\n",
    "val_set_cnn = np.reshape(val_set_cnn, (val_set_cnn.shape[0],val_set_cnn.shape[1],1))\n",
    "test_set_cnn = np.reshape(test_set_cnn, (test_set_cnn.shape[0],test_set_cnn.shape[1],1))"
   ]
  },
  {
   "cell_type": "code",
   "execution_count": 6,
   "metadata": {},
   "outputs": [
    {
     "data": {
      "text/plain": [
       "25"
      ]
     },
     "execution_count": 6,
     "metadata": {},
     "output_type": "execute_result"
    }
   ],
   "source": [
    "train_set.shape[1]"
   ]
  },
  {
   "cell_type": "code",
   "execution_count": 9,
   "metadata": {},
   "outputs": [
    {
     "name": "stdout",
     "output_type": "stream",
     "text": [
      "Model: \"sequential_7\"\n",
      "_________________________________________________________________\n",
      "Layer (type)                 Output Shape              Param #   \n",
      "=================================================================\n",
      "dense_34 (Dense)             (None, 64)                1664      \n",
      "_________________________________________________________________\n",
      "dense_35 (Dense)             (None, 128)               8320      \n",
      "_________________________________________________________________\n",
      "dense_36 (Dense)             (None, 256)               33024     \n",
      "_________________________________________________________________\n",
      "dense_37 (Dense)             (None, 256)               65792     \n",
      "_________________________________________________________________\n",
      "dense_38 (Dense)             (None, 128)               32896     \n",
      "_________________________________________________________________\n",
      "dense_39 (Dense)             (None, 1)                 129       \n",
      "=================================================================\n",
      "Total params: 141,825\n",
      "Trainable params: 141,825\n",
      "Non-trainable params: 0\n",
      "_________________________________________________________________\n"
     ]
    }
   ],
   "source": [
    "from tensorflow.keras.models import model_from_json\n",
    "import tensorflow\n",
    "keras_model_weights = \"final_model/keras2_dnn.h5\"\n",
    "keras_model_json = \"final_model/keras2_dnn.json\"\n",
    "\n",
    "dnn_model = model_from_json(open(keras_model_json).read())\n",
    "dnn_model = tensorflow.keras.models.load_model(keras_model_weights)\n",
    "dnn_model.summary()"
   ]
  },
  {
   "cell_type": "code",
   "execution_count": 17,
   "metadata": {},
   "outputs": [
    {
     "name": "stdout",
     "output_type": "stream",
     "text": [
      "Model: \"sequential_1\"\n",
      "_________________________________________________________________\n",
      "Layer (type)                 Output Shape              Param #   \n",
      "=================================================================\n",
      "conv1d_4 (Conv1D)            (None, 25, 64)            128       \n",
      "_________________________________________________________________\n",
      "conv1d_5 (Conv1D)            (None, 25, 128)           8320      \n",
      "_________________________________________________________________\n",
      "conv1d_6 (Conv1D)            (None, 25, 256)           33024     \n",
      "_________________________________________________________________\n",
      "conv1d_7 (Conv1D)            (None, 25, 256)           65792     \n",
      "_________________________________________________________________\n",
      "dropout_1 (Dropout)          (None, 25, 256)           0         \n",
      "_________________________________________________________________\n",
      "flatten_1 (Flatten)          (None, 6400)              0         \n",
      "_________________________________________________________________\n",
      "dense_2 (Dense)              (None, 128)               819328    \n",
      "_________________________________________________________________\n",
      "dense_3 (Dense)              (None, 1)                 129       \n",
      "=================================================================\n",
      "Total params: 926,721\n",
      "Trainable params: 926,721\n",
      "Non-trainable params: 0\n",
      "_________________________________________________________________\n"
     ]
    }
   ],
   "source": [
    "keras_model_weights = \"final_model/keras2_conv1d.h5\"\n",
    "keras_model_json = \"final_model/keras2_conv1d.json\"\n",
    "\n",
    "keras_model = model_from_json(open(keras_model_json).read())\n",
    "keras_model = tensorflow.keras.models.load_model(keras_model_weights)\n",
    "keras_model.summary()"
   ]
  },
  {
   "cell_type": "code",
   "execution_count": null,
   "metadata": {},
   "outputs": [],
   "source": []
  },
  {
   "cell_type": "code",
   "execution_count": null,
   "metadata": {},
   "outputs": [],
   "source": []
  },
  {
   "cell_type": "code",
   "execution_count": null,
   "metadata": {},
   "outputs": [],
   "source": []
  },
  {
   "cell_type": "code",
   "execution_count": null,
   "metadata": {},
   "outputs": [],
   "source": []
  },
  {
   "cell_type": "code",
   "execution_count": null,
   "metadata": {},
   "outputs": [],
   "source": []
  },
  {
   "cell_type": "code",
   "execution_count": 35,
   "metadata": {},
   "outputs": [
    {
     "name": "stdout",
     "output_type": "stream",
     "text": [
      "Train on 175976 samples, validate on 24531 samples\n",
      "Epoch 1/50\n",
      "175976/175976 [==============================] - 3s 16us/sample - loss: 0.8956 - acc: 0.8152 - val_loss: 0.6385 - val_acc: 0.7941\n",
      "Epoch 2/50\n",
      "175976/175976 [==============================] - 2s 14us/sample - loss: 0.7679 - acc: 0.8410 - val_loss: 0.4952 - val_acc: 0.8969\n",
      "Epoch 3/50\n",
      "175976/175976 [==============================] - 2s 14us/sample - loss: 0.7474 - acc: 0.8536 - val_loss: 0.4688 - val_acc: 0.9143\n",
      "Epoch 4/50\n",
      "175976/175976 [==============================] - 2s 14us/sample - loss: 0.7414 - acc: 0.8569 - val_loss: 0.5609 - val_acc: 0.8568\n",
      "Epoch 5/50\n",
      "175976/175976 [==============================] - 2s 14us/sample - loss: 0.7373 - acc: 0.8600 - val_loss: 0.5748 - val_acc: 0.8568\n",
      "Epoch 6/50\n",
      "175976/175976 [==============================] - 2s 14us/sample - loss: 0.7322 - acc: 0.8637 - val_loss: 0.5412 - val_acc: 0.8682\n",
      "Epoch 7/50\n",
      "175976/175976 [==============================] - 2s 14us/sample - loss: 0.7325 - acc: 0.8639 - val_loss: 0.5666 - val_acc: 0.8588\n",
      "Epoch 8/50\n",
      "175976/175976 [==============================] - 2s 14us/sample - loss: 0.7309 - acc: 0.8658 - val_loss: 0.4776 - val_acc: 0.9118\n",
      "Epoch 9/50\n",
      "175976/175976 [==============================] - 2s 14us/sample - loss: 0.7299 - acc: 0.8668 - val_loss: 0.6098 - val_acc: 0.8351\n",
      "Epoch 10/50\n",
      "175976/175976 [==============================] - 2s 14us/sample - loss: 0.7276 - acc: 0.8679 - val_loss: 0.5884 - val_acc: 0.8489\n",
      "Epoch 11/50\n",
      "175976/175976 [==============================] - 2s 14us/sample - loss: 0.7239 - acc: 0.8692 - val_loss: 0.6467 - val_acc: 0.8215\n",
      "Epoch 12/50\n",
      "175976/175976 [==============================] - 2s 14us/sample - loss: 0.5452 - acc: 0.8799 - val_loss: 0.4504 - val_acc: 0.8442\n",
      "Epoch 13/50\n",
      "175976/175976 [==============================] - 2s 14us/sample - loss: 0.5421 - acc: 0.8804 - val_loss: 0.3961 - val_acc: 0.8672\n",
      "Epoch 14/50\n",
      "175976/175976 [==============================] - 2s 14us/sample - loss: 0.5404 - acc: 0.8818 - val_loss: 0.3714 - val_acc: 0.8783\n",
      "Epoch 15/50\n",
      "175976/175976 [==============================] - 2s 14us/sample - loss: 0.5391 - acc: 0.8828 - val_loss: 0.3837 - val_acc: 0.8726\n",
      "Epoch 16/50\n",
      "175976/175976 [==============================] - 2s 14us/sample - loss: 0.5383 - acc: 0.8830 - val_loss: 0.3774 - val_acc: 0.8763\n",
      "Epoch 17/50\n",
      "175976/175976 [==============================] - 2s 14us/sample - loss: 0.5373 - acc: 0.8830 - val_loss: 0.3827 - val_acc: 0.8716\n",
      "Epoch 18/50\n",
      "175976/175976 [==============================] - 2s 14us/sample - loss: 0.5368 - acc: 0.8834 - val_loss: 0.3861 - val_acc: 0.8704\n",
      "Epoch 19/50\n",
      "175976/175976 [==============================] - 2s 14us/sample - loss: 0.5359 - acc: 0.8836 - val_loss: 0.3936 - val_acc: 0.8693\n",
      "Epoch 20/50\n",
      "175976/175976 [==============================] - 2s 14us/sample - loss: 0.5350 - acc: 0.8840 - val_loss: 0.3817 - val_acc: 0.8720\n",
      "Epoch 21/50\n",
      "175976/175976 [==============================] - 2s 14us/sample - loss: 0.5352 - acc: 0.8838 - val_loss: 0.4190 - val_acc: 0.8583\n",
      "Epoch 22/50\n",
      "175976/175976 [==============================] - 2s 14us/sample - loss: 0.5153 - acc: 0.8858 - val_loss: 0.3698 - val_acc: 0.8709\n",
      "Epoch 23/50\n",
      "175976/175976 [==============================] - 2s 14us/sample - loss: 0.5148 - acc: 0.8859 - val_loss: 0.3771 - val_acc: 0.8688\n",
      "Epoch 24/50\n",
      "175976/175976 [==============================] - 2s 14us/sample - loss: 0.5146 - acc: 0.8863 - val_loss: 0.3663 - val_acc: 0.8728\n",
      "Epoch 25/50\n",
      "175976/175976 [==============================] - 2s 14us/sample - loss: 0.5145 - acc: 0.8865 - val_loss: 0.3749 - val_acc: 0.8707\n",
      "Epoch 26/50\n",
      "175976/175976 [==============================] - 2s 14us/sample - loss: 0.5144 - acc: 0.8866 - val_loss: 0.3840 - val_acc: 0.8671\n",
      "Epoch 27/50\n",
      "175976/175976 [==============================] - 2s 14us/sample - loss: 0.5143 - acc: 0.8867 - val_loss: 0.3668 - val_acc: 0.8729\n",
      "Epoch 28/50\n",
      "175976/175976 [==============================] - 2s 14us/sample - loss: 0.5142 - acc: 0.8868 - val_loss: 0.3683 - val_acc: 0.8720\n",
      "Epoch 29/50\n",
      "175976/175976 [==============================] - 2s 14us/sample - loss: 0.5141 - acc: 0.8869 - val_loss: 0.3654 - val_acc: 0.8736\n",
      "Epoch 30/50\n",
      "175976/175976 [==============================] - 2s 14us/sample - loss: 0.5142 - acc: 0.8867 - val_loss: 0.3686 - val_acc: 0.8713\n",
      "Epoch 31/50\n",
      "175976/175976 [==============================] - 2s 14us/sample - loss: 0.5139 - acc: 0.8873 - val_loss: 0.3814 - val_acc: 0.8683\n",
      "Epoch 32/50\n",
      "175976/175976 [==============================] - 2s 14us/sample - loss: 0.5139 - acc: 0.8870 - val_loss: 0.3693 - val_acc: 0.8721\n",
      "Epoch 33/50\n",
      "175976/175976 [==============================] - 2s 14us/sample - loss: 0.5138 - acc: 0.8870 - val_loss: 0.3710 - val_acc: 0.8714\n",
      "Epoch 34/50\n",
      "175976/175976 [==============================] - 2s 14us/sample - loss: 0.5137 - acc: 0.8874 - val_loss: 0.3685 - val_acc: 0.8726\n",
      "Epoch 35/50\n",
      "175976/175976 [==============================] - 3s 15us/sample - loss: 0.5135 - acc: 0.8873 - val_loss: 0.3683 - val_acc: 0.8722\n",
      "Epoch 36/50\n",
      "175976/175976 [==============================] - 3s 15us/sample - loss: 0.5135 - acc: 0.8872 - val_loss: 0.3705 - val_acc: 0.8720\n",
      "Epoch 37/50\n",
      "175976/175976 [==============================] - 3s 15us/sample - loss: 0.5135 - acc: 0.8876 - val_loss: 0.3746 - val_acc: 0.8700\n",
      "Epoch 38/50\n",
      "175976/175976 [==============================] - 3s 15us/sample - loss: 0.5133 - acc: 0.8877 - val_loss: 0.3832 - val_acc: 0.8669\n",
      "Epoch 39/50\n",
      "175976/175976 [==============================] - 3s 15us/sample - loss: 0.5132 - acc: 0.8873 - val_loss: 0.3679 - val_acc: 0.8731\n",
      "Epoch 40/50\n",
      "175976/175976 [==============================] - 3s 15us/sample - loss: 0.5133 - acc: 0.8878 - val_loss: 0.3713 - val_acc: 0.8716\n",
      "Epoch 41/50\n",
      "175976/175976 [==============================] - 3s 15us/sample - loss: 0.5132 - acc: 0.8875 - val_loss: 0.3742 - val_acc: 0.8711\n",
      "Epoch 42/50\n",
      "175976/175976 [==============================] - 3s 15us/sample - loss: 0.5111 - acc: 0.8877 - val_loss: 0.3712 - val_acc: 0.8712\n",
      "Epoch 43/50\n",
      "175976/175976 [==============================] - 3s 15us/sample - loss: 0.5110 - acc: 0.8877 - val_loss: 0.3716 - val_acc: 0.8711\n",
      "Epoch 44/50\n",
      "175976/175976 [==============================] - 3s 15us/sample - loss: 0.5110 - acc: 0.8878 - val_loss: 0.3694 - val_acc: 0.8715\n",
      "Epoch 45/50\n",
      "175976/175976 [==============================] - 3s 15us/sample - loss: 0.5110 - acc: 0.8879 - val_loss: 0.3694 - val_acc: 0.8716\n",
      "Epoch 46/50\n",
      "175976/175976 [==============================] - 3s 15us/sample - loss: 0.5110 - acc: 0.8880 - val_loss: 0.3731 - val_acc: 0.8708\n",
      "Epoch 47/50\n",
      "175976/175976 [==============================] - 3s 15us/sample - loss: 0.5110 - acc: 0.8879 - val_loss: 0.3727 - val_acc: 0.8703\n",
      "Epoch 48/50\n",
      "175976/175976 [==============================] - 3s 15us/sample - loss: 0.5110 - acc: 0.8876 - val_loss: 0.3699 - val_acc: 0.8713\n",
      "Epoch 49/50\n",
      "175976/175976 [==============================] - 3s 15us/sample - loss: 0.5110 - acc: 0.8878 - val_loss: 0.3720 - val_acc: 0.8708\n",
      "Epoch 50/50\n",
      "175976/175976 [==============================] - 3s 15us/sample - loss: 0.5110 - acc: 0.8878 - val_loss: 0.3695 - val_acc: 0.8716\n"
     ]
    }
   ],
   "source": [
    "##### DNN model input_shape = (25,)\n",
    "ann_model1 = Sequential()\n",
    "ann_model1.add(Dense(64, input_shape=(train_set.shape[1],), kernel_regularizer=l1(0.001), activation='relu'))\n",
    "ann_model1.add(Dense(128, kernel_regularizer=l1(0.001), activation='relu'))\n",
    "ann_model1.add(Dense(256, kernel_regularizer=l1(0.001), activation='relu'))\n",
    "ann_model1.add(Dense(256, kernel_regularizer=l1(0.001), activation='relu'))\n",
    "ann_model1.add(Dense(128, activation='relu', kernel_regularizer=l1(0.001)))\n",
    "\n",
    "ann_model1.add(Dense(1, activation='sigmoid'))\n",
    "\n",
    "def schedule(epoch):\n",
    "    if epoch<=10:\n",
    "        return 1e-2\n",
    "    elif epoch<= 20:\n",
    "        return 1e-3\n",
    "    elif epoch<=40:\n",
    "        return 1e-4\n",
    "    else:\n",
    "        return 1e-5\n",
    "\n",
    "lr_schedule= LearningRateScheduler(schedule)\n",
    "class_weight = {0: 3.,\n",
    "                1: 1.}\n",
    "\n",
    "ann_model1.compile(loss='binary_crossentropy', optimizer='adam', metrics=['accuracy'])\n",
    "history = ann_model1.fit(train_set, trainy, validation_data=(val_set, valy), epochs=50, batch_size=128, \n",
    "                    shuffle=True, callbacks=[lr_schedule], class_weight=class_weight, verbose=1)"
   ]
  },
  {
   "cell_type": "code",
   "execution_count": 36,
   "metadata": {},
   "outputs": [
    {
     "name": "stdout",
     "output_type": "stream",
     "text": [
      "Model: \"sequential_7\"\n",
      "_________________________________________________________________\n",
      "Layer (type)                 Output Shape              Param #   \n",
      "=================================================================\n",
      "dense_34 (Dense)             (None, 64)                1664      \n",
      "_________________________________________________________________\n",
      "dense_35 (Dense)             (None, 128)               8320      \n",
      "_________________________________________________________________\n",
      "dense_36 (Dense)             (None, 256)               33024     \n",
      "_________________________________________________________________\n",
      "dense_37 (Dense)             (None, 256)               65792     \n",
      "_________________________________________________________________\n",
      "dense_38 (Dense)             (None, 128)               32896     \n",
      "_________________________________________________________________\n",
      "dense_39 (Dense)             (None, 1)                 129       \n",
      "=================================================================\n",
      "Total params: 141,825\n",
      "Trainable params: 141,825\n",
      "Non-trainable params: 0\n",
      "_________________________________________________________________\n"
     ]
    }
   ],
   "source": [
    "ann_model1.summary()"
   ]
  },
  {
   "cell_type": "code",
   "execution_count": null,
   "metadata": {},
   "outputs": [],
   "source": []
  },
  {
   "cell_type": "code",
   "execution_count": 38,
   "metadata": {},
   "outputs": [
    {
     "name": "stdout",
     "output_type": "stream",
     "text": [
      "19584/19584 [==============================] - 0s 6us/sample - loss: 0.3616 - acc: 0.8707\n"
     ]
    }
   ],
   "source": [
    "# evaluate model\n",
    "_, accuracy_test1 = ann_model1.evaluate(test_set, testy, batch_size=128, verbose=1)"
   ]
  },
  {
   "cell_type": "code",
   "execution_count": 55,
   "metadata": {},
   "outputs": [
    {
     "name": "stdout",
     "output_type": "stream",
     "text": [
      "24531/24531 [==============================] - 0s 11us/sample - loss: 0.3695 - acc: 0.8716\n"
     ]
    }
   ],
   "source": [
    "_, accuracy_test1 = ann_model1.evaluate(val_set, valy, batch_size=128, verbose=1) "
   ]
  },
  {
   "cell_type": "code",
   "execution_count": 56,
   "metadata": {},
   "outputs": [
    {
     "name": "stdout",
     "output_type": "stream",
     "text": [
      "175976/175976 [==============================] - 2s 14us/sample - loss: 0.3485 - acc: 0.8882\n"
     ]
    }
   ],
   "source": [
    "_, accuracy_test1 = ann_model1.evaluate(train_set, trainy, batch_size=128, verbose=1) "
   ]
  },
  {
   "cell_type": "code",
   "execution_count": null,
   "metadata": {},
   "outputs": [],
   "source": []
  },
  {
   "cell_type": "code",
   "execution_count": 23,
   "metadata": {
    "scrolled": false
   },
   "outputs": [
    {
     "data": {
      "image/png": "[encoded data removed]",
      "text/plain": [
       "<Figure size 432x288 with 1 Axes>"
      ]
     },
     "metadata": {
      "needs_background": "light"
     },
     "output_type": "display_data"
    }
   ],
   "source": [
    "#import glob\n",
    "import matplotlib.pyplot as plt\n",
    "#import cv2\n",
    "import pandas as pd\n",
    "\n",
    "import numpy as np\n",
    "from sklearn.metrics import roc_curve, auc\n",
    "\n",
    "#import models\n",
    "from keras.callbacks import ReduceLROnPlateau, ModelCheckpoint\n",
    "\n",
    "\n",
    "y_pred_test = dnn_model.predict(test_set)\n",
    "y_pred_test = y_pred_test.ravel()\n",
    "y_true_test = testy.values.ravel()\n",
    "fpr_test, tpr_test, thresholds_test = roc_curve(y_true_test, y_pred_test)\n",
    "auc_test = auc(fpr_test, tpr_test)\n",
    "\n",
    "\n",
    "y_pred_val = keras_model.predict(test_set_cnn)\n",
    "y_pred_val = y_pred_val.ravel()\n",
    "y_true_val = testy.values.ravel()\n",
    "fpr_val, tpr_val, thresholds_val = roc_curve(y_true_val, y_pred_val)\n",
    "auc_val = auc(fpr_val, tpr_val)\n",
    "\n",
    "\n",
    "\n",
    "plt.plot(fpr_val, tpr_val, label= 'CNN (area = {:.2f})'.format(auc_val))\n",
    "plt.plot(fpr_test, tpr_test, label= 'DNN (area = {:.2f})'.format(auc_test))\n",
    "plt.xlabel('False positive rate')\n",
    "plt.ylabel('True positive rate')\n",
    "plt.title('ROC curve')\n",
    "plt.grid()\n",
    "plt.legend(loc='best')\n",
    "plt.show()\n"
   ]
  },
  {
   "cell_type": "code",
   "execution_count": 24,
   "metadata": {},
   "outputs": [
    {
     "name": "stdout",
     "output_type": "stream",
     "text": [
      "19584/19584 [==============================] - 1s 42us/sample - loss: 0.3456 - acc: 0.8648\n"
     ]
    }
   ],
   "source": [
    "_, accuracy_test = keras_model.evaluate(test_set_cnn, testy, batch_size=128, verbose=1)"
   ]
  },
  {
   "cell_type": "code",
   "execution_count": 26,
   "metadata": {},
   "outputs": [
    {
     "name": "stdout",
     "output_type": "stream",
     "text": [
      "19584/19584 [==============================] - 0s 8us/sample - loss: 0.3616 - acc: 0.8707\n"
     ]
    }
   ],
   "source": [
    "_, accuracy_dnn = dnn_model.evaluate(test_set, testy, batch_size=128, verbose=1)"
   ]
  },
  {
   "cell_type": "code",
   "execution_count": 25,
   "metadata": {},
   "outputs": [
    {
     "name": "stdout",
     "output_type": "stream",
     "text": [
      "Model: \"sequential_7\"\n",
      "_________________________________________________________________\n",
      "Layer (type)                 Output Shape              Param #   \n",
      "=================================================================\n",
      "dense_34 (Dense)             (None, 64)                1664      \n",
      "_________________________________________________________________\n",
      "dense_35 (Dense)             (None, 128)               8320      \n",
      "_________________________________________________________________\n",
      "dense_36 (Dense)             (None, 256)               33024     \n",
      "_________________________________________________________________\n",
      "dense_37 (Dense)             (None, 256)               65792     \n",
      "_________________________________________________________________\n",
      "dense_38 (Dense)             (None, 128)               32896     \n",
      "_________________________________________________________________\n",
      "dense_39 (Dense)             (None, 1)                 129       \n",
      "=================================================================\n",
      "Total params: 141,825\n",
      "Trainable params: 141,825\n",
      "Non-trainable params: 0\n",
      "_________________________________________________________________\n"
     ]
    }
   ],
   "source": [
    "dnn_model.summary()"
   ]
  },
  {
   "cell_type": "code",
   "execution_count": null,
   "metadata": {},
   "outputs": [],
   "source": []
  },
  {
   "cell_type": "code",
   "execution_count": null,
   "metadata": {},
   "outputs": [],
   "source": []
  },
  {
   "cell_type": "code",
   "execution_count": null,
   "metadata": {},
   "outputs": [],
   "source": []
  },
  {
   "cell_type": "code",
   "execution_count": 18,
   "metadata": {
    "scrolled": true
   },
   "outputs": [
    {
     "name": "stdout",
     "output_type": "stream",
     "text": [
      "              precision    recall  f1-score   support\n",
      "\n",
      "         0.0       0.61      0.84      0.71      5051\n",
      "         1.0       0.94      0.81      0.87     14533\n",
      "\n",
      "    accuracy                           0.82     19584\n",
      "   macro avg       0.77      0.83      0.79     19584\n",
      "weighted avg       0.85      0.82      0.83     19584\n",
      "\n"
     ]
    }
   ],
   "source": [
    "print(classification_report(testy, y_pred))"
   ]
  },
  {
   "cell_type": "code",
   "execution_count": 20,
   "metadata": {},
   "outputs": [
    {
     "name": "stdout",
     "output_type": "stream",
     "text": [
      "              precision    recall  f1-score   support\n",
      "\n",
      "         0.0       0.58      0.92      0.71      6001\n",
      "         1.0       0.97      0.78      0.86     18530\n",
      "\n",
      "    accuracy                           0.81     24531\n",
      "   macro avg       0.77      0.85      0.79     24531\n",
      "weighted avg       0.87      0.81      0.83     24531\n",
      "\n"
     ]
    }
   ],
   "source": [
    "print(classification_report(valy, y_pred_val))"
   ]
  },
  {
   "cell_type": "code",
   "execution_count": null,
   "metadata": {},
   "outputs": [],
   "source": []
  }
 ],
 "metadata": {
  "kernelspec": {
   "display_name": "Python 3",
   "language": "python",
   "name": "python3"
  },
  "language_info": {
   "codemirror_mode": {
    "name": "ipython",
    "version": 3
   },
   "file_extension": ".py",
   "mimetype": "text/x-python",
   "name": "python",
   "nbconvert_exporter": "python",
   "pygments_lexer": "ipython3",
   "version": "3.7.6"
  }
 },
 "nbformat": 4,
 "nbformat_minor": 4
}
