{
 "cells": [
  {
   "cell_type": "code",
   "execution_count": 1,
   "metadata": {},
   "outputs": [],
   "source": [
    "import pickle\n",
    "import numpy as np\n",
    "import pandas as pd\n",
    "from pandas import DataFrame\n",
    "from pandas import read_csv\n",
    "from matplotlib import pyplot\n",
    "import matplotlib.pyplot as plt\n",
    "from tensorflow.keras.models import Sequential\n",
    "from tensorflow.keras.layers import Dense\n",
    "from tensorflow.keras.layers import Flatten\n",
    "from tensorflow.keras.layers import Dropout\n",
    "from tensorflow.keras.layers import BatchNormalization\n",
    "#from keras_layer_normalization import LayerNormalization\n",
    "from tensorflow.keras.layers import Conv1D\n",
    "from tensorflow.keras.layers import MaxPooling1D\n",
    "from tensorflow.keras.utils import to_categorical\n",
    "from tensorflow.keras.callbacks import LearningRateScheduler\n",
    "#from tensorflow.keras.layers import LayerNormalization"
   ]
  },
  {
   "cell_type": "code",
   "execution_count": 2,
   "metadata": {},
   "outputs": [],
   "source": [
    "filepath= \"processed_data/processedFrames.pkl\"\n",
    "OutputFrames = pickle.load(open(filepath, 'rb'))"
   ]
  },
  {
   "cell_type": "code",
   "execution_count": 3,
   "metadata": {},
   "outputs": [],
   "source": [
    "admission_count = 0\n",
    "rows = 0\n",
    "rows_total = 0\n",
    "df= DataFrame()\n",
    "for key, chartFrame in OutputFrames.items():\n",
    "    countFrame = chartFrame.drop(['firstICU', 'subject', 'Height (cm)', 'Non Invasive Blood Pressure mean', 'Non Invasive Blood Pressure systolic', 'Non Invasive Blood Pressure diastolic', 'Propofol','Fentanyl (Concentrate)', 'Midazolam (Versed)','Fentanyl','Dexmedetomidine (Precedex)','Morphine Sulfate','Hydromorphone (Dilaudid)','Lorazepam (Ativan)', 'SBT'], axis=1)\n",
    "    if countFrame.isnull().values.any() == False:\n",
    "        df = df.append(countFrame, ignore_index=True)\n",
    "        rows = len(countFrame.index)\n",
    "        admission_count = admission_count +1\n",
    "        rows_total = rows_total + rows"
   ]
  },
  {
   "cell_type": "code",
   "execution_count": 4,
   "metadata": {},
   "outputs": [
    {
     "data": {
      "text/html": [
       "<div>\n",
       "<style scoped>\n",
       "    .dataframe tbody tr th:only-of-type {\n",
       "        vertical-align: middle;\n",
       "    }\n",
       "\n",
       "    .dataframe tbody tr th {\n",
       "        vertical-align: top;\n",
       "    }\n",
       "\n",
       "    .dataframe thead th {\n",
       "        text-align: right;\n",
       "    }\n",
       "</style>\n",
       "<table border=\"1\" class=\"dataframe\">\n",
       "  <thead>\n",
       "    <tr style=\"text-align: right;\">\n",
       "      <th></th>\n",
       "      <th>timestamp</th>\n",
       "      <th>hadm</th>\n",
       "      <th>Admittype</th>\n",
       "      <th>Admdays</th>\n",
       "      <th>Ethnicity</th>\n",
       "      <th>Gender</th>\n",
       "      <th>Age</th>\n",
       "      <th>Admission Weight (Kg)</th>\n",
       "      <th>Heart Rate</th>\n",
       "      <th>Respiratory Rate</th>\n",
       "      <th>...</th>\n",
       "      <th>Peak Insp. Pressure</th>\n",
       "      <th>O2 Flow</th>\n",
       "      <th>Plateau Pressure</th>\n",
       "      <th>Arterial O2 pressure</th>\n",
       "      <th>Arterial CO2 Pressure</th>\n",
       "      <th>Vented</th>\n",
       "      <th>Arterial Blood Pressure systolic</th>\n",
       "      <th>Arterial Blood Pressure diastolic</th>\n",
       "      <th>Arterial Blood Pressure mean</th>\n",
       "      <th>SBT_value</th>\n",
       "    </tr>\n",
       "  </thead>\n",
       "  <tbody>\n",
       "    <tr>\n",
       "      <th>0</th>\n",
       "      <td>2161-10-11 12:00:00</td>\n",
       "      <td>196611.0</td>\n",
       "      <td>1.0</td>\n",
       "      <td>8.18</td>\n",
       "      <td>0.0</td>\n",
       "      <td>0.0</td>\n",
       "      <td>65.4</td>\n",
       "      <td>93.0</td>\n",
       "      <td>73.0</td>\n",
       "      <td>18.0</td>\n",
       "      <td>...</td>\n",
       "      <td>38.0</td>\n",
       "      <td>3.0</td>\n",
       "      <td>22.0</td>\n",
       "      <td>117.0</td>\n",
       "      <td>53.0</td>\n",
       "      <td>0.0</td>\n",
       "      <td>80.0</td>\n",
       "      <td>58.0</td>\n",
       "      <td>63.0</td>\n",
       "      <td>0.0</td>\n",
       "    </tr>\n",
       "    <tr>\n",
       "      <th>1</th>\n",
       "      <td>2161-10-11 13:00:00</td>\n",
       "      <td>196611.0</td>\n",
       "      <td>1.0</td>\n",
       "      <td>8.18</td>\n",
       "      <td>0.0</td>\n",
       "      <td>0.0</td>\n",
       "      <td>65.4</td>\n",
       "      <td>93.0</td>\n",
       "      <td>60.5</td>\n",
       "      <td>17.5</td>\n",
       "      <td>...</td>\n",
       "      <td>38.0</td>\n",
       "      <td>3.0</td>\n",
       "      <td>22.0</td>\n",
       "      <td>117.0</td>\n",
       "      <td>53.0</td>\n",
       "      <td>1.0</td>\n",
       "      <td>80.0</td>\n",
       "      <td>58.0</td>\n",
       "      <td>63.0</td>\n",
       "      <td>0.0</td>\n",
       "    </tr>\n",
       "    <tr>\n",
       "      <th>2</th>\n",
       "      <td>2161-10-11 14:00:00</td>\n",
       "      <td>196611.0</td>\n",
       "      <td>1.0</td>\n",
       "      <td>8.18</td>\n",
       "      <td>0.0</td>\n",
       "      <td>0.0</td>\n",
       "      <td>65.4</td>\n",
       "      <td>93.0</td>\n",
       "      <td>63.0</td>\n",
       "      <td>18.0</td>\n",
       "      <td>...</td>\n",
       "      <td>38.0</td>\n",
       "      <td>3.0</td>\n",
       "      <td>22.0</td>\n",
       "      <td>117.0</td>\n",
       "      <td>53.0</td>\n",
       "      <td>1.0</td>\n",
       "      <td>80.0</td>\n",
       "      <td>58.0</td>\n",
       "      <td>63.0</td>\n",
       "      <td>0.0</td>\n",
       "    </tr>\n",
       "    <tr>\n",
       "      <th>3</th>\n",
       "      <td>2161-10-11 15:00:00</td>\n",
       "      <td>196611.0</td>\n",
       "      <td>1.0</td>\n",
       "      <td>8.18</td>\n",
       "      <td>0.0</td>\n",
       "      <td>0.0</td>\n",
       "      <td>65.4</td>\n",
       "      <td>93.0</td>\n",
       "      <td>68.0</td>\n",
       "      <td>18.0</td>\n",
       "      <td>...</td>\n",
       "      <td>38.0</td>\n",
       "      <td>3.0</td>\n",
       "      <td>22.0</td>\n",
       "      <td>117.0</td>\n",
       "      <td>53.0</td>\n",
       "      <td>1.0</td>\n",
       "      <td>95.0</td>\n",
       "      <td>64.0</td>\n",
       "      <td>75.0</td>\n",
       "      <td>0.0</td>\n",
       "    </tr>\n",
       "    <tr>\n",
       "      <th>4</th>\n",
       "      <td>2161-10-11 16:00:00</td>\n",
       "      <td>196611.0</td>\n",
       "      <td>1.0</td>\n",
       "      <td>8.18</td>\n",
       "      <td>0.0</td>\n",
       "      <td>0.0</td>\n",
       "      <td>65.4</td>\n",
       "      <td>93.0</td>\n",
       "      <td>64.0</td>\n",
       "      <td>18.0</td>\n",
       "      <td>...</td>\n",
       "      <td>34.0</td>\n",
       "      <td>3.0</td>\n",
       "      <td>22.0</td>\n",
       "      <td>117.0</td>\n",
       "      <td>53.0</td>\n",
       "      <td>1.0</td>\n",
       "      <td>60.0</td>\n",
       "      <td>57.0</td>\n",
       "      <td>59.0</td>\n",
       "      <td>0.0</td>\n",
       "    </tr>\n",
       "  </tbody>\n",
       "</table>\n",
       "<p>5 rows × 29 columns</p>\n",
       "</div>"
      ],
      "text/plain": [
       "            timestamp      hadm  Admittype  Admdays  Ethnicity  Gender   Age  \\\n",
       "0 2161-10-11 12:00:00  196611.0        1.0     8.18        0.0     0.0  65.4   \n",
       "1 2161-10-11 13:00:00  196611.0        1.0     8.18        0.0     0.0  65.4   \n",
       "2 2161-10-11 14:00:00  196611.0        1.0     8.18        0.0     0.0  65.4   \n",
       "3 2161-10-11 15:00:00  196611.0        1.0     8.18        0.0     0.0  65.4   \n",
       "4 2161-10-11 16:00:00  196611.0        1.0     8.18        0.0     0.0  65.4   \n",
       "\n",
       "   Admission Weight (Kg)  Heart Rate  Respiratory Rate  ...  \\\n",
       "0                   93.0        73.0              18.0  ...   \n",
       "1                   93.0        60.5              17.5  ...   \n",
       "2                   93.0        63.0              18.0  ...   \n",
       "3                   93.0        68.0              18.0  ...   \n",
       "4                   93.0        64.0              18.0  ...   \n",
       "\n",
       "   Peak Insp. Pressure  O2 Flow  Plateau Pressure  Arterial O2 pressure  \\\n",
       "0                 38.0      3.0              22.0                 117.0   \n",
       "1                 38.0      3.0              22.0                 117.0   \n",
       "2                 38.0      3.0              22.0                 117.0   \n",
       "3                 38.0      3.0              22.0                 117.0   \n",
       "4                 34.0      3.0              22.0                 117.0   \n",
       "\n",
       "   Arterial CO2 Pressure  Vented  Arterial Blood Pressure systolic  \\\n",
       "0                   53.0     0.0                              80.0   \n",
       "1                   53.0     1.0                              80.0   \n",
       "2                   53.0     1.0                              80.0   \n",
       "3                   53.0     1.0                              95.0   \n",
       "4                   53.0     1.0                              60.0   \n",
       "\n",
       "   Arterial Blood Pressure diastolic  Arterial Blood Pressure mean  SBT_value  \n",
       "0                               58.0                          63.0        0.0  \n",
       "1                               58.0                          63.0        0.0  \n",
       "2                               58.0                          63.0        0.0  \n",
       "3                               64.0                          75.0        0.0  \n",
       "4                               57.0                          59.0        0.0  \n",
       "\n",
       "[5 rows x 29 columns]"
      ]
     },
     "execution_count": 4,
     "metadata": {},
     "output_type": "execute_result"
    }
   ],
   "source": [
    "df.head()"
   ]
  },
  {
   "cell_type": "code",
   "execution_count": 5,
   "metadata": {},
   "outputs": [],
   "source": [
    "ventilator = df['Ventilator Mode'].unique()"
   ]
  },
  {
   "cell_type": "code",
   "execution_count": 6,
   "metadata": {},
   "outputs": [
    {
     "data": {
      "text/plain": [
       "(24,)"
      ]
     },
     "execution_count": 6,
     "metadata": {},
     "output_type": "execute_result"
    }
   ],
   "source": [
    "ventilator.shape"
   ]
  },
  {
   "cell_type": "code",
   "execution_count": 7,
   "metadata": {},
   "outputs": [
    {
     "data": {
      "text/plain": [
       "array([ 0.,  1.,  2.,  6.,  7., 10., 11., 12., 13., 14., 15., 16., 17.,\n",
       "       26., 30., 45., 46., 47., 48., 49., 50., 51., 53., 71.])"
      ]
     },
     "execution_count": 7,
     "metadata": {},
     "output_type": "execute_result"
    }
   ],
   "source": [
    "np.sort(ventilator)"
   ]
  },
  {
   "cell_type": "code",
   "execution_count": 8,
   "metadata": {},
   "outputs": [],
   "source": [
    "ventilator_dictstring = {0.:'PRVC/AC', 1.:'CMV', 2.:'CMV/ASSIST', 6.:'SIMV', 7.:'SIMV/PSV', 10.:'CPAP', 11.:'CPAP/PSV', \n",
    "                         12.:'MMV', 13.:'MMV/PSV', 14.:'PCV+', 15.:'SYNCHRON MASTER', 16.:'SYNCHRON SLAVE', \n",
    "                         17.:'Apnea Ventilation', 26.:'APRV', 30.:'Standby', 45.: 'PCV+/PSV', 46.:'SIMV/AutoFlow', \n",
    "                         47.:'SIMV/PSV/AutoFlow', 48.:'CMV/AutoFlow', 49.:'CMV/ASSIST/AutoFlow', 50.:'MMV/AutoFlow',\n",
    "                         51.:'MMV/PSV/AutoFlow', 53.:'CPAP/PPS', 71.:'PCV+Assist'}"
   ]
  },
  {
   "cell_type": "code",
   "execution_count": 9,
   "metadata": {},
   "outputs": [],
   "source": [
    "ventilator_dict = {0.: 0,  1.:1,  2.:2,  6.:3,  7.:4, 10.:5, 11.:6, 12.:7, 13.:8, 14.:9, 15.:10, 16.:11, 17.:12,\n",
    "       26.:13, 30.:14, 45.:15, 46.:16, 47.:17, 48.:18, 49.:19, 50.:20, 51.:21, 53.:22, 71.:23}"
   ]
  },
  {
   "cell_type": "code",
   "execution_count": 10,
   "metadata": {},
   "outputs": [],
   "source": [
    "convert_dict = {'Admittype': int, \n",
    "                'Ethnicity': int,\n",
    "                'Gender': int,\n",
    "                'SBT_value': int,\n",
    "                'O2 saturation pulseoxymetry': int,\n",
    "                'Peak Insp. Pressure': int\n",
    "                \n",
    "               }"
   ]
  },
  {
   "cell_type": "code",
   "execution_count": 11,
   "metadata": {},
   "outputs": [],
   "source": [
    "df['ventilator_category'] = df['Ventilator Mode'].apply(lambda x:ventilator_dict[x] )"
   ]
  },
  {
   "cell_type": "code",
   "execution_count": 12,
   "metadata": {},
   "outputs": [],
   "source": [
    "df = df.astype(convert_dict) "
   ]
  },
  {
   "cell_type": "code",
   "execution_count": 13,
   "metadata": {},
   "outputs": [],
   "source": [
    "df = df.rename(columns={'Respiratory Rate (spontaneous)': 'Respiratory Rate_spontaneous'})"
   ]
  },
  {
   "cell_type": "code",
   "execution_count": 14,
   "metadata": {},
   "outputs": [
    {
     "data": {
      "text/plain": [
       "dtype('int64')"
      ]
     },
     "execution_count": 14,
     "metadata": {},
     "output_type": "execute_result"
    }
   ],
   "source": [
    "df['Admittype'].dtype"
   ]
  },
  {
   "cell_type": "code",
   "execution_count": 15,
   "metadata": {},
   "outputs": [],
   "source": [
    "df.to_csv('data/orginal_data.csv', index= False)"
   ]
  },
  {
   "cell_type": "code",
   "execution_count": 16,
   "metadata": {},
   "outputs": [],
   "source": [
    "# now split into train/validation/test sets\n",
    "import random\n",
    "#unique_ids = [*OutputFrames]\n",
    "unique_ids = df['hadm'].unique()\n",
    "random.shuffle(unique_ids)\n",
    "train_sample = 0.8\n",
    "val_sample = 0.1\n",
    "test_sample = 0.1\n",
    "train_num = int(len(unique_ids) * 0.8)\n",
    "val_num = int(len(unique_ids)*0.1) + train_num\n",
    "train_ids = unique_ids[:train_num]\n",
    "val_ids = unique_ids[train_num:val_num]\n",
    "test_ids = unique_ids[val_num:]"
   ]
  },
  {
   "cell_type": "code",
   "execution_count": 17,
   "metadata": {},
   "outputs": [],
   "source": [
    "train_set = DataFrame()\n",
    "train_set = df.loc[df['hadm'].isin(train_ids)]\n",
    "\n",
    "val_set = DataFrame()\n",
    "val_set = df.loc[df['hadm'].isin(val_ids)]\n",
    "\n",
    "test_set = DataFrame()\n",
    "test_set = df.loc[df['hadm'].isin(test_ids)]"
   ]
  },
  {
   "cell_type": "code",
   "execution_count": 18,
   "metadata": {},
   "outputs": [
    {
     "data": {
      "text/plain": [
       "(2685, 2148, 269, 268, 301964, 2685)"
      ]
     },
     "execution_count": 18,
     "metadata": {},
     "output_type": "execute_result"
    }
   ],
   "source": [
    "len(unique_ids), len(train_ids), len(test_ids), len(val_ids), rows_total, admission_count"
   ]
  },
  {
   "cell_type": "code",
   "execution_count": 19,
   "metadata": {},
   "outputs": [],
   "source": [
    "train_set = train_set.drop(['timestamp', 'hadm', 'Admdays', 'Ventilator Mode'], axis=1)\n",
    "val_set = val_set.drop(['timestamp', 'hadm', 'Admdays', 'Ventilator Mode'], axis=1)\n",
    "test_set = test_set.drop(['timestamp', 'hadm', 'Admdays', 'Ventilator Mode'], axis=1)"
   ]
  },
  {
   "cell_type": "code",
   "execution_count": 20,
   "metadata": {
    "scrolled": true
   },
   "outputs": [
    {
     "data": {
      "text/html": [
       "<div>\n",
       "<style scoped>\n",
       "    .dataframe tbody tr th:only-of-type {\n",
       "        vertical-align: middle;\n",
       "    }\n",
       "\n",
       "    .dataframe tbody tr th {\n",
       "        vertical-align: top;\n",
       "    }\n",
       "\n",
       "    .dataframe thead th {\n",
       "        text-align: right;\n",
       "    }\n",
       "</style>\n",
       "<table border=\"1\" class=\"dataframe\">\n",
       "  <thead>\n",
       "    <tr style=\"text-align: right;\">\n",
       "      <th></th>\n",
       "      <th>Admittype</th>\n",
       "      <th>Ethnicity</th>\n",
       "      <th>Gender</th>\n",
       "      <th>Age</th>\n",
       "      <th>Admission Weight (Kg)</th>\n",
       "      <th>Heart Rate</th>\n",
       "      <th>Respiratory Rate</th>\n",
       "      <th>O2 saturation pulseoxymetry</th>\n",
       "      <th>Inspired O2 Fraction</th>\n",
       "      <th>PEEP set</th>\n",
       "      <th>...</th>\n",
       "      <th>O2 Flow</th>\n",
       "      <th>Plateau Pressure</th>\n",
       "      <th>Arterial O2 pressure</th>\n",
       "      <th>Arterial CO2 Pressure</th>\n",
       "      <th>Vented</th>\n",
       "      <th>Arterial Blood Pressure systolic</th>\n",
       "      <th>Arterial Blood Pressure diastolic</th>\n",
       "      <th>Arterial Blood Pressure mean</th>\n",
       "      <th>SBT_value</th>\n",
       "      <th>ventilator_category</th>\n",
       "    </tr>\n",
       "  </thead>\n",
       "  <tbody>\n",
       "    <tr>\n",
       "      <th>187</th>\n",
       "      <td>1</td>\n",
       "      <td>0</td>\n",
       "      <td>0</td>\n",
       "      <td>63.9</td>\n",
       "      <td>113.0</td>\n",
       "      <td>85.4</td>\n",
       "      <td>16.25</td>\n",
       "      <td>100</td>\n",
       "      <td>100.0</td>\n",
       "      <td>5.0</td>\n",
       "      <td>...</td>\n",
       "      <td>12.0</td>\n",
       "      <td>19.0</td>\n",
       "      <td>103.0</td>\n",
       "      <td>35.0</td>\n",
       "      <td>0.0</td>\n",
       "      <td>112.4</td>\n",
       "      <td>59.60</td>\n",
       "      <td>77.2</td>\n",
       "      <td>0</td>\n",
       "      <td>2</td>\n",
       "    </tr>\n",
       "    <tr>\n",
       "      <th>188</th>\n",
       "      <td>1</td>\n",
       "      <td>0</td>\n",
       "      <td>0</td>\n",
       "      <td>63.9</td>\n",
       "      <td>113.0</td>\n",
       "      <td>90.5</td>\n",
       "      <td>15.75</td>\n",
       "      <td>100</td>\n",
       "      <td>100.0</td>\n",
       "      <td>5.0</td>\n",
       "      <td>...</td>\n",
       "      <td>12.0</td>\n",
       "      <td>19.0</td>\n",
       "      <td>90.0</td>\n",
       "      <td>43.0</td>\n",
       "      <td>1.0</td>\n",
       "      <td>106.5</td>\n",
       "      <td>56.25</td>\n",
       "      <td>71.0</td>\n",
       "      <td>0</td>\n",
       "      <td>2</td>\n",
       "    </tr>\n",
       "    <tr>\n",
       "      <th>189</th>\n",
       "      <td>1</td>\n",
       "      <td>0</td>\n",
       "      <td>0</td>\n",
       "      <td>63.9</td>\n",
       "      <td>113.0</td>\n",
       "      <td>91.5</td>\n",
       "      <td>17.50</td>\n",
       "      <td>100</td>\n",
       "      <td>70.0</td>\n",
       "      <td>10.0</td>\n",
       "      <td>...</td>\n",
       "      <td>12.0</td>\n",
       "      <td>23.0</td>\n",
       "      <td>167.0</td>\n",
       "      <td>39.0</td>\n",
       "      <td>1.0</td>\n",
       "      <td>106.0</td>\n",
       "      <td>56.50</td>\n",
       "      <td>71.0</td>\n",
       "      <td>0</td>\n",
       "      <td>19</td>\n",
       "    </tr>\n",
       "    <tr>\n",
       "      <th>190</th>\n",
       "      <td>1</td>\n",
       "      <td>0</td>\n",
       "      <td>0</td>\n",
       "      <td>63.9</td>\n",
       "      <td>113.0</td>\n",
       "      <td>90.0</td>\n",
       "      <td>18.00</td>\n",
       "      <td>100</td>\n",
       "      <td>70.0</td>\n",
       "      <td>10.0</td>\n",
       "      <td>...</td>\n",
       "      <td>12.0</td>\n",
       "      <td>23.0</td>\n",
       "      <td>111.0</td>\n",
       "      <td>35.0</td>\n",
       "      <td>1.0</td>\n",
       "      <td>106.0</td>\n",
       "      <td>58.00</td>\n",
       "      <td>73.0</td>\n",
       "      <td>0</td>\n",
       "      <td>19</td>\n",
       "    </tr>\n",
       "    <tr>\n",
       "      <th>191</th>\n",
       "      <td>1</td>\n",
       "      <td>0</td>\n",
       "      <td>0</td>\n",
       "      <td>63.9</td>\n",
       "      <td>113.0</td>\n",
       "      <td>94.0</td>\n",
       "      <td>18.00</td>\n",
       "      <td>100</td>\n",
       "      <td>50.0</td>\n",
       "      <td>10.0</td>\n",
       "      <td>...</td>\n",
       "      <td>12.0</td>\n",
       "      <td>23.0</td>\n",
       "      <td>111.0</td>\n",
       "      <td>35.0</td>\n",
       "      <td>1.0</td>\n",
       "      <td>95.0</td>\n",
       "      <td>56.00</td>\n",
       "      <td>68.0</td>\n",
       "      <td>0</td>\n",
       "      <td>6</td>\n",
       "    </tr>\n",
       "  </tbody>\n",
       "</table>\n",
       "<p>5 rows × 26 columns</p>\n",
       "</div>"
      ],
      "text/plain": [
       "     Admittype  Ethnicity  Gender   Age  Admission Weight (Kg)  Heart Rate  \\\n",
       "187          1          0       0  63.9                  113.0        85.4   \n",
       "188          1          0       0  63.9                  113.0        90.5   \n",
       "189          1          0       0  63.9                  113.0        91.5   \n",
       "190          1          0       0  63.9                  113.0        90.0   \n",
       "191          1          0       0  63.9                  113.0        94.0   \n",
       "\n",
       "     Respiratory Rate  O2 saturation pulseoxymetry  Inspired O2 Fraction  \\\n",
       "187             16.25                          100                 100.0   \n",
       "188             15.75                          100                 100.0   \n",
       "189             17.50                          100                  70.0   \n",
       "190             18.00                          100                  70.0   \n",
       "191             18.00                          100                  50.0   \n",
       "\n",
       "     PEEP set  ...  O2 Flow  Plateau Pressure  Arterial O2 pressure  \\\n",
       "187       5.0  ...     12.0              19.0                 103.0   \n",
       "188       5.0  ...     12.0              19.0                  90.0   \n",
       "189      10.0  ...     12.0              23.0                 167.0   \n",
       "190      10.0  ...     12.0              23.0                 111.0   \n",
       "191      10.0  ...     12.0              23.0                 111.0   \n",
       "\n",
       "     Arterial CO2 Pressure  Vented  Arterial Blood Pressure systolic  \\\n",
       "187                   35.0     0.0                             112.4   \n",
       "188                   43.0     1.0                             106.5   \n",
       "189                   39.0     1.0                             106.0   \n",
       "190                   35.0     1.0                             106.0   \n",
       "191                   35.0     1.0                              95.0   \n",
       "\n",
       "     Arterial Blood Pressure diastolic  Arterial Blood Pressure mean  \\\n",
       "187                              59.60                          77.2   \n",
       "188                              56.25                          71.0   \n",
       "189                              56.50                          71.0   \n",
       "190                              58.00                          73.0   \n",
       "191                              56.00                          68.0   \n",
       "\n",
       "     SBT_value  ventilator_category  \n",
       "187          0                    2  \n",
       "188          0                    2  \n",
       "189          0                   19  \n",
       "190          0                   19  \n",
       "191          0                    6  \n",
       "\n",
       "[5 rows x 26 columns]"
      ]
     },
     "execution_count": 20,
     "metadata": {},
     "output_type": "execute_result"
    }
   ],
   "source": [
    "train_set.head()"
   ]
  },
  {
   "cell_type": "code",
   "execution_count": 21,
   "metadata": {},
   "outputs": [],
   "source": [
    "# now get the y lable #\n",
    "trainy = train_set['Vented']\n",
    "valy = val_set['Vented']\n",
    "testy = test_set['Vented']"
   ]
  },
  {
   "cell_type": "code",
   "execution_count": 22,
   "metadata": {},
   "outputs": [],
   "source": [
    "train_set = train_set.drop(['Vented'], axis=1)\n",
    "val_set = val_set.drop(['Vented'], axis=1)\n",
    "test_set = test_set.drop(['Vented'], axis=1)"
   ]
  },
  {
   "cell_type": "code",
   "execution_count": 23,
   "metadata": {},
   "outputs": [],
   "source": [
    "trainy.to_csv('data/trainy.csv', index=False)\n",
    "valy.to_csv('data/valy.csv', index=False)\n",
    "testy.to_csv('data/testy.csv', index=False)"
   ]
  },
  {
   "cell_type": "code",
   "execution_count": 24,
   "metadata": {},
   "outputs": [],
   "source": [
    "train_set.to_csv('data/train_set.csv',index = False)\n",
    "val_set.to_csv('data/val_set.csv', index = False)\n",
    "test_set.to_csv('data/test_set.csv', index = False)"
   ]
  },
  {
   "cell_type": "code",
   "execution_count": 25,
   "metadata": {},
   "outputs": [],
   "source": [
    "# make the range between 0 and 1\n",
    "column = list(train_set.columns.values)\n",
    "for col in column:\n",
    "    minimum = df[col].min()\n",
    "    maximum = df[col].max()\n",
    "    train_set[col] = (train_set[col] - minimum)/(maximum-minimum)\n",
    "    val_set[col] = (val_set[col] - minimum)/(maximum-minimum)\n",
    "    test_set[col] = (test_set[col] - minimum)/(maximum-minimum)"
   ]
  },
  {
   "cell_type": "code",
   "execution_count": 26,
   "metadata": {},
   "outputs": [],
   "source": [
    "train_set.to_csv('data/train_set_scaled.csv', index=False)\n",
    "val_set.to_csv('data/val_set_scaled.csv', index=False)\n",
    "test_set.to_csv('data/test_set_scaled.csv', index=False)"
   ]
  },
  {
   "cell_type": "code",
   "execution_count": 27,
   "metadata": {},
   "outputs": [
    {
     "data": {
      "text/html": [
       "<div>\n",
       "<style scoped>\n",
       "    .dataframe tbody tr th:only-of-type {\n",
       "        vertical-align: middle;\n",
       "    }\n",
       "\n",
       "    .dataframe tbody tr th {\n",
       "        vertical-align: top;\n",
       "    }\n",
       "\n",
       "    .dataframe thead th {\n",
       "        text-align: right;\n",
       "    }\n",
       "</style>\n",
       "<table border=\"1\" class=\"dataframe\">\n",
       "  <thead>\n",
       "    <tr style=\"text-align: right;\">\n",
       "      <th></th>\n",
       "      <th>Admittype</th>\n",
       "      <th>Ethnicity</th>\n",
       "      <th>Gender</th>\n",
       "      <th>Age</th>\n",
       "      <th>Admission Weight (Kg)</th>\n",
       "      <th>Heart Rate</th>\n",
       "      <th>Respiratory Rate</th>\n",
       "      <th>O2 saturation pulseoxymetry</th>\n",
       "      <th>Inspired O2 Fraction</th>\n",
       "      <th>PEEP set</th>\n",
       "      <th>...</th>\n",
       "      <th>Peak Insp. Pressure</th>\n",
       "      <th>O2 Flow</th>\n",
       "      <th>Plateau Pressure</th>\n",
       "      <th>Arterial O2 pressure</th>\n",
       "      <th>Arterial CO2 Pressure</th>\n",
       "      <th>Arterial Blood Pressure systolic</th>\n",
       "      <th>Arterial Blood Pressure diastolic</th>\n",
       "      <th>Arterial Blood Pressure mean</th>\n",
       "      <th>SBT_value</th>\n",
       "      <th>ventilator_category</th>\n",
       "    </tr>\n",
       "  </thead>\n",
       "  <tbody>\n",
       "    <tr>\n",
       "      <th>187</th>\n",
       "      <td>1.0</td>\n",
       "      <td>0.0</td>\n",
       "      <td>0.0</td>\n",
       "      <td>0.160027</td>\n",
       "      <td>0.680437</td>\n",
       "      <td>0.367296</td>\n",
       "      <td>0.101562</td>\n",
       "      <td>1.0</td>\n",
       "      <td>1.0</td>\n",
       "      <td>0.333333</td>\n",
       "      <td>...</td>\n",
       "      <td>0.354839</td>\n",
       "      <td>0.628571</td>\n",
       "      <td>0.454545</td>\n",
       "      <td>0.254950</td>\n",
       "      <td>0.313433</td>\n",
       "      <td>0.393469</td>\n",
       "      <td>0.195885</td>\n",
       "      <td>0.194220</td>\n",
       "      <td>0.5</td>\n",
       "      <td>0.086957</td>\n",
       "    </tr>\n",
       "    <tr>\n",
       "      <th>188</th>\n",
       "      <td>1.0</td>\n",
       "      <td>0.0</td>\n",
       "      <td>0.0</td>\n",
       "      <td>0.160027</td>\n",
       "      <td>0.680437</td>\n",
       "      <td>0.399371</td>\n",
       "      <td>0.098437</td>\n",
       "      <td>1.0</td>\n",
       "      <td>1.0</td>\n",
       "      <td>0.333333</td>\n",
       "      <td>...</td>\n",
       "      <td>0.354839</td>\n",
       "      <td>0.628571</td>\n",
       "      <td>0.454545</td>\n",
       "      <td>0.222772</td>\n",
       "      <td>0.432836</td>\n",
       "      <td>0.369388</td>\n",
       "      <td>0.182099</td>\n",
       "      <td>0.176301</td>\n",
       "      <td>0.5</td>\n",
       "      <td>0.086957</td>\n",
       "    </tr>\n",
       "    <tr>\n",
       "      <th>189</th>\n",
       "      <td>1.0</td>\n",
       "      <td>0.0</td>\n",
       "      <td>0.0</td>\n",
       "      <td>0.160027</td>\n",
       "      <td>0.680437</td>\n",
       "      <td>0.405660</td>\n",
       "      <td>0.109375</td>\n",
       "      <td>1.0</td>\n",
       "      <td>0.7</td>\n",
       "      <td>0.666667</td>\n",
       "      <td>...</td>\n",
       "      <td>0.435484</td>\n",
       "      <td>0.628571</td>\n",
       "      <td>0.575758</td>\n",
       "      <td>0.413366</td>\n",
       "      <td>0.373134</td>\n",
       "      <td>0.367347</td>\n",
       "      <td>0.183128</td>\n",
       "      <td>0.176301</td>\n",
       "      <td>0.5</td>\n",
       "      <td>0.826087</td>\n",
       "    </tr>\n",
       "    <tr>\n",
       "      <th>190</th>\n",
       "      <td>1.0</td>\n",
       "      <td>0.0</td>\n",
       "      <td>0.0</td>\n",
       "      <td>0.160027</td>\n",
       "      <td>0.680437</td>\n",
       "      <td>0.396226</td>\n",
       "      <td>0.112500</td>\n",
       "      <td>1.0</td>\n",
       "      <td>0.7</td>\n",
       "      <td>0.666667</td>\n",
       "      <td>...</td>\n",
       "      <td>0.435484</td>\n",
       "      <td>0.628571</td>\n",
       "      <td>0.575758</td>\n",
       "      <td>0.274752</td>\n",
       "      <td>0.313433</td>\n",
       "      <td>0.367347</td>\n",
       "      <td>0.189300</td>\n",
       "      <td>0.182081</td>\n",
       "      <td>0.5</td>\n",
       "      <td>0.826087</td>\n",
       "    </tr>\n",
       "    <tr>\n",
       "      <th>191</th>\n",
       "      <td>1.0</td>\n",
       "      <td>0.0</td>\n",
       "      <td>0.0</td>\n",
       "      <td>0.160027</td>\n",
       "      <td>0.680437</td>\n",
       "      <td>0.421384</td>\n",
       "      <td>0.112500</td>\n",
       "      <td>1.0</td>\n",
       "      <td>0.5</td>\n",
       "      <td>0.666667</td>\n",
       "      <td>...</td>\n",
       "      <td>0.435484</td>\n",
       "      <td>0.628571</td>\n",
       "      <td>0.575758</td>\n",
       "      <td>0.274752</td>\n",
       "      <td>0.313433</td>\n",
       "      <td>0.322449</td>\n",
       "      <td>0.181070</td>\n",
       "      <td>0.167630</td>\n",
       "      <td>0.5</td>\n",
       "      <td>0.260870</td>\n",
       "    </tr>\n",
       "  </tbody>\n",
       "</table>\n",
       "<p>5 rows × 25 columns</p>\n",
       "</div>"
      ],
      "text/plain": [
       "     Admittype  Ethnicity  Gender       Age  Admission Weight (Kg)  \\\n",
       "187        1.0        0.0     0.0  0.160027               0.680437   \n",
       "188        1.0        0.0     0.0  0.160027               0.680437   \n",
       "189        1.0        0.0     0.0  0.160027               0.680437   \n",
       "190        1.0        0.0     0.0  0.160027               0.680437   \n",
       "191        1.0        0.0     0.0  0.160027               0.680437   \n",
       "\n",
       "     Heart Rate  Respiratory Rate  O2 saturation pulseoxymetry  \\\n",
       "187    0.367296          0.101562                          1.0   \n",
       "188    0.399371          0.098437                          1.0   \n",
       "189    0.405660          0.109375                          1.0   \n",
       "190    0.396226          0.112500                          1.0   \n",
       "191    0.421384          0.112500                          1.0   \n",
       "\n",
       "     Inspired O2 Fraction  PEEP set  ...  Peak Insp. Pressure   O2 Flow  \\\n",
       "187                   1.0  0.333333  ...             0.354839  0.628571   \n",
       "188                   1.0  0.333333  ...             0.354839  0.628571   \n",
       "189                   0.7  0.666667  ...             0.435484  0.628571   \n",
       "190                   0.7  0.666667  ...             0.435484  0.628571   \n",
       "191                   0.5  0.666667  ...             0.435484  0.628571   \n",
       "\n",
       "     Plateau Pressure  Arterial O2 pressure  Arterial CO2 Pressure  \\\n",
       "187          0.454545              0.254950               0.313433   \n",
       "188          0.454545              0.222772               0.432836   \n",
       "189          0.575758              0.413366               0.373134   \n",
       "190          0.575758              0.274752               0.313433   \n",
       "191          0.575758              0.274752               0.313433   \n",
       "\n",
       "     Arterial Blood Pressure systolic  Arterial Blood Pressure diastolic  \\\n",
       "187                          0.393469                           0.195885   \n",
       "188                          0.369388                           0.182099   \n",
       "189                          0.367347                           0.183128   \n",
       "190                          0.367347                           0.189300   \n",
       "191                          0.322449                           0.181070   \n",
       "\n",
       "     Arterial Blood Pressure mean  SBT_value  ventilator_category  \n",
       "187                      0.194220        0.5             0.086957  \n",
       "188                      0.176301        0.5             0.086957  \n",
       "189                      0.176301        0.5             0.826087  \n",
       "190                      0.182081        0.5             0.826087  \n",
       "191                      0.167630        0.5             0.260870  \n",
       "\n",
       "[5 rows x 25 columns]"
      ]
     },
     "execution_count": 27,
     "metadata": {},
     "output_type": "execute_result"
    }
   ],
   "source": [
    "train_set.head()"
   ]
  },
  {
   "cell_type": "code",
   "execution_count": null,
   "metadata": {},
   "outputs": [],
   "source": []
  },
  {
   "cell_type": "code",
   "execution_count": null,
   "metadata": {},
   "outputs": [],
   "source": []
  },
  {
   "cell_type": "code",
   "execution_count": null,
   "metadata": {},
   "outputs": [],
   "source": [
    "############################################\n",
    "############ find the class weight ##########\n",
    "ynew = model.predict(train_set)"
   ]
  },
  {
   "cell_type": "code",
   "execution_count": null,
   "metadata": {},
   "outputs": [],
   "source": [
    "ynew = np.argmax(ynew, axis=1)"
   ]
  },
  {
   "cell_type": "code",
   "execution_count": null,
   "metadata": {},
   "outputs": [],
   "source": [
    "zerocount = 0\n",
    "onecount = 0\n",
    "for i in range(len(ynew)):\n",
    "    if ynew[i] == 0:\n",
    "        zerocount = zerocount +1\n",
    "    else:\n",
    "        onecount = onecount + 1"
   ]
  },
  {
   "cell_type": "code",
   "execution_count": null,
   "metadata": {},
   "outputs": [],
   "source": [
    "testy_count=read_csv('data/trainy.csv')"
   ]
  },
  {
   "cell_type": "code",
   "execution_count": null,
   "metadata": {},
   "outputs": [],
   "source": [
    "zero = testy_count[testy_count['Vented']==0]"
   ]
  },
  {
   "cell_type": "code",
   "execution_count": null,
   "metadata": {},
   "outputs": [],
   "source": [
    "zero.shape"
   ]
  },
  {
   "cell_type": "code",
   "execution_count": null,
   "metadata": {},
   "outputs": [],
   "source": [
    "one = testy_count[testy_count['Vented']==1]"
   ]
  },
  {
   "cell_type": "code",
   "execution_count": null,
   "metadata": {},
   "outputs": [],
   "source": [
    "one.shape\n",
    "########################## use the real class lable ratio to update ##############"
   ]
  },
  {
   "cell_type": "code",
   "execution_count": null,
   "metadata": {},
   "outputs": [],
   "source": []
  },
  {
   "cell_type": "code",
   "execution_count": null,
   "metadata": {
    "scrolled": true
   },
   "outputs": [],
   "source": []
  },
  {
   "cell_type": "code",
   "execution_count": null,
   "metadata": {},
   "outputs": [],
   "source": [
    "# summarize scores\n",
    "def summarize_results(scores):\n",
    "    m, s = np.mean(scores), np.std(scores)\n",
    "    print('Accuracy: %.3f%% (+/-%.3f)' % (m, s))"
   ]
  },
  {
   "cell_type": "code",
   "execution_count": null,
   "metadata": {},
   "outputs": [],
   "source": [
    "scores = []\n",
    "for i in range(3):\n",
    "    model.fit(train_set, trainy, epochs=epochs, batch_size=batch_size, verbose=1)\n",
    "    _, accuracy_val = model.evaluate(val_set, valy, batch_size=batch_size, verbose=0) \n",
    "    accuracy_val = accuracy_val *100\n",
    "    print('>#%d: %.3f' % (i+1, accuracy_val))\n",
    "    scores.append(accuracy_val)\n"
   ]
  },
  {
   "cell_type": "code",
   "execution_count": null,
   "metadata": {},
   "outputs": [],
   "source": [
    "summarize_results(scores)"
   ]
  },
  {
   "cell_type": "code",
   "execution_count": null,
   "metadata": {},
   "outputs": [],
   "source": [
    "model.summary()"
   ]
  },
  {
   "cell_type": "code",
   "execution_count": null,
   "metadata": {},
   "outputs": [],
   "source": []
  }
 ],
 "metadata": {
  "kernelspec": {
   "display_name": "Python 3",
   "language": "python",
   "name": "python3"
  },
  "language_info": {
   "codemirror_mode": {
    "name": "ipython",
    "version": 3
   },
   "file_extension": ".py",
   "mimetype": "text/x-python",
   "name": "python",
   "nbconvert_exporter": "python",
   "pygments_lexer": "ipython3",
   "version": "3.7.6"
  }
 },
 "nbformat": 4,
 "nbformat_minor": 4
}
